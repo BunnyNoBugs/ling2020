{
 "cells": [
  {
   "cell_type": "markdown",
   "metadata": {
    "id": "zYanPKtzELqm"
   },
   "source": [
    "# Основы ООП"
   ]
  },
  {
   "cell_type": "markdown",
   "metadata": {
    "id": "aH06m9pW7dK7"
   },
   "source": [
    "## Класс и экземпляр"
   ]
  },
  {
   "cell_type": "code",
   "execution_count": 1,
   "metadata": {
    "id": "9akaQ7eH7djJ"
   },
   "outputs": [],
   "source": [
    "from collections import Counter"
   ]
  },
  {
   "cell_type": "code",
   "execution_count": 2,
   "metadata": {
    "id": "Q_H3-jMqoQ2c"
   },
   "outputs": [],
   "source": [
    "cnt = Counter('khgkrhiurunfumxxer')"
   ]
  },
  {
   "cell_type": "markdown",
   "metadata": {
    "id": "W3pQ3wCAtv90"
   },
   "source": [
    "Вопрос:\n",
    "+ что такое cnt, что такое Counter? - cnt - экземпляр класса Counter, -Counter - класс\n",
    "+ что мы только что сделали? - импортировали класс и создали его экземпляр"
   ]
  },
  {
   "cell_type": "markdown",
   "metadata": {
    "id": "ou8SKCJg56mE"
   },
   "source": [
    "### Пример пользовательского класса"
   ]
  },
  {
   "cell_type": "code",
   "execution_count": 5,
   "metadata": {
    "id": "lTo6NJ2_5903"
   },
   "outputs": [],
   "source": [
    "class Animal:\n",
    "    \"\"\"\n",
    "    Docstring\n",
    "    \"\"\"\n",
    " \n",
    "    # конструктор, вызывается при создании объекта \n",
    "    def __init__(self, name, legs, scariness):\n",
    "        \"\"\"\n",
    "        Constructor\n",
    "        \"\"\"\n",
    "        self.name = name # атрибуты (поля) класса\n",
    "        self.legs = legs\n",
    "        self.scariness = scariness\n",
    "        \n",
    "    \n",
    "    # метод класса\n",
    "    def introduce(self): \n",
    "        \"\"\"\n",
    "        Make animal introduce itself!\n",
    "        \"\"\"\n",
    "        print (\"Hello! My name is %s!\" % self.name)\n",
    "    \n",
    "    # метод класса\n",
    "    def sound(self):\n",
    "        \"\"\"\n",
    "        What does the animal say?\n",
    "        \"\"\"\n",
    "        print (\"Sound!\")\n"
   ]
  },
  {
   "cell_type": "markdown",
   "metadata": {
    "id": "BbYYgPG9yvuU"
   },
   "source": [
    "+ Название класса - всегда с большой буквы, всегда CamelCase\n",
    "+ Обязательный первый аргумент у всех методов класса - ***self***, переменная self ссылается на объект класса и позволяет получить доступ к атрибутам и методам. "
   ]
  },
  {
   "cell_type": "markdown",
   "metadata": {
    "id": "u01Qc41q7HMo"
   },
   "source": [
    "### Документация"
   ]
  },
  {
   "cell_type": "markdown",
   "metadata": {
    "id": "3BZFBkLZ6WND"
   },
   "source": [
    "Встроенная документация в тройных кавычках. Можно напечатать с помощью функции **help**. \n",
    "Выдаст нам ифнормацию о том, какие методы есть в классе и документацию к ним. "
   ]
  },
  {
   "cell_type": "code",
   "execution_count": 6,
   "metadata": {
    "colab": {
     "base_uri": "https://localhost:8080/"
    },
    "id": "ZcYpDqty7s7j",
    "outputId": "f152025f-5427-498d-cad2-4d17bba76ab2"
   },
   "outputs": [
    {
     "name": "stdout",
     "output_type": "stream",
     "text": [
      "Help on class Animal in module __main__:\n",
      "\n",
      "class Animal(builtins.object)\n",
      " |  Animal(name, legs, scariness)\n",
      " |  \n",
      " |  Docstring\n",
      " |  \n",
      " |  Methods defined here:\n",
      " |  \n",
      " |  __init__(self, name, legs, scariness)\n",
      " |      Constructor\n",
      " |  \n",
      " |  introduce(self)\n",
      " |      Make animal introduce itself!\n",
      " |  \n",
      " |  sound(self)\n",
      " |      What does the animal say?\n",
      " |  \n",
      " |  ----------------------------------------------------------------------\n",
      " |  Data descriptors defined here:\n",
      " |  \n",
      " |  __dict__\n",
      " |      dictionary for instance variables (if defined)\n",
      " |  \n",
      " |  __weakref__\n",
      " |      list of weak references to the object (if defined)\n",
      "\n"
     ]
    }
   ],
   "source": [
    "help(Animal) # от объекта класса"
   ]
  },
  {
   "cell_type": "code",
   "execution_count": 7,
   "metadata": {
    "colab": {
     "base_uri": "https://localhost:8080/"
    },
    "id": "uyNh_Oni-eDR",
    "outputId": "e23a7ea4-7701-47ec-cbed-ff3b2414e3ff"
   },
   "outputs": [
    {
     "name": "stdout",
     "output_type": "stream",
     "text": [
      "Help on Animal in module __main__ object:\n",
      "\n",
      "class Animal(builtins.object)\n",
      " |  Animal(name, legs, scariness)\n",
      " |  \n",
      " |  Docstring\n",
      " |  \n",
      " |  Methods defined here:\n",
      " |  \n",
      " |  __init__(self, name, legs, scariness)\n",
      " |      Constructor\n",
      " |  \n",
      " |  introduce(self)\n",
      " |      Make animal introduce itself!\n",
      " |  \n",
      " |  sound(self)\n",
      " |      What does the animal say?\n",
      " |  \n",
      " |  ----------------------------------------------------------------------\n",
      " |  Data descriptors defined here:\n",
      " |  \n",
      " |  __dict__\n",
      " |      dictionary for instance variables (if defined)\n",
      " |  \n",
      " |  __weakref__\n",
      " |      list of weak references to the object (if defined)\n",
      "\n"
     ]
    }
   ],
   "source": [
    "animal = Animal('Animal', 4, 1)\n",
    "help(animal) # от объекта экземпляра класса"
   ]
  },
  {
   "cell_type": "markdown",
   "metadata": {
    "id": "q9Fc5TCm7uCz"
   },
   "source": [
    "#### dir()"
   ]
  },
  {
   "cell_type": "markdown",
   "metadata": {
    "id": "PFc6yj5p7y5m"
   },
   "source": [
    "Также информацию о свойствах класса/экземпляра можно получить с помощью функции ***dir()***\n",
    "Она озвращает имена переменных, доступные в локальной области, либо атрибуты указанного объекта в алфавитном порядке."
   ]
  },
  {
   "cell_type": "code",
   "execution_count": 8,
   "metadata": {
    "colab": {
     "base_uri": "https://localhost:8080/"
    },
    "id": "QmLqBOTp7Ugx",
    "outputId": "18cd45bf-c43c-4617-dd6d-fb10403c34ca"
   },
   "outputs": [
    {
     "data": {
      "text/plain": [
       "['__class__',\n",
       " '__delattr__',\n",
       " '__dict__',\n",
       " '__dir__',\n",
       " '__doc__',\n",
       " '__eq__',\n",
       " '__format__',\n",
       " '__ge__',\n",
       " '__getattribute__',\n",
       " '__gt__',\n",
       " '__hash__',\n",
       " '__init__',\n",
       " '__init_subclass__',\n",
       " '__le__',\n",
       " '__lt__',\n",
       " '__module__',\n",
       " '__ne__',\n",
       " '__new__',\n",
       " '__reduce__',\n",
       " '__reduce_ex__',\n",
       " '__repr__',\n",
       " '__setattr__',\n",
       " '__sizeof__',\n",
       " '__str__',\n",
       " '__subclasshook__',\n",
       " '__weakref__',\n",
       " 'introduce',\n",
       " 'sound']"
      ]
     },
     "execution_count": 8,
     "metadata": {},
     "output_type": "execute_result"
    }
   ],
   "source": [
    "dir(Animal)"
   ]
  },
  {
   "cell_type": "code",
   "execution_count": 9,
   "metadata": {
    "colab": {
     "base_uri": "https://localhost:8080/"
    },
    "id": "luDNFzUT8vaD",
    "outputId": "f08bf309-a4b7-47e8-a6d3-e6f69718620e"
   },
   "outputs": [
    {
     "data": {
      "text/plain": [
       "['__class__',\n",
       " '__delattr__',\n",
       " '__dict__',\n",
       " '__dir__',\n",
       " '__doc__',\n",
       " '__eq__',\n",
       " '__format__',\n",
       " '__ge__',\n",
       " '__getattribute__',\n",
       " '__gt__',\n",
       " '__hash__',\n",
       " '__init__',\n",
       " '__init_subclass__',\n",
       " '__le__',\n",
       " '__lt__',\n",
       " '__module__',\n",
       " '__ne__',\n",
       " '__new__',\n",
       " '__reduce__',\n",
       " '__reduce_ex__',\n",
       " '__repr__',\n",
       " '__setattr__',\n",
       " '__sizeof__',\n",
       " '__str__',\n",
       " '__subclasshook__',\n",
       " '__weakref__',\n",
       " 'introduce',\n",
       " 'legs',\n",
       " 'name',\n",
       " 'scariness',\n",
       " 'sound']"
      ]
     },
     "execution_count": 9,
     "metadata": {},
     "output_type": "execute_result"
    }
   ],
   "source": [
    "dir(animal)"
   ]
  },
  {
   "cell_type": "markdown",
   "metadata": {
    "id": "CnvvY9tu9Eza"
   },
   "source": [
    "**Задание:**\n",
    "+ вывести 3 наиболее частых символа из текста ридми репозитория нашего курса на гитхабе (https://github.com/esolovev/ling2020) с помощью Counter\n",
    "+ подсказака: если найти правильную ссылку, то можно сразу получить сырой текст, и не парсить html. "
   ]
  },
  {
   "cell_type": "code",
   "execution_count": 10,
   "metadata": {},
   "outputs": [
    {
     "name": "stdout",
     "output_type": "stream",
     "text": [
      "Help on class Counter in module collections:\n",
      "\n",
      "class Counter(builtins.dict)\n",
      " |  Counter(*args, **kwds)\n",
      " |  \n",
      " |  Dict subclass for counting hashable items.  Sometimes called a bag\n",
      " |  or multiset.  Elements are stored as dictionary keys and their counts\n",
      " |  are stored as dictionary values.\n",
      " |  \n",
      " |  >>> c = Counter('abcdeabcdabcaba')  # count elements from a string\n",
      " |  \n",
      " |  >>> c.most_common(3)                # three most common elements\n",
      " |  [('a', 5), ('b', 4), ('c', 3)]\n",
      " |  >>> sorted(c)                       # list all unique elements\n",
      " |  ['a', 'b', 'c', 'd', 'e']\n",
      " |  >>> ''.join(sorted(c.elements()))   # list elements with repetitions\n",
      " |  'aaaaabbbbcccdde'\n",
      " |  >>> sum(c.values())                 # total of all counts\n",
      " |  15\n",
      " |  \n",
      " |  >>> c['a']                          # count of letter 'a'\n",
      " |  5\n",
      " |  >>> for elem in 'shazam':           # update counts from an iterable\n",
      " |  ...     c[elem] += 1                # by adding 1 to each element's count\n",
      " |  >>> c['a']                          # now there are seven 'a'\n",
      " |  7\n",
      " |  >>> del c['b']                      # remove all 'b'\n",
      " |  >>> c['b']                          # now there are zero 'b'\n",
      " |  0\n",
      " |  \n",
      " |  >>> d = Counter('simsalabim')       # make another counter\n",
      " |  >>> c.update(d)                     # add in the second counter\n",
      " |  >>> c['a']                          # now there are nine 'a'\n",
      " |  9\n",
      " |  \n",
      " |  >>> c.clear()                       # empty the counter\n",
      " |  >>> c\n",
      " |  Counter()\n",
      " |  \n",
      " |  Note:  If a count is set to zero or reduced to zero, it will remain\n",
      " |  in the counter until the entry is deleted or the counter is cleared:\n",
      " |  \n",
      " |  >>> c = Counter('aaabbc')\n",
      " |  >>> c['b'] -= 2                     # reduce the count of 'b' by two\n",
      " |  >>> c.most_common()                 # 'b' is still in, but its count is zero\n",
      " |  [('a', 3), ('c', 1), ('b', 0)]\n",
      " |  \n",
      " |  Method resolution order:\n",
      " |      Counter\n",
      " |      builtins.dict\n",
      " |      builtins.object\n",
      " |  \n",
      " |  Methods defined here:\n",
      " |  \n",
      " |  __add__(self, other)\n",
      " |      Add counts from two counters.\n",
      " |      \n",
      " |      >>> Counter('abbb') + Counter('bcc')\n",
      " |      Counter({'b': 4, 'c': 2, 'a': 1})\n",
      " |  \n",
      " |  __and__(self, other)\n",
      " |      Intersection is the minimum of corresponding counts.\n",
      " |      \n",
      " |      >>> Counter('abbb') & Counter('bcc')\n",
      " |      Counter({'b': 1})\n",
      " |  \n",
      " |  __delitem__(self, elem)\n",
      " |      Like dict.__delitem__() but does not raise KeyError for missing values.\n",
      " |  \n",
      " |  __iadd__(self, other)\n",
      " |      Inplace add from another counter, keeping only positive counts.\n",
      " |      \n",
      " |      >>> c = Counter('abbb')\n",
      " |      >>> c += Counter('bcc')\n",
      " |      >>> c\n",
      " |      Counter({'b': 4, 'c': 2, 'a': 1})\n",
      " |  \n",
      " |  __iand__(self, other)\n",
      " |      Inplace intersection is the minimum of corresponding counts.\n",
      " |      \n",
      " |      >>> c = Counter('abbb')\n",
      " |      >>> c &= Counter('bcc')\n",
      " |      >>> c\n",
      " |      Counter({'b': 1})\n",
      " |  \n",
      " |  __init__(*args, **kwds)\n",
      " |      Create a new, empty Counter object.  And if given, count elements\n",
      " |      from an input iterable.  Or, initialize the count from another mapping\n",
      " |      of elements to their counts.\n",
      " |      \n",
      " |      >>> c = Counter()                           # a new, empty counter\n",
      " |      >>> c = Counter('gallahad')                 # a new counter from an iterable\n",
      " |      >>> c = Counter({'a': 4, 'b': 2})           # a new counter from a mapping\n",
      " |      >>> c = Counter(a=4, b=2)                   # a new counter from keyword args\n",
      " |  \n",
      " |  __ior__(self, other)\n",
      " |      Inplace union is the maximum of value from either counter.\n",
      " |      \n",
      " |      >>> c = Counter('abbb')\n",
      " |      >>> c |= Counter('bcc')\n",
      " |      >>> c\n",
      " |      Counter({'b': 3, 'c': 2, 'a': 1})\n",
      " |  \n",
      " |  __isub__(self, other)\n",
      " |      Inplace subtract counter, but keep only results with positive counts.\n",
      " |      \n",
      " |      >>> c = Counter('abbbc')\n",
      " |      >>> c -= Counter('bccd')\n",
      " |      >>> c\n",
      " |      Counter({'b': 2, 'a': 1})\n",
      " |  \n",
      " |  __missing__(self, key)\n",
      " |      The count of elements not in the Counter is zero.\n",
      " |  \n",
      " |  __neg__(self)\n",
      " |      Subtracts from an empty counter.  Strips positive and zero counts,\n",
      " |      and flips the sign on negative counts.\n",
      " |  \n",
      " |  __or__(self, other)\n",
      " |      Union is the maximum of value in either of the input counters.\n",
      " |      \n",
      " |      >>> Counter('abbb') | Counter('bcc')\n",
      " |      Counter({'b': 3, 'c': 2, 'a': 1})\n",
      " |  \n",
      " |  __pos__(self)\n",
      " |      Adds an empty counter, effectively stripping negative and zero counts\n",
      " |  \n",
      " |  __reduce__(self)\n",
      " |      Helper for pickle.\n",
      " |  \n",
      " |  __repr__(self)\n",
      " |      Return repr(self).\n",
      " |  \n",
      " |  __sub__(self, other)\n",
      " |      Subtract count, but keep only results with positive counts.\n",
      " |      \n",
      " |      >>> Counter('abbbc') - Counter('bccd')\n",
      " |      Counter({'b': 2, 'a': 1})\n",
      " |  \n",
      " |  copy(self)\n",
      " |      Return a shallow copy.\n",
      " |  \n",
      " |  elements(self)\n",
      " |      Iterator over elements repeating each as many times as its count.\n",
      " |      \n",
      " |      >>> c = Counter('ABCABC')\n",
      " |      >>> sorted(c.elements())\n",
      " |      ['A', 'A', 'B', 'B', 'C', 'C']\n",
      " |      \n",
      " |      # Knuth's example for prime factors of 1836:  2**2 * 3**3 * 17**1\n",
      " |      >>> prime_factors = Counter({2: 2, 3: 3, 17: 1})\n",
      " |      >>> product = 1\n",
      " |      >>> for factor in prime_factors.elements():     # loop over factors\n",
      " |      ...     product *= factor                       # and multiply them\n",
      " |      >>> product\n",
      " |      1836\n",
      " |      \n",
      " |      Note, if an element's count has been set to zero or is a negative\n",
      " |      number, elements() will ignore it.\n",
      " |  \n",
      " |  most_common(self, n=None)\n",
      " |      List the n most common elements and their counts from the most\n",
      " |      common to the least.  If n is None, then list all element counts.\n",
      " |      \n",
      " |      >>> Counter('abcdeabcdabcaba').most_common(3)\n",
      " |      [('a', 5), ('b', 4), ('c', 3)]\n",
      " |  \n",
      " |  subtract(*args, **kwds)\n",
      " |      Like dict.update() but subtracts counts instead of replacing them.\n",
      " |      Counts can be reduced below zero.  Both the inputs and outputs are\n",
      " |      allowed to contain zero and negative counts.\n",
      " |      \n",
      " |      Source can be an iterable, a dictionary, or another Counter instance.\n",
      " |      \n",
      " |      >>> c = Counter('which')\n",
      " |      >>> c.subtract('witch')             # subtract elements from another iterable\n",
      " |      >>> c.subtract(Counter('watch'))    # subtract elements from another counter\n",
      " |      >>> c['h']                          # 2 in which, minus 1 in witch, minus 1 in watch\n",
      " |      0\n",
      " |      >>> c['w']                          # 1 in which, minus 1 in witch, minus 1 in watch\n",
      " |      -1\n",
      " |  \n",
      " |  update(*args, **kwds)\n",
      " |      Like dict.update() but add counts instead of replacing them.\n",
      " |      \n",
      " |      Source can be an iterable, a dictionary, or another Counter instance.\n",
      " |      \n",
      " |      >>> c = Counter('which')\n",
      " |      >>> c.update('witch')           # add elements from another iterable\n",
      " |      >>> d = Counter('watch')\n",
      " |      >>> c.update(d)                 # add elements from another counter\n",
      " |      >>> c['h']                      # four 'h' in which, witch, and watch\n",
      " |      4\n",
      " |  \n",
      " |  ----------------------------------------------------------------------\n",
      " |  Class methods defined here:\n",
      " |  \n",
      " |  fromkeys(iterable, v=None) from builtins.type\n",
      " |      Create a new dictionary with keys from iterable and values set to value.\n",
      " |  \n",
      " |  ----------------------------------------------------------------------\n",
      " |  Data descriptors defined here:\n",
      " |  \n",
      " |  __dict__\n",
      " |      dictionary for instance variables (if defined)\n",
      " |  \n",
      " |  __weakref__\n",
      " |      list of weak references to the object (if defined)\n",
      " |  \n",
      " |  ----------------------------------------------------------------------\n",
      " |  Methods inherited from builtins.dict:\n",
      " |  \n",
      " |  __contains__(self, key, /)\n",
      " |      True if the dictionary has the specified key, else False.\n",
      " |  \n",
      " |  __eq__(self, value, /)\n",
      " |      Return self==value.\n",
      " |  \n",
      " |  __ge__(self, value, /)\n",
      " |      Return self>=value.\n",
      " |  \n",
      " |  __getattribute__(self, name, /)\n",
      " |      Return getattr(self, name).\n",
      " |  \n",
      " |  __getitem__(...)\n",
      " |      x.__getitem__(y) <==> x[y]\n",
      " |  \n",
      " |  __gt__(self, value, /)\n",
      " |      Return self>value.\n",
      " |  \n",
      " |  __iter__(self, /)\n",
      " |      Implement iter(self).\n",
      " |  \n",
      " |  __le__(self, value, /)\n",
      " |      Return self<=value.\n",
      " |  \n",
      " |  __len__(self, /)\n",
      " |      Return len(self).\n",
      " |  \n",
      " |  __lt__(self, value, /)\n",
      " |      Return self<value.\n",
      " |  \n",
      " |  __ne__(self, value, /)\n",
      " |      Return self!=value.\n",
      " |  \n",
      " |  __setitem__(self, key, value, /)\n",
      " |      Set self[key] to value.\n",
      " |  \n",
      " |  __sizeof__(...)\n",
      " |      D.__sizeof__() -> size of D in memory, in bytes\n",
      " |  \n",
      " |  clear(...)\n",
      " |      D.clear() -> None.  Remove all items from D.\n",
      " |  \n",
      " |  get(self, key, default=None, /)\n",
      " |      Return the value for key if key is in the dictionary, else default.\n",
      " |  \n",
      " |  items(...)\n",
      " |      D.items() -> a set-like object providing a view on D's items\n",
      " |  \n",
      " |  keys(...)\n",
      " |      D.keys() -> a set-like object providing a view on D's keys\n",
      " |  \n",
      " |  pop(...)\n",
      " |      D.pop(k[,d]) -> v, remove specified key and return the corresponding value.\n",
      " |      If key is not found, d is returned if given, otherwise KeyError is raised\n",
      " |  \n",
      " |  popitem(...)\n",
      " |      D.popitem() -> (k, v), remove and return some (key, value) pair as a\n",
      " |      2-tuple; but raise KeyError if D is empty.\n",
      " |  \n",
      " |  setdefault(self, key, default=None, /)\n",
      " |      Insert key with a value of default if key is not in the dictionary.\n",
      " |      \n",
      " |      Return the value for key if key is in the dictionary, else default.\n",
      " |  \n",
      " |  values(...)\n",
      " |      D.values() -> an object providing a view on D's values\n",
      " |  \n",
      " |  ----------------------------------------------------------------------\n",
      " |  Static methods inherited from builtins.dict:\n",
      " |  \n",
      " |  __new__(*args, **kwargs) from builtins.type\n",
      " |      Create and return a new object.  See help(type) for accurate signature.\n",
      " |  \n",
      " |  ----------------------------------------------------------------------\n",
      " |  Data and other attributes inherited from builtins.dict:\n",
      " |  \n",
      " |  __hash__ = None\n",
      "\n"
     ]
    }
   ],
   "source": [
    "# смотрим какие методы есть у Counter и что они делают\n",
    "help(Counter)"
   ]
  },
  {
   "cell_type": "code",
   "execution_count": 11,
   "metadata": {},
   "outputs": [],
   "source": [
    "import requests"
   ]
  },
  {
   "cell_type": "code",
   "execution_count": 13,
   "metadata": {},
   "outputs": [],
   "source": [
    "# выкачиваем текст\n",
    "readme_text = requests.get('https://raw.githubusercontent.com/esolovev/ling2020/main/README.md').text"
   ]
  },
  {
   "cell_type": "code",
   "execution_count": 14,
   "metadata": {},
   "outputs": [],
   "source": [
    "cnt = Counter(readme_text)"
   ]
  },
  {
   "cell_type": "code",
   "execution_count": 15,
   "metadata": {},
   "outputs": [
    {
     "data": {
      "text/plain": [
       "[(' ', 810), ('а', 355), ('о', 345)]"
      ]
     },
     "execution_count": 15,
     "metadata": {},
     "output_type": "execute_result"
    }
   ],
   "source": [
    "# вызываем нужный нам метод\n",
    "cnt.most_common(3)"
   ]
  },
  {
   "cell_type": "markdown",
   "metadata": {
    "id": "pa6sv1jw8uwz"
   },
   "source": [
    "## Атрибуты экземпляра"
   ]
  },
  {
   "cell_type": "markdown",
   "metadata": {
    "id": "FmaJoySQLcMP"
   },
   "source": [
    "При создании класса в принципе ничего не мешает нам инициалирировать атрибуты  в любом методе, в любом месте. Но обычно все атрибуты стоит создавать внутри констуктора для того, чтобы все экземпляры класса имели одинаковую структуру (одинаковый набор атрибутов вне зависимости от вызванных методов). "
   ]
  },
  {
   "cell_type": "code",
   "execution_count": 16,
   "metadata": {
    "colab": {
     "base_uri": "https://localhost:8080/"
    },
    "id": "jRFejrzX0rJY",
    "outputId": "2e50d501-6da8-4f17-a3cb-3bfac846f74e"
   },
   "outputs": [
    {
     "name": "stdout",
     "output_type": "stream",
     "text": [
      "8\n",
      "Sound!\n",
      "Hello! My name is Doggy!\n"
     ]
    }
   ],
   "source": [
    "animal = Animal(name='Doggy', legs=4, scariness=8) # экземпляр класса\n",
    "print(animal.scariness)\n",
    "animal.sound()\n",
    "animal.introduce()"
   ]
  },
  {
   "cell_type": "markdown",
   "metadata": {
    "id": "TuGY0_Fm8fcN"
   },
   "source": [
    "Каждый экземпляр класса имеет свои значения атрибутов. Можно менять их после создания объекта, можно создавать новые. "
   ]
  },
  {
   "cell_type": "code",
   "execution_count": 17,
   "metadata": {
    "colab": {
     "base_uri": "https://localhost:8080/"
    },
    "id": "1n8ypgoo1fqA",
    "outputId": "196d6da2-ca46-42b3-f2bf-e05b674fbf6e"
   },
   "outputs": [
    {
     "name": "stdout",
     "output_type": "stream",
     "text": [
      "Spidy\n",
      "Spider\n"
     ]
    }
   ],
   "source": [
    "animal2 = Animal('Spidy', 8, 225)\n",
    "print(animal2.name)\n",
    "animal2.name = 'Spider' # меняем значение атрибута name\n",
    "print(animal2.name)"
   ]
  },
  {
   "cell_type": "code",
   "execution_count": 18,
   "metadata": {
    "colab": {
     "base_uri": "https://localhost:8080/"
    },
    "id": "QyThWL-j0vmb",
    "outputId": "82bc6407-1ae2-4b4f-f8ef-a54c975b3cf5"
   },
   "outputs": [
    {
     "name": "stdout",
     "output_type": "stream",
     "text": [
      "1.5\n",
      "100\n"
     ]
    }
   ],
   "source": [
    "animal3 = Animal('Monster', legs=1.5, scariness=1000)\n",
    "print(animal3.legs)\n",
    "animal3.legs = 100 # меняем значение атрибута legs\n",
    "print(animal3.legs)"
   ]
  },
  {
   "cell_type": "code",
   "execution_count": 19,
   "metadata": {
    "colab": {
     "base_uri": "https://localhost:8080/"
    },
    "id": "FUaR1vnBLoV0",
    "outputId": "750dfb69-37b8-4bf0-be98-e624586ff173"
   },
   "outputs": [
    {
     "data": {
      "text/plain": [
       "['__class__',\n",
       " '__delattr__',\n",
       " '__dict__',\n",
       " '__dir__',\n",
       " '__doc__',\n",
       " '__eq__',\n",
       " '__format__',\n",
       " '__ge__',\n",
       " '__getattribute__',\n",
       " '__gt__',\n",
       " '__hash__',\n",
       " '__init__',\n",
       " '__init_subclass__',\n",
       " '__le__',\n",
       " '__lt__',\n",
       " '__module__',\n",
       " '__ne__',\n",
       " '__new__',\n",
       " '__reduce__',\n",
       " '__reduce_ex__',\n",
       " '__repr__',\n",
       " '__setattr__',\n",
       " '__sizeof__',\n",
       " '__str__',\n",
       " '__subclasshook__',\n",
       " '__weakref__',\n",
       " 'introduce',\n",
       " 'legs',\n",
       " 'name',\n",
       " 'new_attr',\n",
       " 'scariness',\n",
       " 'sound']"
      ]
     },
     "execution_count": 19,
     "metadata": {},
     "output_type": "execute_result"
    }
   ],
   "source": [
    "animal2.new_attr = 10\n",
    "# отобразится в dir\n",
    "dir(animal2)"
   ]
  },
  {
   "cell_type": "code",
   "execution_count": 20,
   "metadata": {
    "colab": {
     "base_uri": "https://localhost:8080/"
    },
    "id": "VeTIOXJo2GKp",
    "outputId": "91d96c5b-b08b-44b0-d45d-56adce64ec44"
   },
   "outputs": [
    {
     "data": {
      "text/plain": [
       "False"
      ]
     },
     "execution_count": 20,
     "metadata": {},
     "output_type": "execute_result"
    }
   ],
   "source": [
    "# новый атрибут появляется только у того экземпляра, у которого его создали (не у всех)\n",
    "dir(animal2) == dir(animal3)"
   ]
  },
  {
   "cell_type": "code",
   "execution_count": 21,
   "metadata": {},
   "outputs": [
    {
     "ename": "AttributeError",
     "evalue": "'Animal' object has no attribute 'new_attr'",
     "output_type": "error",
     "traceback": [
      "\u001b[0;31m---------------------------------------------------------------------------\u001b[0m",
      "\u001b[0;31mAttributeError\u001b[0m                            Traceback (most recent call last)",
      "\u001b[0;32m<ipython-input-21-262a3048d98c>\u001b[0m in \u001b[0;36m<module>\u001b[0;34m\u001b[0m\n\u001b[0;32m----> 1\u001b[0;31m \u001b[0manimal3\u001b[0m\u001b[0;34m.\u001b[0m\u001b[0mnew_attr\u001b[0m\u001b[0;34m\u001b[0m\u001b[0;34m\u001b[0m\u001b[0m\n\u001b[0m",
      "\u001b[0;31mAttributeError\u001b[0m: 'Animal' object has no attribute 'new_attr'"
     ]
    }
   ],
   "source": [
    "animal3.new_attr"
   ]
  },
  {
   "cell_type": "markdown",
   "metadata": {
    "id": "GNnU0_8IFLRQ"
   },
   "source": [
    "## Атрибуты класса"
   ]
  },
  {
   "cell_type": "markdown",
   "metadata": {
    "id": "1iXmrsLrFP-N"
   },
   "source": [
    "У класса также могут быть свои поля, которые принадлежат не объекту экземпляра класса, а объекту класса."
   ]
  },
  {
   "cell_type": "code",
   "execution_count": 22,
   "metadata": {
    "id": "KHQ9hfz32d0w"
   },
   "outputs": [],
   "source": [
    "class Animal:\n",
    "   \n",
    "    fav_food = 'pizza' # атрибут класса, вне __init__ и без self\n",
    "    \n",
    "    \n",
    "    def __init__(self, name, legs, scariness):\n",
    "        self.name = name \n",
    "        self.legs = legs\n",
    "        self.scariness = scariness\n",
    "    \n",
    "    def introduce(self): \n",
    "        print (\"Hello! My name is %s!\" % self.name)\n",
    "    \n",
    "    def sound(self):\n",
    "        print (\"Sound!\")\n",
    "\n",
    "    def tell_fav_food(self):\n",
    "        print(\"I like %s!\" % self.fav_food) # обращаемся с помощью self!\n",
    "    "
   ]
  },
  {
   "cell_type": "code",
   "execution_count": 23,
   "metadata": {
    "id": "0Lu5GaXdK4HT"
   },
   "outputs": [],
   "source": [
    "animal = Animal(name='Doggy', legs=4, scariness=8)\n",
    "animal2 = Animal('Spidy', 8, 225)\n",
    "animal3 = Animal('Monster', legs=1.5, scariness=1000)"
   ]
  },
  {
   "cell_type": "code",
   "execution_count": 24,
   "metadata": {
    "colab": {
     "base_uri": "https://localhost:8080/"
    },
    "id": "W6mny7LEOw9S",
    "outputId": "d478482b-b725-46ed-9d91-83346e16f10a"
   },
   "outputs": [
    {
     "name": "stdout",
     "output_type": "stream",
     "text": [
      "pizza\n",
      "pizza\n",
      "pizza\n"
     ]
    }
   ],
   "source": [
    "animals = [animal, animal2, animal3]\n",
    "for animal_ in animals:\n",
    "    print(animal_.fav_food) # доступ через экземпляр"
   ]
  },
  {
   "cell_type": "code",
   "execution_count": 25,
   "metadata": {
    "colab": {
     "base_uri": "https://localhost:8080/",
     "height": 35
    },
    "id": "5oeNaVZoPPCH",
    "outputId": "1776669a-1245-4d0a-c683-7e944e189388"
   },
   "outputs": [
    {
     "data": {
      "text/plain": [
       "'pizza'"
      ]
     },
     "execution_count": 25,
     "metadata": {},
     "output_type": "execute_result"
    }
   ],
   "source": [
    "Animal.fav_food # доступ через класс"
   ]
  },
  {
   "cell_type": "code",
   "execution_count": 26,
   "metadata": {
    "colab": {
     "base_uri": "https://localhost:8080/",
     "height": 163
    },
    "id": "VCOglGCMPgJd",
    "outputId": "37f6eed2-d106-4825-8685-9de272930aed"
   },
   "outputs": [
    {
     "ename": "AttributeError",
     "evalue": "type object 'Animal' has no attribute 'name'",
     "output_type": "error",
     "traceback": [
      "\u001b[0;31m---------------------------------------------------------------------------\u001b[0m",
      "\u001b[0;31mAttributeError\u001b[0m                            Traceback (most recent call last)",
      "\u001b[0;32m<ipython-input-26-0ab32473f5b2>\u001b[0m in \u001b[0;36m<module>\u001b[0;34m\u001b[0m\n\u001b[0;32m----> 1\u001b[0;31m \u001b[0mAnimal\u001b[0m\u001b[0;34m.\u001b[0m\u001b[0mname\u001b[0m \u001b[0;31m# к атрибутам экземпляра доступ через объект класса мы получить не можем. как вы думаете почему?\u001b[0m\u001b[0;34m\u001b[0m\u001b[0;34m\u001b[0m\u001b[0m\n\u001b[0m",
      "\u001b[0;31mAttributeError\u001b[0m: type object 'Animal' has no attribute 'name'"
     ]
    }
   ],
   "source": [
    "Animal.name # к атрибутам экземпляра доступ через объект класса мы получить не можем. как вы думаете почему?"
   ]
  },
  {
   "cell_type": "markdown",
   "metadata": {
    "id": "nqHXlpnuW4Gm"
   },
   "source": [
    "Значение атрибута класса нельзя изменить через его экземпляр. Если попробовать это сделать так, как в коде ниже, то у экземпляра класса создается атрибут экземпляра с таким же именем. При этом значение этого атрибута у объекта класса и всех других его экземпляров не изменится."
   ]
  },
  {
   "cell_type": "code",
   "execution_count": 27,
   "metadata": {
    "colab": {
     "base_uri": "https://localhost:8080/",
     "height": 35
    },
    "id": "9xQ4urcqW63y",
    "outputId": "971781a0-e5b5-4f69-8aa1-39b7ad3fd18a"
   },
   "outputs": [
    {
     "data": {
      "text/plain": [
       "'salad'"
      ]
     },
     "execution_count": 27,
     "metadata": {},
     "output_type": "execute_result"
    }
   ],
   "source": [
    "animal.fav_food = 'salad'\n",
    "animal.fav_food"
   ]
  },
  {
   "cell_type": "markdown",
   "metadata": {
    "id": "C0ZGJhPOY-QS"
   },
   "source": [
    "Доступ к атрибуту класса через переменную fav_food у этого экземпляра потерялся, так как она теперь ссылается на другой объект. Но обратиться к атрибуту класса мы все еще можем, он никуда не делся. "
   ]
  },
  {
   "cell_type": "code",
   "execution_count": 28,
   "metadata": {
    "colab": {
     "base_uri": "https://localhost:8080/",
     "height": 35
    },
    "id": "F-uXnjSEZe0O",
    "outputId": "162eb150-20f3-42ca-d256-d40795421031"
   },
   "outputs": [
    {
     "data": {
      "text/plain": [
       "'pizza'"
      ]
     },
     "execution_count": 28,
     "metadata": {},
     "output_type": "execute_result"
    }
   ],
   "source": [
    "animal.__class__.fav_food # __class__ ссылается на объект класса "
   ]
  },
  {
   "cell_type": "markdown",
   "metadata": {
    "id": "9W8WSHdPZsrQ"
   },
   "source": [
    "У остальных экземпляров атрибуты остались прежними"
   ]
  },
  {
   "cell_type": "code",
   "execution_count": 29,
   "metadata": {
    "colab": {
     "base_uri": "https://localhost:8080/"
    },
    "id": "wxdZ1bT3XKrE",
    "outputId": "eebc8967-9865-4571-f588-e4a86a617fae"
   },
   "outputs": [
    {
     "name": "stdout",
     "output_type": "stream",
     "text": [
      "pizza pizza\n"
     ]
    }
   ],
   "source": [
    "print(animal2.fav_food, Animal.fav_food) "
   ]
  },
  {
   "cell_type": "markdown",
   "metadata": {
    "id": "KrxCC_3pXqEn"
   },
   "source": [
    "Можно поменять атрибут класса через объект класса"
   ]
  },
  {
   "cell_type": "code",
   "execution_count": 30,
   "metadata": {
    "id": "l0p9ICq9XX45"
   },
   "outputs": [],
   "source": [
    "Animal.fav_food = 'sandwich'"
   ]
  },
  {
   "cell_type": "code",
   "execution_count": 31,
   "metadata": {
    "colab": {
     "base_uri": "https://localhost:8080/"
    },
    "id": "eKPYzcowXi9l",
    "outputId": "a8c4d973-8672-4786-fc9d-596b0b7572fa"
   },
   "outputs": [
    {
     "name": "stdout",
     "output_type": "stream",
     "text": [
      "sandwich sandwich\n"
     ]
    }
   ],
   "source": [
    "print(animal2.fav_food, animal3.fav_food) # значение fav_food изменилось у всех объектов, где мы не перезаписывали атрибут экземпляра"
   ]
  },
  {
   "cell_type": "code",
   "execution_count": 32,
   "metadata": {
    "colab": {
     "base_uri": "https://localhost:8080/",
     "height": 35
    },
    "id": "IpoBlBIUX4qe",
    "outputId": "6d7f53e4-916a-4ed9-b8d5-7404ba1b2d2e"
   },
   "outputs": [
    {
     "name": "stdout",
     "output_type": "stream",
     "text": [
      "salad\n",
      "sandwich\n"
     ]
    }
   ],
   "source": [
    "# как вы думаете, что выведет код?\n",
    "print(animal.fav_food)\n",
    "print(animal.__class__.fav_food)"
   ]
  },
  {
   "cell_type": "markdown",
   "metadata": {
    "id": "FMYbXemPb_Or"
   },
   "source": [
    "## \\_\\_dict\\_\\_"
   ]
  },
  {
   "cell_type": "markdown",
   "metadata": {
    "id": "A7oWYdqmcKIf"
   },
   "source": [
    "В упрощенном виде можно считать, что все объекты в питоне реализуются в виде словаря. Служебное поле ***\\_\\_dict\\_\\_*** позволяет работать с объектом как со словарем."
   ]
  },
  {
   "cell_type": "code",
   "execution_count": 33,
   "metadata": {
    "colab": {
     "base_uri": "https://localhost:8080/"
    },
    "id": "D8PSKHCAcH9W",
    "outputId": "f8239380-6921-4ef4-8d71-69f74108a5ee"
   },
   "outputs": [
    {
     "data": {
      "text/plain": [
       "{'name': 'Spidy', 'legs': 8, 'scariness': 225}"
      ]
     },
     "execution_count": 33,
     "metadata": {},
     "output_type": "execute_result"
    }
   ],
   "source": [
    "animal2.__dict__"
   ]
  },
  {
   "cell_type": "code",
   "execution_count": 34,
   "metadata": {
    "colab": {
     "base_uri": "https://localhost:8080/"
    },
    "id": "_7uxXNbVddem",
    "outputId": "fd7bb158-e8e3-4830-a09d-828c22e161f1"
   },
   "outputs": [
    {
     "data": {
      "text/plain": [
       "mappingproxy({'__module__': '__main__',\n",
       "              'fav_food': 'sandwich',\n",
       "              '__init__': <function __main__.Animal.__init__(self, name, legs, scariness)>,\n",
       "              'introduce': <function __main__.Animal.introduce(self)>,\n",
       "              'sound': <function __main__.Animal.sound(self)>,\n",
       "              'tell_fav_food': <function __main__.Animal.tell_fav_food(self)>,\n",
       "              '__dict__': <attribute '__dict__' of 'Animal' objects>,\n",
       "              '__weakref__': <attribute '__weakref__' of 'Animal' objects>,\n",
       "              '__doc__': None})"
      ]
     },
     "execution_count": 34,
     "metadata": {},
     "output_type": "execute_result"
    }
   ],
   "source": [
    "Animal.__dict__"
   ]
  },
  {
   "cell_type": "code",
   "execution_count": 35,
   "metadata": {
    "colab": {
     "base_uri": "https://localhost:8080/"
    },
    "id": "vWPQi8eRcDyt",
    "outputId": "3958711a-5511-4263-ebf7-08d1b90fee9c"
   },
   "outputs": [
    {
     "name": "stdout",
     "output_type": "stream",
     "text": [
      "Doggy\n",
      "Kitty\n"
     ]
    }
   ],
   "source": [
    "print(animal.__dict__['name']) # атрибут экземпляра\n",
    "animal.__dict__['name'] = 'Kitty' # можно перезаписать\n",
    "print(animal.__dict__['name'])"
   ]
  },
  {
   "cell_type": "markdown",
   "metadata": {
    "id": "l1ytbafBczzX"
   },
   "source": [
    "Поменять значение атрибута класса с помощью словаря не получится, так как mappingproxy это read-only контейнер. Это сделано для того, чтобы ключи в словаре атрибутов \\_\\_dict\\_\\_ (то есть названия атрибутов) могли быть только типа str и нельзя было добавить новый ключ другого типа (int например). Подробнее про это написано [здесь](https://stackoverflow.com/questions/32720492/why-is-a-class-dict-a-mappingproxy). \n"
   ]
  },
  {
   "cell_type": "code",
   "execution_count": 36,
   "metadata": {
    "colab": {
     "base_uri": "https://localhost:8080/"
    },
    "id": "arX2zty7cnn0",
    "outputId": "d6d249ac-a032-4b90-fdf1-8040e22b087a",
    "scrolled": true
   },
   "outputs": [
    {
     "ename": "TypeError",
     "evalue": "'mappingproxy' object does not support item assignment",
     "output_type": "error",
     "traceback": [
      "\u001b[0;31m---------------------------------------------------------------------------\u001b[0m",
      "\u001b[0;31mTypeError\u001b[0m                                 Traceback (most recent call last)",
      "\u001b[0;32m<ipython-input-36-5cdfdb2c6d08>\u001b[0m in \u001b[0;36m<module>\u001b[0;34m\u001b[0m\n\u001b[0;32m----> 1\u001b[0;31m \u001b[0mAnimal\u001b[0m\u001b[0;34m.\u001b[0m\u001b[0m__dict__\u001b[0m\u001b[0;34m[\u001b[0m\u001b[0;34m'fav_food'\u001b[0m\u001b[0;34m]\u001b[0m \u001b[0;34m=\u001b[0m \u001b[0;34m'apple'\u001b[0m\u001b[0;34m\u001b[0m\u001b[0;34m\u001b[0m\u001b[0m\n\u001b[0m",
      "\u001b[0;31mTypeError\u001b[0m: 'mappingproxy' object does not support item assignment"
     ]
    }
   ],
   "source": [
    "Animal.__dict__['fav_food'] = 'apple'"
   ]
  },
  {
   "cell_type": "markdown",
   "metadata": {},
   "source": [
    "В обычном словаре ключи могут иметь любой тип данных:"
   ]
  },
  {
   "cell_type": "code",
   "execution_count": 37,
   "metadata": {},
   "outputs": [],
   "source": [
    "my_dict = {'a' : 'aaa', 1: '111'}"
   ]
  },
  {
   "cell_type": "markdown",
   "metadata": {},
   "source": [
    "С экземпляром класса мы можем проделать подобное, но ничего хорошего из этого не выйдет и получить доступ к такому атрибуту можно будет только через **\\_\\_dict\\_\\_**"
   ]
  },
  {
   "cell_type": "code",
   "execution_count": 38,
   "metadata": {},
   "outputs": [],
   "source": [
    "animal.__dict__[1] = 1 # добавляем ключ типа int"
   ]
  },
  {
   "cell_type": "code",
   "execution_count": 39,
   "metadata": {},
   "outputs": [
    {
     "data": {
      "text/plain": [
       "{'name': 'Kitty', 'legs': 4, 'scariness': 8, 'fav_food': 'salad', 1: 1}"
      ]
     },
     "execution_count": 39,
     "metadata": {},
     "output_type": "execute_result"
    }
   ],
   "source": [
    "animal.__dict__"
   ]
  },
  {
   "cell_type": "code",
   "execution_count": 40,
   "metadata": {},
   "outputs": [
    {
     "ename": "TypeError",
     "evalue": "'<' not supported between instances of 'int' and 'str'",
     "output_type": "error",
     "traceback": [
      "\u001b[0;31m---------------------------------------------------------------------------\u001b[0m",
      "\u001b[0;31mTypeError\u001b[0m                                 Traceback (most recent call last)",
      "\u001b[0;32m<ipython-input-40-cb9325cdc086>\u001b[0m in \u001b[0;36m<module>\u001b[0;34m\u001b[0m\n\u001b[0;32m----> 1\u001b[0;31m \u001b[0mdir\u001b[0m\u001b[0;34m(\u001b[0m\u001b[0manimal\u001b[0m\u001b[0;34m)\u001b[0m\u001b[0;34m\u001b[0m\u001b[0;34m\u001b[0m\u001b[0m\n\u001b[0m",
      "\u001b[0;31mTypeError\u001b[0m: '<' not supported between instances of 'int' and 'str'"
     ]
    }
   ],
   "source": [
    "dir(animal) # мы поломали dir"
   ]
  },
  {
   "cell_type": "markdown",
   "metadata": {
    "id": "DTBzf8XAEVPY"
   },
   "source": [
    "## Объекты в питоне и их удаление"
   ]
  },
  {
   "cell_type": "markdown",
   "metadata": {
    "id": "VBbPwkRFEt6c"
   },
   "source": [
    "В питоне все является объектом и к тому же экземпляром какого-то класса: число, строка, словарь, массив, экземпляр встроенного класса, экземпляр пользовательского класса, сам класс, функция. \n",
    "\n",
    "Объект - участок в памяти, у которого обязательно присутсвуют два поля: **тип** и **счётчик ссылок**. У каждого объекта есть уникальный идентификатор, который возвращает функция ***id()***. Идентификатор является адресом объекта в памяти.\n",
    "\n",
    "Функция ***type()*** возвращает тип объекта - название класса, экземпляром которого является объект. \n",
    "\n",
    "Мы можем обращаться к объектам и что-то сними делать с помощью переменных, которые ссылаются на нужный объект. "
   ]
  },
  {
   "cell_type": "markdown",
   "metadata": {
    "id": "b6eALAfnuyy9"
   },
   "source": [
    "### type()"
   ]
  },
  {
   "cell_type": "code",
   "execution_count": 41,
   "metadata": {
    "colab": {
     "base_uri": "https://localhost:8080/"
    },
    "id": "zxsdH8AAEDdI",
    "outputId": "6a007238-77e2-498b-d04e-03006a150803"
   },
   "outputs": [
    {
     "name": "stdout",
     "output_type": "stream",
     "text": [
      "<class 'int'>\n"
     ]
    }
   ],
   "source": [
    "# число\n",
    "my_number = 13\n",
    "print(type(my_number))"
   ]
  },
  {
   "cell_type": "code",
   "execution_count": 42,
   "metadata": {
    "colab": {
     "base_uri": "https://localhost:8080/"
    },
    "id": "_ZXWlC_xtIfG",
    "outputId": "bef84b4e-5eb9-44e4-a7a1-2e59b479fe7b"
   },
   "outputs": [
    {
     "name": "stdout",
     "output_type": "stream",
     "text": [
      "<class 'int'>\n"
     ]
    }
   ],
   "source": [
    "print(type(13))"
   ]
  },
  {
   "cell_type": "code",
   "execution_count": 43,
   "metadata": {
    "colab": {
     "base_uri": "https://localhost:8080/"
    },
    "id": "e7dyULVNsegM",
    "outputId": "b1eb22e2-1f3d-4496-9d53-209bedeee02a"
   },
   "outputs": [
    {
     "name": "stdout",
     "output_type": "stream",
     "text": [
      "<class 'function'>\n"
     ]
    }
   ],
   "source": [
    "# функция\n",
    "def my_func(number: int):\n",
    "    return 13*number\n",
    "print(type(my_func))"
   ]
  },
  {
   "cell_type": "code",
   "execution_count": 44,
   "metadata": {
    "colab": {
     "base_uri": "https://localhost:8080/"
    },
    "id": "W6zvSLcuvRPt",
    "outputId": "46d9265e-192f-4a05-e62f-58ed86e9b235"
   },
   "outputs": [
    {
     "name": "stdout",
     "output_type": "stream",
     "text": [
      "<class 'collections.Counter'>\n",
      "<class '__main__.Animal'>\n"
     ]
    }
   ],
   "source": [
    "# экземпляр класса\n",
    "print(type(cnt))\n",
    "print(type(animal))"
   ]
  },
  {
   "cell_type": "code",
   "execution_count": 45,
   "metadata": {
    "colab": {
     "base_uri": "https://localhost:8080/"
    },
    "id": "UPgeFJCNvyOQ",
    "outputId": "4e4ba90f-a518-42fa-f597-18ad92ef8df2"
   },
   "outputs": [
    {
     "name": "stdout",
     "output_type": "stream",
     "text": [
      "<class 'type'>\n"
     ]
    }
   ],
   "source": [
    "# класс\n",
    "print(type(Counter))"
   ]
  },
  {
   "cell_type": "code",
   "execution_count": 46,
   "metadata": {
    "colab": {
     "base_uri": "https://localhost:8080/"
    },
    "id": "TNzQqBTdFAuz",
    "outputId": "40de2259-845f-4fe8-8942-5c016d3c20f7"
   },
   "outputs": [
    {
     "name": "stdout",
     "output_type": "stream",
     "text": [
      "<class 'type'>\n"
     ]
    }
   ],
   "source": [
    "# int - тоже класс\n",
    "print(type(int))"
   ]
  },
  {
   "cell_type": "code",
   "execution_count": 47,
   "metadata": {
    "colab": {
     "base_uri": "https://localhost:8080/"
    },
    "id": "xcMvstZ11_5k",
    "outputId": "cb47c4e1-5376-4ef0-8b1b-ec9fba9f53ed"
   },
   "outputs": [
    {
     "name": "stdout",
     "output_type": "stream",
     "text": [
      "<class 'type'>\n"
     ]
    }
   ],
   "source": [
    "print(type(type))"
   ]
  },
  {
   "cell_type": "markdown",
   "metadata": {
    "id": "WqyRC8W6u5vs"
   },
   "source": [
    "### id()"
   ]
  },
  {
   "cell_type": "markdown",
   "metadata": {
    "id": "7aYZPNc_h6GM"
   },
   "source": [
    "Оператор ***is*** как раз таки сравнивает id объектов. "
   ]
  },
  {
   "cell_type": "code",
   "execution_count": 48,
   "metadata": {
    "id": "UglNk3GRh5Vz"
   },
   "outputs": [],
   "source": [
    "my_str = 'abab'"
   ]
  },
  {
   "cell_type": "code",
   "execution_count": 49,
   "metadata": {
    "colab": {
     "base_uri": "https://localhost:8080/"
    },
    "id": "XoUxRrPEhwei",
    "outputId": "7660db4b-b895-4f40-9142-93a85cca2421"
   },
   "outputs": [
    {
     "name": "stdout",
     "output_type": "stream",
     "text": [
      "140623458397168\n"
     ]
    }
   ],
   "source": [
    "print(id(my_str))"
   ]
  },
  {
   "cell_type": "code",
   "execution_count": 50,
   "metadata": {
    "colab": {
     "base_uri": "https://localhost:8080/"
    },
    "id": "G-eO9Q15-_PH",
    "outputId": "48e05a89-f932-45de-8300-3413aeb61295"
   },
   "outputs": [
    {
     "name": "stdout",
     "output_type": "stream",
     "text": [
      "0x7fe57348ebf0\n"
     ]
    }
   ],
   "source": [
    "print(hex(id(my_str)))"
   ]
  },
  {
   "cell_type": "code",
   "execution_count": 51,
   "metadata": {
    "id": "3Ydr9HgxiExK"
   },
   "outputs": [],
   "source": [
    "my_second_str = my_str"
   ]
  },
  {
   "cell_type": "code",
   "execution_count": 52,
   "metadata": {
    "colab": {
     "base_uri": "https://localhost:8080/"
    },
    "id": "UrMSi4eMibqA",
    "outputId": "ebb6764f-d886-4684-e144-7ca97f6cda7a"
   },
   "outputs": [
    {
     "name": "stdout",
     "output_type": "stream",
     "text": [
      "True\n",
      "True\n"
     ]
    }
   ],
   "source": [
    "print(my_str is my_second_str)\n",
    "print(id(my_str) == id(my_second_str))"
   ]
  },
  {
   "cell_type": "markdown",
   "metadata": {
    "id": "JhYSKImY_J-u"
   },
   "source": [
    "### Количество ссылок и del()"
   ]
  },
  {
   "cell_type": "markdown",
   "metadata": {
    "id": "9qFBCw5sg6TZ"
   },
   "source": [
    "Встроенная функция ***del()*** удаляет переменную (и соответственно ссылку между переменной и объектом), счетчик ссылок уменьшается на 1. В случае если счетчик ссылок на объект равен нулю, за объектом приходит сборщик мусора и очищает занятую им память. "
   ]
  },
  {
   "cell_type": "markdown",
   "metadata": {
    "id": "7UDpz2PnE2UW"
   },
   "source": [
    "Посмотреть сколько существует ссылок на объект можно с помощью функции ***sys.getrefcount()*** https://docs.python.org/3/library/sys.html#sys.getrefcount"
   ]
  },
  {
   "cell_type": "code",
   "execution_count": 53,
   "metadata": {
    "id": "PUW1JMlEAl7p"
   },
   "outputs": [],
   "source": [
    "import sys"
   ]
  },
  {
   "cell_type": "code",
   "execution_count": 54,
   "metadata": {
    "id": "QUKJVAzR_g55"
   },
   "outputs": [],
   "source": [
    "a = Counter('abc')\n",
    "b = a\n",
    "c = b"
   ]
  },
  {
   "cell_type": "code",
   "execution_count": 55,
   "metadata": {
    "colab": {
     "base_uri": "https://localhost:8080/"
    },
    "id": "vk1tRd1cC6mL",
    "outputId": "2d02b2ea-40f6-4acd-c5ce-5fa1a458882d"
   },
   "outputs": [
    {
     "data": {
      "text/plain": [
       "4"
      ]
     },
     "execution_count": 55,
     "metadata": {},
     "output_type": "execute_result"
    }
   ],
   "source": [
    "# на 1 больше ожидаемого, тк создается еще одна временная ссылка на объект из аргумента функции\n",
    "sys.getrefcount(a)"
   ]
  },
  {
   "cell_type": "code",
   "execution_count": 56,
   "metadata": {
    "colab": {
     "base_uri": "https://localhost:8080/"
    },
    "id": "9_5RnjC9ED6o",
    "outputId": "b3b05e70-525d-4a63-9c34-d779e2bccfc2"
   },
   "outputs": [
    {
     "data": {
      "text/plain": [
       "3"
      ]
     },
     "execution_count": 56,
     "metadata": {},
     "output_type": "execute_result"
    }
   ],
   "source": [
    "del b\n",
    "sys.getrefcount(a) "
   ]
  },
  {
   "cell_type": "markdown",
   "metadata": {
    "id": "xlNgZknQ-xCn"
   },
   "source": [
    "### Деструктор"
   ]
  },
  {
   "cell_type": "markdown",
   "metadata": {
    "id": "P4Rj5Si9fKqY"
   },
   "source": [
    "Деструктор объекта - метод ***\\_\\_del\\_\\_***, вызывается, когда все ссылки на объект удалены. То есть в момент, когда за объектом приходит сборщик мусора. "
   ]
  },
  {
   "cell_type": "code",
   "execution_count": 1,
   "metadata": {
    "id": "QihcCkZB_GW5"
   },
   "outputs": [],
   "source": [
    "class SomeClass:\n",
    "    \n",
    "    #конструктор, можно писать аргументы со значением по умолчанию\n",
    "    def __init__(self, name='some object'):\n",
    "        self.name = name\n",
    "        print('Constructor called, %s created!' % self.name) \n",
    "    \n",
    "    # деструктор\n",
    "    def __del__(self): \n",
    "        print('Destructor called, %s deleted!' % self.name) "
   ]
  },
  {
   "cell_type": "code",
   "execution_count": 2,
   "metadata": {
    "colab": {
     "base_uri": "https://localhost:8080/"
    },
    "id": "hDLBmav9fRH0",
    "outputId": "70dfa6a3-d6c9-40a5-b0be-f555dcbb1257"
   },
   "outputs": [
    {
     "name": "stdout",
     "output_type": "stream",
     "text": [
      "Constructor called, my object created!\n"
     ]
    }
   ],
   "source": [
    "obj = SomeClass('my object')"
   ]
  },
  {
   "cell_type": "code",
   "execution_count": 3,
   "metadata": {
    "id": "_wuKvD-XgXun"
   },
   "outputs": [],
   "source": [
    "obj2 = obj"
   ]
  },
  {
   "cell_type": "code",
   "execution_count": 4,
   "metadata": {
    "id": "9XASMDgRgeKu"
   },
   "outputs": [],
   "source": [
    "obj3 = obj2"
   ]
  },
  {
   "cell_type": "markdown",
   "metadata": {
    "id": "K3yUfTakfdUz"
   },
   "source": [
    "**Задание:** \n",
    "+ вызовите деструктор\n",
    "+ вызовите деструктор не используя del"
   ]
  },
  {
   "cell_type": "code",
   "execution_count": 5,
   "metadata": {},
   "outputs": [],
   "source": [
    "# деструктор c del() - даляем все переменные, которые ссылаются на объект\n",
    "del obj"
   ]
  },
  {
   "cell_type": "code",
   "execution_count": 6,
   "metadata": {},
   "outputs": [],
   "source": [
    "del obj2"
   ]
  },
  {
   "cell_type": "code",
   "execution_count": 7,
   "metadata": {},
   "outputs": [
    {
     "name": "stdout",
     "output_type": "stream",
     "text": [
      "Destructor called, my object deleted!\n"
     ]
    }
   ],
   "source": [
    "del obj3 # когда все ссылки удалены, мы видим, что сработал деструктор"
   ]
  },
  {
   "cell_type": "code",
   "execution_count": 8,
   "metadata": {},
   "outputs": [
    {
     "name": "stdout",
     "output_type": "stream",
     "text": [
      "Constructor called, my object created!\n"
     ]
    }
   ],
   "source": [
    "# создадим объект и все ссылки заново\n",
    "obj = SomeClass('my object')\n",
    "obj2 = obj\n",
    "obj3 = obj2"
   ]
  },
  {
   "cell_type": "code",
   "execution_count": 9,
   "metadata": {},
   "outputs": [],
   "source": [
    "# деструктор без del()\n",
    "# ссылка на объект исчезает не только после удаления переменной, \n",
    "# но и после переопределения (она начинает ссылаться на другой объект)\n",
    "obj = 1"
   ]
  },
  {
   "cell_type": "code",
   "execution_count": 10,
   "metadata": {},
   "outputs": [],
   "source": [
    "obj2 = 2"
   ]
  },
  {
   "cell_type": "code",
   "execution_count": 11,
   "metadata": {},
   "outputs": [
    {
     "name": "stdout",
     "output_type": "stream",
     "text": [
      "Destructor called, my object deleted!\n"
     ]
    }
   ],
   "source": [
    "obj3 = 3"
   ]
  },
  {
   "cell_type": "markdown",
   "metadata": {
    "id": "V3j-XSnKafXd"
   },
   "source": [
    "**Задание**:    \n",
    "+ Нужно написать класс ***Sentence***, конструктор котрого получает на вход предложение. \n",
    "+ Атрибуты могут быть любые, подумайте, как вам удобно будет хранить данные о предложении. \n",
    "+ У этого класса должен быть метод ***replace_nouns***, который получает в качестве аргумента существительное, заменяет все встречающиеся в предложении существительные на это сущесвтительное в нужной форме (чтобы получилось грамматичное предложение), согласует по роду глаголы и прилагательные, если нужно, и печатает получившееся предложение (знаки перпинания можно игнорировать).\n",
    "\n",
    "+ [Руководство пользователя pymorphy2](https://pymorphy2.readthedocs.io/en/latest/user/guide.html)"
   ]
  },
  {
   "cell_type": "code",
   "execution_count": 12,
   "metadata": {
    "id": "EUbWqsH_ayRg"
   },
   "outputs": [
    {
     "name": "stdout",
     "output_type": "stream",
     "text": [
      "Collecting pymorphy2\n",
      "\u001b[?25l  Downloading https://files.pythonhosted.org/packages/07/57/b2ff2fae3376d4f3c697b9886b64a54b476e1a332c67eee9f88e7f1ae8c9/pymorphy2-0.9.1-py3-none-any.whl (55kB)\n",
      "\u001b[K     |████████████████████████████████| 61kB 1.2MB/s eta 0:00:01\n",
      "\u001b[?25hCollecting docopt>=0.6 (from pymorphy2)\n",
      "Collecting pymorphy2-dicts-ru<3.0,>=2.4 (from pymorphy2)\n",
      "\u001b[?25l  Downloading https://files.pythonhosted.org/packages/3a/79/bea0021eeb7eeefde22ef9e96badf174068a2dd20264b9a378f2be1cdd9e/pymorphy2_dicts_ru-2.4.417127.4579844-py2.py3-none-any.whl (8.2MB)\n",
      "\u001b[K     |████████████████████████████████| 8.2MB 1.8MB/s eta 0:00:01\n",
      "\u001b[?25hCollecting dawg-python>=0.7.1 (from pymorphy2)\n",
      "  Using cached https://files.pythonhosted.org/packages/6a/84/ff1ce2071d4c650ec85745766c0047ccc3b5036f1d03559fd46bb38b5eeb/DAWG_Python-0.7.2-py2.py3-none-any.whl\n",
      "Installing collected packages: docopt, pymorphy2-dicts-ru, dawg-python, pymorphy2\n",
      "Successfully installed dawg-python-0.7.2 docopt-0.6.2 pymorphy2-0.9.1 pymorphy2-dicts-ru-2.4.417127.4579844\n"
     ]
    }
   ],
   "source": [
    "!pip install pymorphy2"
   ]
  },
  {
   "cell_type": "code",
   "execution_count": 2,
   "metadata": {
    "id": "5l1dh0BWaxBR"
   },
   "outputs": [],
   "source": [
    "# поставить слово в нужную форму с помощью pymorphy\n",
    "import pymorphy2\n",
    "morph = pymorphy2.MorphAnalyzer()\n",
    "cats_parsed = morph.parse('котиков')[0]"
   ]
  },
  {
   "cell_type": "code",
   "execution_count": 78,
   "metadata": {
    "id": "WvvEIPUjaxyO"
   },
   "outputs": [],
   "source": [
    "pear_parsed = morph.parse('яблоко')[0]"
   ]
  },
  {
   "cell_type": "code",
   "execution_count": 79,
   "metadata": {
    "id": "yQ3G-ZoLbXNS"
   },
   "outputs": [
    {
     "data": {
      "text/plain": [
       "Parse(word='яблоки', tag=OpencorporaTag('NOUN,inan,neut plur,accs'), normal_form='яблоко', score=1.0, methods_stack=((DictionaryAnalyzer(), 'яблоки', 583, 9),))"
      ]
     },
     "execution_count": 79,
     "metadata": {},
     "output_type": "execute_result"
    }
   ],
   "source": [
    "pear_parsed.inflect({cats_parsed.tag.case, cats_parsed.tag.number}) # нам нужны число и падеж"
   ]
  },
  {
   "cell_type": "code",
   "execution_count": 80,
   "metadata": {},
   "outputs": [
    {
     "data": {
      "text/plain": [
       "OpencorporaTag('NOUN,inan,neut sing,nomn')"
      ]
     },
     "execution_count": 80,
     "metadata": {},
     "output_type": "execute_result"
    }
   ],
   "source": [
    "pear_parsed.tag"
   ]
  },
  {
   "cell_type": "code",
   "execution_count": null,
   "metadata": {
    "id": "rcgpm9BnbZpp"
   },
   "outputs": [],
   "source": [
    "# пример работы\n",
    "s = Sentence('Красивая ворона сидела на стуле!') \n",
    "s.replace_nouns('котик')\n",
    "# 'красивый котик сидел на котике'"
   ]
  },
  {
   "cell_type": "markdown",
   "metadata": {},
   "source": [
    "C помощью классов"
   ]
  },
  {
   "cell_type": "code",
   "execution_count": 119,
   "metadata": {},
   "outputs": [],
   "source": [
    "import re\n",
    "\n",
    "# удобно завести отдельный класс для слов, и хранить все нужные нам признаки в атрибутах этого класса \n",
    "# для быстрого доступа к ним\n",
    "class Word:\n",
    "\n",
    "    def __init__(self, text: str, parsed: pymorphy2.analyzer.Parse):\n",
    "        self.text = text\n",
    "        self.parsed = parsed\n",
    "        self.pos = parsed.tag.POS\n",
    "        self.number = parsed.tag.number\n",
    "\n",
    "    def inflect_by_noun(self, inflection_tag: pymorphy2.tagset.OpencorporaTag):\n",
    "        case = inflection_tag.case\n",
    "        number = inflection_tag.number\n",
    "        gender = inflection_tag.gender\n",
    "        inflected = None\n",
    "        \n",
    "        # существительное ставим в нужное число и падеж\n",
    "        if self.pos == 'NOUN':\n",
    "            inflected = self.parsed.inflect({case, number})\n",
    "        # прилагательные и причастия ставим в нужный род\n",
    "        elif self.pos in ['ADJF', 'ADJS', 'PRTF', 'PRTS'] and self.number == 'sing':\n",
    "            inflected = self.parsed.inflect({gender})\n",
    "        # глагол в прошедшем времени ставим в нужный род\n",
    "        elif self.pos == 'VERB' and self.parsed.tag.tense == 'past' and self.number == 'sing':\n",
    "            inflected = self.parsed.inflect({gender})\n",
    "        # если нам не нужно менять форму слова или если inflect вернул None\n",
    "        # (inflect возвращает None, если не получилось просклонять, надо это учесть, \n",
    "        # чтобы не упасть неожиданно c AttributeError, пытаясь найти атрибут word у None)\n",
    "        if not inflected:  \n",
    "            return self.text\n",
    "        return inflected.word\n",
    "\n",
    "\n",
    "class Sentence:\n",
    "\n",
    "    def __init__(self, text: str, analyzer: pymorphy2.MorphAnalyzer):\n",
    "        self. text = text\n",
    "        # лучше не создавать анализатор для каждого предложения, \n",
    "        # а сделать это один раз и передавать его в виде аргумента\n",
    "        self.analyzer = analyzer\n",
    "        # токенизируем просто регуляркой, т.к. сохранять знаки препинания не требуется\n",
    "        self.words = re.findall('([a-zA-Zа-яА-я\\-]+)', text)\n",
    "        self.words_parsed = self.parse_words()\n",
    "\n",
    "    def parse_words(self) -> list:\n",
    "        result = []\n",
    "        for word in self.words:\n",
    "            # берем наиболее вероятный разбор, иногда будут ошибки из-за омонимии\n",
    "            # но сейчас наша цель - познакомиться с классами, а не сделать идеальную программу\n",
    "            word_parsed = self.analyzer.parse(word)[0]\n",
    "            result.append(Word(word, word_parsed))\n",
    "        return result\n",
    "\n",
    "    def replace_nouns(self, noun: str):\n",
    "        result = []\n",
    "        noun_word = Word(noun, self.analyzer.parse(noun)[0])\n",
    "        for word in self.words_parsed:\n",
    "            if word.pos == 'NOUN':\n",
    "                result.append(noun_word.inflect_by_noun(word.parsed.tag))\n",
    "            else:\n",
    "                result.append(word.inflect_by_noun(noun_word.parsed.tag))\n",
    "        return ' '.join(result)\n",
    "        "
   ]
  },
  {
   "cell_type": "code",
   "execution_count": 120,
   "metadata": {},
   "outputs": [],
   "source": [
    "s = Sentence('красивые попугаи сидели на стуле', morph)"
   ]
  },
  {
   "cell_type": "code",
   "execution_count": 121,
   "metadata": {},
   "outputs": [
    {
     "data": {
      "text/plain": [
       "'красивые котики сидели на котике'"
      ]
     },
     "execution_count": 121,
     "metadata": {},
     "output_type": "execute_result"
    }
   ],
   "source": [
    "s.replace_nouns('котик')"
   ]
  },
  {
   "cell_type": "code",
   "execution_count": 122,
   "metadata": {},
   "outputs": [
    {
     "data": {
      "text/plain": [
       "'красивые кошки сидели на кошке'"
      ]
     },
     "execution_count": 122,
     "metadata": {},
     "output_type": "execute_result"
    }
   ],
   "source": [
    "s.replace_nouns('кошка')"
   ]
  },
  {
   "cell_type": "code",
   "execution_count": 123,
   "metadata": {},
   "outputs": [],
   "source": [
    "s = Sentence('красивый попугай сидел на стуле', morph)"
   ]
  },
  {
   "cell_type": "code",
   "execution_count": 124,
   "metadata": {},
   "outputs": [
    {
     "data": {
      "text/plain": [
       "'красивый котик сидел на котике'"
      ]
     },
     "execution_count": 124,
     "metadata": {},
     "output_type": "execute_result"
    }
   ],
   "source": [
    "s.replace_nouns('котик')"
   ]
  },
  {
   "cell_type": "code",
   "execution_count": 125,
   "metadata": {},
   "outputs": [
    {
     "data": {
      "text/plain": [
       "'красивая кошка сидела на кошке'"
      ]
     },
     "execution_count": 125,
     "metadata": {},
     "output_type": "execute_result"
    }
   ],
   "source": [
    "s.replace_nouns('кошка')"
   ]
  },
  {
   "cell_type": "markdown",
   "metadata": {},
   "source": [
    "Если бы мы делали что-то подобное, но без использования классов:"
   ]
  },
  {
   "cell_type": "code",
   "execution_count": 126,
   "metadata": {},
   "outputs": [],
   "source": [
    "def inflect(parsed_word, inflection_tag):\n",
    "        case = inflection_tag.case\n",
    "        number = inflection_tag.number\n",
    "        gender = inflection_tag.gender\n",
    "        inflected = None\n",
    "        \n",
    "        # существительное ставим в нужное число и падеж\n",
    "        if parsed_word.tag.POS == 'NOUN':\n",
    "            inflected = parsed_word.inflect({case, number})\n",
    "        # прилагательные и причастия ставим в нужный род\n",
    "        elif parsed_word.tag.POS in ['ADJF', 'ADJS', 'PRTF', 'PRTS'] and parsed_word.tag.number == 'sing':\n",
    "            inflected = parsed_word.inflect({gender})\n",
    "        # глагол в прошедшем времени ставим в нужный род\n",
    "        elif parsed_word.tag.POS == 'VERB' and parsed_word.tag.tense == 'past' and parsed_word.tag.number == 'sing':\n",
    "            inflected = self.parsed.inflect({gender})\n",
    "        # если нам не нужно менять форму слова или если inflect вернул None\n",
    "        # (inflect возвращает None, если не получилось просклонять, надо это учесть, \n",
    "        # чтобы не упасть неожиданно c AttributeError, пытаясь найти атрибут word у None)\n",
    "        if not inflected:  \n",
    "            return parsed_word.word\n",
    "        return inflected.word\n",
    "    \n",
    "def parse_words(words, analyzer):\n",
    "    result = []\n",
    "    for word in words:\n",
    "        # берем наиболее вероятный разбор, иногда будут ошибки из-за омонимии\n",
    "        # но сейчас наша цель - познакомиться с классами, а не сделать идеальную программу\n",
    "        result.append(analyzer.parse(word)[0])\n",
    "    return result\n",
    "        \n",
    "def replace_nouns(noun, sentence, analyzer):\n",
    "    result = []\n",
    "    # токенизируем просто регуляркой, т.к. сохранять знаки препинания не требуется\n",
    "    words = re.findall('([a-zA-Zа-яА-я\\-]+)', sentence)\n",
    "    words_parsed = parse_words(words, analyzer)\n",
    "    noun_parsed = analyzer.parse(noun)[0]\n",
    "    for parsed_word in words_parsed:\n",
    "        if parsed_word.tag.POS == 'NOUN':\n",
    "            result.append(inflect(noun_parsed, parsed_word.tag))\n",
    "        else:\n",
    "            result.append(inflect(parsed_word, noun_parsed.tag))\n",
    "    return ' '.join(result)\n",
    "    \n"
   ]
  },
  {
   "cell_type": "code",
   "execution_count": 127,
   "metadata": {},
   "outputs": [
    {
     "data": {
      "text/plain": [
       "'красивые котики сидели на котике'"
      ]
     },
     "execution_count": 127,
     "metadata": {},
     "output_type": "execute_result"
    }
   ],
   "source": [
    "replace_nouns('котик', 'красивые попугаи сидели на стуле', morph)"
   ]
  },
  {
   "cell_type": "code",
   "execution_count": 128,
   "metadata": {
    "scrolled": true
   },
   "outputs": [
    {
     "data": {
      "text/plain": [
       "'красивые кошки сидели на кошке'"
      ]
     },
     "execution_count": 128,
     "metadata": {},
     "output_type": "execute_result"
    }
   ],
   "source": [
    "replace_nouns('кошка', 'красивые попугаи сидели на стуле', morph)"
   ]
  },
  {
   "cell_type": "markdown",
   "metadata": {},
   "source": [
    "В данном случае сделанное через функции выглядит в целом нормально, но есть некоторые минусы:\n",
    "+ сложнее читать код и понимать, что происходит\n",
    "+ более громоздкие вызовы, надо передавать много аргументов\n",
    "+ не хранит состояние \n",
    "    - если мы захотим подставить в одно и то же предложение 10000 разных существительных, то в варианте с функциями разбор предложения будет делаться каждый раз и будет долго, в варианте с классами - один раз при инициализации и будет намного быстрее\n",
    "    -  если мы захотим делать с предложениями что-то еще, например заменять глаголы или прилагательные (независимо от существительных) и напишем несколько новых функциий, то опять же при вызове каждой новой функции разбор будет делаться заново, и если не вынести токенизацию и разбор в отдельные функции, то будет еще и много дублирующегося кода"
   ]
  },
  {
   "cell_type": "code",
   "execution_count": 117,
   "metadata": {},
   "outputs": [
    {
     "name": "stdout",
     "output_type": "stream",
     "text": [
      "CPU times: user 6.21 s, sys: 0 ns, total: 6.21 s\n",
      "Wall time: 6.22 s\n"
     ]
    }
   ],
   "source": [
    "%%time \n",
    "for i in range(10000):\n",
    "    replace_nouns('котик', 'красивые попугаи сидели на стуле', morph)"
   ]
  },
  {
   "cell_type": "code",
   "execution_count": 118,
   "metadata": {},
   "outputs": [
    {
     "name": "stdout",
     "output_type": "stream",
     "text": [
      "CPU times: user 1.89 s, sys: 0 ns, total: 1.89 s\n",
      "Wall time: 1.89 s\n"
     ]
    }
   ],
   "source": [
    "%%time\n",
    "s = Sentence('красивые попугаи сидели на стуле', morph)\n",
    "for i in range(10000):\n",
    "    s.replace_nouns('котик')"
   ]
  }
 ],
 "metadata": {
  "colab": {
   "name": "13.ipynb",
   "provenance": []
  },
  "kernelspec": {
   "display_name": "Python 3",
   "language": "python",
   "name": "python3"
  },
  "language_info": {
   "codemirror_mode": {
    "name": "ipython",
    "version": 3
   },
   "file_extension": ".py",
   "mimetype": "text/x-python",
   "name": "python",
   "nbconvert_exporter": "python",
   "pygments_lexer": "ipython3",
   "version": "3.7.4"
  }
 },
 "nbformat": 4,
 "nbformat_minor": 1
}
