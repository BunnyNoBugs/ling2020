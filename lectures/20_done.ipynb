{
 "cells": [
  {
   "cell_type": "markdown",
   "metadata": {
    "id": "27dQs-ZTA-VP"
   },
   "source": [
    "# Еще ООП"
   ]
  },
  {
   "cell_type": "markdown",
   "metadata": {
    "id": "oTJYobiuBCyk"
   },
   "source": [
    "## Метаклассы"
   ]
  },
  {
   "cell_type": "markdown",
   "metadata": {
    "id": "ZuT3QudbJY85"
   },
   "source": [
    "Вспоминаем, что в питоне все является объектом. В том числе классы. "
   ]
  },
  {
   "cell_type": "code",
   "execution_count": 1,
   "metadata": {
    "id": "lCRgs5VOBIH4"
   },
   "outputs": [],
   "source": [
    "class MyClass: # этот код создает в памяти объект на который ссылается переменная MyClass\n",
    "    def __init__(self, a):\n",
    "        print('Created instance of MyClass!')\n",
    "        self.a = a"
   ]
  },
  {
   "cell_type": "markdown",
   "metadata": {
    "id": "_q4fsdKVJhmv"
   },
   "source": [
    "Объект `MyClass` может сам порождать объекты --> является классом."
   ]
  },
  {
   "cell_type": "code",
   "execution_count": 2,
   "metadata": {
    "id": "w1CC4UsRJh9R"
   },
   "outputs": [
    {
     "name": "stdout",
     "output_type": "stream",
     "text": [
      "Created instance of MyClass!\n"
     ]
    }
   ],
   "source": [
    "my_obj = MyClass(1)"
   ]
  },
  {
   "cell_type": "markdown",
   "metadata": {
    "id": "2BKq-im6W9qx"
   },
   "source": [
    "Объект ```my_obj``` уже не может порождать объекты, потому что является экземпляром класса, но не классом!"
   ]
  },
  {
   "cell_type": "markdown",
   "metadata": {
    "id": "pFbkVGfYXR0Z"
   },
   "source": [
    "При этом с классом можно делать все то же самое, что и с любым объектом:"
   ]
  },
  {
   "cell_type": "code",
   "execution_count": 3,
   "metadata": {
    "id": "6ZBoNa2XXXA2"
   },
   "outputs": [
    {
     "name": "stdout",
     "output_type": "stream",
     "text": [
      "Created instance of MyClass!\n"
     ]
    }
   ],
   "source": [
    "# записать в переменную\n",
    "class_to_make = MyClass\n",
    "my_obj = class_to_make(1)"
   ]
  },
  {
   "cell_type": "code",
   "execution_count": 4,
   "metadata": {
    "id": "bgudpI1bXbXC"
   },
   "outputs": [
    {
     "data": {
      "text/plain": [
       "1"
      ]
     },
     "execution_count": 4,
     "metadata": {},
     "output_type": "execute_result"
    }
   ],
   "source": [
    "my_obj.a"
   ]
  },
  {
   "cell_type": "code",
   "execution_count": 5,
   "metadata": {
    "id": "kw4gtVA9Xd4o"
   },
   "outputs": [],
   "source": [
    "# передать в функцию \n",
    "def create_instance(class_object, a=1):\n",
    "    print(a)\n",
    "    return class_object(a)"
   ]
  },
  {
   "cell_type": "code",
   "execution_count": 6,
   "metadata": {
    "id": "hWq4nNTpXiMO"
   },
   "outputs": [
    {
     "name": "stdout",
     "output_type": "stream",
     "text": [
      "1\n",
      "Created instance of MyClass!\n"
     ]
    }
   ],
   "source": [
    "my_obj = create_instance(MyClass, 1)"
   ]
  },
  {
   "cell_type": "code",
   "execution_count": 7,
   "metadata": {
    "id": "5qX__hFaXk_8"
   },
   "outputs": [
    {
     "data": {
      "text/plain": [
       "1"
      ]
     },
     "execution_count": 7,
     "metadata": {},
     "output_type": "execute_result"
    }
   ],
   "source": [
    "my_obj.a"
   ]
  },
  {
   "cell_type": "code",
   "execution_count": 8,
   "metadata": {
    "id": "liAiyGD1XlMR"
   },
   "outputs": [
    {
     "name": "stdout",
     "output_type": "stream",
     "text": [
      "Created instance of MyClass!\n"
     ]
    }
   ],
   "source": [
    "# добавить или изменить атрибут (это будет атрибут класса)\n",
    "MyClass.new_class_attr = 10\n",
    "my_obj1 = MyClass(1)"
   ]
  },
  {
   "cell_type": "code",
   "execution_count": 9,
   "metadata": {
    "id": "_WFLvy8VXla0"
   },
   "outputs": [
    {
     "data": {
      "text/plain": [
       "10"
      ]
     },
     "execution_count": 9,
     "metadata": {},
     "output_type": "execute_result"
    }
   ],
   "source": [
    "my_obj1.new_class_attr"
   ]
  },
  {
   "cell_type": "code",
   "execution_count": 11,
   "metadata": {
    "id": "tiKL0oBoXlks"
   },
   "outputs": [],
   "source": [
    "MyClass.new_class_attr = 20"
   ]
  },
  {
   "cell_type": "code",
   "execution_count": 12,
   "metadata": {
    "id": "mC3OXLMnXwkT"
   },
   "outputs": [
    {
     "data": {
      "text/plain": [
       "20"
      ]
     },
     "execution_count": 12,
     "metadata": {},
     "output_type": "execute_result"
    }
   ],
   "source": [
    "my_obj1.new_class_attr"
   ]
  },
  {
   "cell_type": "markdown",
   "metadata": {
    "id": "tPO_-D55X2ML"
   },
   "source": [
    "### Динамическое создание классов"
   ]
  },
  {
   "cell_type": "markdown",
   "metadata": {
    "id": "kMs4P4WvX9G1"
   },
   "source": [
    "Классы можно создавать динамически с помощью `type`, передав следующие аргументы: имя нового класса, кортеж с объектами родительских классов, словарь с названиями и значениями атрибутов классов. "
   ]
  },
  {
   "cell_type": "code",
   "execution_count": 13,
   "metadata": {
    "id": "Q_6xJ2UJYqWM"
   },
   "outputs": [],
   "source": [
    "class Animal:\n",
    "   \n",
    "    def __init__(self, name, legs, scariness):\n",
    "        self.name = name \n",
    "        self.legs = legs\n",
    "        self.scariness = scariness\n",
    "        \n",
    "class Cat(Animal):\n",
    "    def sound(self): \n",
    "        print('Meow!')"
   ]
  },
  {
   "cell_type": "code",
   "execution_count": 14,
   "metadata": {
    "id": "ek0aW3PwX6vz"
   },
   "outputs": [],
   "source": [
    "Kitten = type('Kitten', # имя нового класса\n",
    "                (Cat, ), # кортеж с родительскими классами\n",
    "                {'is_smol':True}) # словарь с названиями и значениями атрибутов классов"
   ]
  },
  {
   "cell_type": "code",
   "execution_count": 15,
   "metadata": {
    "colab": {
     "base_uri": "https://localhost:8080/"
    },
    "id": "sUPudRAHbVmn",
    "outputId": "7098809c-c6f0-40b6-f16b-21accb276248"
   },
   "outputs": [
    {
     "name": "stdout",
     "output_type": "stream",
     "text": [
      "Help on class Kitten in module __main__:\n",
      "\n",
      "class Kitten(Cat)\n",
      " |  Kitten(name, legs, scariness)\n",
      " |  \n",
      " |  Method resolution order:\n",
      " |      Kitten\n",
      " |      Cat\n",
      " |      Animal\n",
      " |      builtins.object\n",
      " |  \n",
      " |  Data and other attributes defined here:\n",
      " |  \n",
      " |  is_smol = True\n",
      " |  \n",
      " |  ----------------------------------------------------------------------\n",
      " |  Methods inherited from Cat:\n",
      " |  \n",
      " |  sound(self)\n",
      " |  \n",
      " |  ----------------------------------------------------------------------\n",
      " |  Methods inherited from Animal:\n",
      " |  \n",
      " |  __init__(self, name, legs, scariness)\n",
      " |      Initialize self.  See help(type(self)) for accurate signature.\n",
      " |  \n",
      " |  ----------------------------------------------------------------------\n",
      " |  Data descriptors inherited from Animal:\n",
      " |  \n",
      " |  __dict__\n",
      " |      dictionary for instance variables (if defined)\n",
      " |  \n",
      " |  __weakref__\n",
      " |      list of weak references to the object (if defined)\n",
      "\n"
     ]
    }
   ],
   "source": [
    "help(Kitten)"
   ]
  },
  {
   "cell_type": "code",
   "execution_count": 16,
   "metadata": {
    "id": "wG4lU5BwYBDd"
   },
   "outputs": [],
   "source": [
    "kitten = Kitten(name='Small Nice Kitty', legs=4, scariness=-10)"
   ]
  },
  {
   "cell_type": "code",
   "execution_count": 17,
   "metadata": {
    "colab": {
     "base_uri": "https://localhost:8080/",
     "height": 35
    },
    "id": "LHzQGKPqYBQm",
    "outputId": "e1e2ff25-ce5c-4a1f-8efc-9300623d0c5c"
   },
   "outputs": [
    {
     "data": {
      "text/plain": [
       "'Small Nice Kitty'"
      ]
     },
     "execution_count": 17,
     "metadata": {},
     "output_type": "execute_result"
    }
   ],
   "source": [
    "kitten.name"
   ]
  },
  {
   "cell_type": "code",
   "execution_count": 18,
   "metadata": {
    "colab": {
     "base_uri": "https://localhost:8080/"
    },
    "id": "AOCmr3NVYdPZ",
    "outputId": "e849e05c-7c70-4530-b326-5b22f313a191"
   },
   "outputs": [
    {
     "name": "stdout",
     "output_type": "stream",
     "text": [
      "Meow!\n"
     ]
    }
   ],
   "source": [
    "kitten.sound()"
   ]
  },
  {
   "cell_type": "code",
   "execution_count": 19,
   "metadata": {
    "colab": {
     "base_uri": "https://localhost:8080/"
    },
    "id": "N9dwT4paYdaw",
    "outputId": "7bc8a43d-2bc3-4e4a-cb6f-a1d2c6f4b804"
   },
   "outputs": [
    {
     "data": {
      "text/plain": [
       "True"
      ]
     },
     "execution_count": 19,
     "metadata": {},
     "output_type": "execute_result"
    }
   ],
   "source": [
    "kitten.is_smol"
   ]
  },
  {
   "cell_type": "markdown",
   "metadata": {
    "id": "7_MOuyqJYZDQ"
   },
   "source": [
    "Добавление методов в класс:"
   ]
  },
  {
   "cell_type": "code",
   "execution_count": 20,
   "metadata": {
    "id": "irfPMm7nZdtN"
   },
   "outputs": [],
   "source": [
    "# создаем функцию (сallable object) с нужныи именем и аргументами\n",
    "def introduce_kitten(self):\n",
    "    return \"Hello I am %s!\" % (self.name)"
   ]
  },
  {
   "cell_type": "code",
   "execution_count": 23,
   "metadata": {},
   "outputs": [],
   "source": [
    "def other_introduce(self):\n",
    "    return \"Hi!!!!! I am %s!!!!!!\" % (self.name)"
   ]
  },
  {
   "cell_type": "code",
   "execution_count": 24,
   "metadata": {
    "id": "_dIZu-15aaIg"
   },
   "outputs": [],
   "source": [
    "# и передаем в уже готовый класс\n",
    "# метод необязательно называть так же, как и функцию, это неважно\n",
    "# потому что мы просто присваиваем значение одной переменной другой переменной\n",
    "Kitten.introduce = other_introduce"
   ]
  },
  {
   "cell_type": "code",
   "execution_count": 25,
   "metadata": {
    "colab": {
     "base_uri": "https://localhost:8080/",
     "height": 35
    },
    "id": "TcLMssAoazsH",
    "outputId": "0d7875f5-5c79-406a-b603-c85468f476dc"
   },
   "outputs": [
    {
     "data": {
      "text/plain": [
       "'Hi!!!!! I am Small Nice Kitty!!!!!!'"
      ]
     },
     "execution_count": 25,
     "metadata": {},
     "output_type": "execute_result"
    }
   ],
   "source": [
    "kitten.introduce()"
   ]
  },
  {
   "cell_type": "markdown",
   "metadata": {
    "id": "bTq4-InFb1Qj"
   },
   "source": [
    "По сути методы  - это атрибуты являющиеся Callable (которые можно вызывать). И обращаемся мы с ними точно так же, как с просто атрибутами. "
   ]
  },
  {
   "cell_type": "code",
   "execution_count": 27,
   "metadata": {
    "colab": {
     "base_uri": "https://localhost:8080/"
    },
    "id": "qH_zc6ujcJeR",
    "outputId": "ef353832-27ea-434f-d2d9-43b88303991d"
   },
   "outputs": [
    {
     "data": {
      "text/plain": [
       "False"
      ]
     },
     "execution_count": 27,
     "metadata": {},
     "output_type": "execute_result"
    }
   ],
   "source": [
    "callable(introduce_kitten)"
   ]
  },
  {
   "cell_type": "code",
   "execution_count": 42,
   "metadata": {
    "id": "J9R6bLqobiSU"
   },
   "outputs": [],
   "source": [
    "# или передаем в словаре аргументов при создании класса\n",
    "kitten_class = type('Kitten', # имя нового класса\n",
    "                (Cat, ), # кортеж с родительскими классами\n",
    "                {'is_smol':True, 'introduce': introduce_kitten}) # словарь с названиями и значениями атрибутов классов"
   ]
  },
  {
   "cell_type": "code",
   "execution_count": 43,
   "metadata": {},
   "outputs": [
    {
     "data": {
      "text/plain": [
       "'Kitten'"
      ]
     },
     "execution_count": 43,
     "metadata": {},
     "output_type": "execute_result"
    }
   ],
   "source": [
    "kitten_class.__name__"
   ]
  },
  {
   "cell_type": "markdown",
   "metadata": {
    "id": "LWUGdAsOdNAm"
   },
   "source": [
    "Можно создавать классы в цикле:"
   ]
  },
  {
   "cell_type": "code",
   "execution_count": 28,
   "metadata": {
    "id": "d9CBoNhzdQym"
   },
   "outputs": [],
   "source": [
    "def introduce(self):\n",
    "    return \"Hello I am %s, %s year student!\" % (self.name, str(self.year))\n",
    "\n",
    "new_classes = []\n",
    "for i in range(1,5):\n",
    "    new_classes.append(type('Student_%s_year'%str(i), (object, ), {'year': i, 'introduce': introduce})) "
   ]
  },
  {
   "cell_type": "code",
   "execution_count": 29,
   "metadata": {},
   "outputs": [
    {
     "data": {
      "text/plain": [
       "[__main__.Student_1_year,\n",
       " __main__.Student_2_year,\n",
       " __main__.Student_3_year,\n",
       " __main__.Student_4_year]"
      ]
     },
     "execution_count": 29,
     "metadata": {},
     "output_type": "execute_result"
    }
   ],
   "source": [
    "new_classes"
   ]
  },
  {
   "cell_type": "code",
   "execution_count": 30,
   "metadata": {
    "colab": {
     "base_uri": "https://localhost:8080/"
    },
    "id": "CxtmXdwrddUF",
    "outputId": "40d4deff-3f57-4fdd-8a8b-cb27a783bdfe"
   },
   "outputs": [
    {
     "name": "stdout",
     "output_type": "stream",
     "text": [
      "<__main__.Student_1_year object at 0x7fab3c750710>\n",
      "1\n",
      "Hello I am Vasya, 1 year student!\n",
      "\n",
      "<__main__.Student_2_year object at 0x7fab3c73fc90>\n",
      "2\n",
      "Hello I am Masha, 2 year student!\n",
      "\n",
      "<__main__.Student_3_year object at 0x7fab3c73fbd0>\n",
      "3\n",
      "Hello I am Petya, 3 year student!\n",
      "\n",
      "<__main__.Student_4_year object at 0x7fab3c79ae90>\n",
      "4\n",
      "Hello I am Dasha, 4 year student!\n",
      "\n"
     ]
    }
   ],
   "source": [
    "names = ['Vasya', 'Masha', 'Petya', 'Dasha']\n",
    "for i, class_ in enumerate(new_classes):\n",
    "    obj = class_()\n",
    "    obj.name = names[i] # атрибуты экземпляра задаются отдельно\n",
    "    print(obj)\n",
    "    print(obj.year)\n",
    "    print(obj.introduce()+'\\n')"
   ]
  },
  {
   "cell_type": "markdown",
   "metadata": {
    "id": "clAyNwwS2NWd"
   },
   "source": [
    "### Что такое меткласс?"
   ]
  },
  {
   "cell_type": "markdown",
   "metadata": {
    "id": "yaitDifCv7Yw"
   },
   "source": [
    "То же самое можно сделать с помощью метакласса.    \n",
    "**Метакласс** - класс, экземпляры которого сами являются классами (могут порождать свои экземпляры). \n",
    "![](https://blog.ionelmc.ro/2015/02/09/understanding-python-metaclasses/instance-of.png)"
   ]
  },
  {
   "cell_type": "markdown",
   "metadata": {
    "id": "F1NbD50iv-h1"
   },
   "source": [
    "#### \\_\\_new\\_\\_ и \\_\\_init\\_\\_ "
   ]
  },
  {
   "cell_type": "markdown",
   "metadata": {
    "id": "z0av1JsZwd6S"
   },
   "source": [
    "![](https://i.stack.imgur.com/MgRbx.png)\n",
    "+ `__new__()` - отвечает за создание нового экземпляра класса, возвращает новый объект (**должен быть return**)\n",
    "+ `__init__()` - отвечает за инициализацию нового экземпляра класса - объявить какие у него есть атрибуты, какие у них значения (**без returna**)\n"
   ]
  },
  {
   "cell_type": "code",
   "execution_count": 31,
   "metadata": {
    "id": "PiUUSCk4zAcW"
   },
   "outputs": [],
   "source": [
    "class MyClass:\n",
    "\n",
    "    def __init__(self):\n",
    "        self.my_attr = 1\n",
    "        print('init called')\n",
    "\n",
    "    def __new__(self, *args, **kwargs):\n",
    "        print('new called')\n",
    "        return super().__new__(self, *args, **kwargs)\n"
   ]
  },
  {
   "cell_type": "code",
   "execution_count": 32,
   "metadata": {
    "colab": {
     "base_uri": "https://localhost:8080/"
    },
    "id": "t_bgY5XJy_4r",
    "outputId": "1828ef0a-67af-4abe-e1f0-5789ce722f8c"
   },
   "outputs": [
    {
     "name": "stdout",
     "output_type": "stream",
     "text": [
      "new called\n",
      "init called\n",
      "1\n"
     ]
    }
   ],
   "source": [
    "new_instance = MyClass()\n",
    "print(new_instance.my_attr)"
   ]
  },
  {
   "cell_type": "markdown",
   "metadata": {
    "id": "0WV6c6640cUs"
   },
   "source": [
    "Создаем метакласс, который будет порождать классы \"студент Х-го курса\":"
   ]
  },
  {
   "cell_type": "code",
   "execution_count": 33,
   "metadata": {
    "id": "w065pSABwEQq"
   },
   "outputs": [],
   "source": [
    "# переопределим конструктор, чтобы атрибут name передавался в качестве аргумента\n",
    "def __init__(self, name):\n",
    "    self.name = name"
   ]
  },
  {
   "cell_type": "code",
   "execution_count": 34,
   "metadata": {},
   "outputs": [],
   "source": [
    "# создадим метод introduce\n",
    "def introduce(self):\n",
    "    return \"Hello I am %s, %s year student!\" % (self.name, str(self.year))"
   ]
  },
  {
   "cell_type": "code",
   "execution_count": 35,
   "metadata": {
    "id": "7iAG6K9uwJxJ"
   },
   "outputs": [],
   "source": [
    "# допустим мы хотим отдельно передавать методы в виде списка\n",
    "# и так, чтобы они автоматически добавлялись с нужным именем\n",
    "student_methods = [introduce, __init__]"
   ]
  },
  {
   "cell_type": "code",
   "execution_count": 36,
   "metadata": {},
   "outputs": [
    {
     "data": {
      "text/plain": [
       "'introduce'"
      ]
     },
     "execution_count": 36,
     "metadata": {},
     "output_type": "execute_result"
    }
   ],
   "source": [
    "introduce.__name__"
   ]
  },
  {
   "cell_type": "code",
   "execution_count": 37,
   "metadata": {},
   "outputs": [],
   "source": [
    "intr = introduce"
   ]
  },
  {
   "cell_type": "code",
   "execution_count": 38,
   "metadata": {},
   "outputs": [
    {
     "data": {
      "text/plain": [
       "'introduce'"
      ]
     },
     "execution_count": 38,
     "metadata": {},
     "output_type": "execute_result"
    }
   ],
   "source": [
    "intr.__name__"
   ]
  },
  {
   "cell_type": "code",
   "execution_count": 41,
   "metadata": {},
   "outputs": [
    {
     "data": {
      "text/plain": [
       "'StudentMetaClass'"
      ]
     },
     "execution_count": 41,
     "metadata": {},
     "output_type": "execute_result"
    }
   ],
   "source": [
    "StudentMetaClass.__name__"
   ]
  },
  {
   "cell_type": "code",
   "execution_count": 40,
   "metadata": {
    "id": "4eFxXPz5yozy"
   },
   "outputs": [],
   "source": [
    "class StudentMetaClass(type): # обязательно наследуемся от type \n",
    "    def __new__(cls, name, bases, attrs):\n",
    "        for method in attrs['methods']:\n",
    "            attrs[method.__name__] = method # добавляем пары ключ - название метода, значение -  метод\n",
    "        attrs.pop('methods') # удаляем methods из словаря атрибутов \n",
    "        return super().__new__(cls, name, bases, attrs)"
   ]
  },
  {
   "cell_type": "markdown",
   "metadata": {
    "id": "-cLO6iBO1ND3"
   },
   "source": [
    "`type` на самом деле тоже является метаклассом, который Python внутренне использует для создания всех классов"
   ]
  },
  {
   "cell_type": "code",
   "execution_count": 44,
   "metadata": {
    "id": "dEJRdtpv1R0H"
   },
   "outputs": [],
   "source": [
    "new_classes = []\n",
    "for i in range(1,5):\n",
    "    new_classes.append(StudentMetaClass('Student%sYear'%str(i), (object, ), {'year': i, 'methods': student_methods})) "
   ]
  },
  {
   "cell_type": "code",
   "execution_count": 46,
   "metadata": {
    "colab": {
     "base_uri": "https://localhost:8080/"
    },
    "id": "zNxOt-bF1dNU",
    "outputId": "96f6b170-9da2-4c3d-eb15-1643432e4189"
   },
   "outputs": [
    {
     "name": "stdout",
     "output_type": "stream",
     "text": [
      "Student1Year\n",
      "<__main__.Student1Year object at 0x7fab3c6efc50>\n",
      "1\n",
      "Hello I am Vasya, 1 year student!\n",
      "\n",
      "Student2Year\n",
      "<__main__.Student2Year object at 0x7fab3c6fb690>\n",
      "2\n",
      "Hello I am Masha, 2 year student!\n",
      "\n",
      "Student3Year\n",
      "<__main__.Student3Year object at 0x7fab3c6d12d0>\n",
      "3\n",
      "Hello I am Petya, 3 year student!\n",
      "\n",
      "Student4Year\n",
      "<__main__.Student4Year object at 0x7fab3c6d1750>\n",
      "4\n",
      "Hello I am Dasha, 4 year student!\n",
      "\n"
     ]
    }
   ],
   "source": [
    "names = ['Vasya', 'Masha', 'Petya', 'Dasha']\n",
    "for i, class_ in enumerate(new_classes):\n",
    "    print (class_.__name__)\n",
    "    obj = class_(name=names[i])\n",
    "    print(obj)\n",
    "    print(obj.year)\n",
    "    print(obj.introduce()+'\\n')"
   ]
  },
  {
   "cell_type": "markdown",
   "metadata": {
    "id": "2j3Bvqes2y83"
   },
   "source": [
    "### Аргумент metaclass"
   ]
  },
  {
   "cell_type": "markdown",
   "metadata": {
    "id": "uK9rCYhG23Lz"
   },
   "source": [
    "При написании класса можно добавить аргумент  metaclass, тогда питон при создании класса будет использовать указанный метакласс, а не type  \n",
    "При указании metaclass питон \n",
    "+ перехватывает создание класса\n",
    "+ изменяет класс\n",
    "+ возвращает модифицированный объект класса"
   ]
  },
  {
   "cell_type": "code",
   "execution_count": 47,
   "metadata": {
    "id": "9ftNFyx720Sd"
   },
   "outputs": [],
   "source": [
    "class Student1Year(metaclass=StudentMetaClass):\n",
    "    # задаем атрибуты, такие же как в словаре переданном StudentMetaClass последним аргументом\n",
    "    year = 1 \n",
    "    methods = student_methods"
   ]
  },
  {
   "cell_type": "code",
   "execution_count": 48,
   "metadata": {
    "id": "GmPZ4rk2_6md"
   },
   "outputs": [],
   "source": [
    "student = Student1Year('Boris')"
   ]
  },
  {
   "cell_type": "code",
   "execution_count": 49,
   "metadata": {
    "colab": {
     "base_uri": "https://localhost:8080/",
     "height": 35
    },
    "id": "IG53HwoT_7XB",
    "outputId": "8ed78c4a-7d9c-45e4-adf0-1a8c49d9ed23"
   },
   "outputs": [
    {
     "data": {
      "text/plain": [
       "'Hello I am Boris, 1 year student!'"
      ]
     },
     "execution_count": 49,
     "metadata": {},
     "output_type": "execute_result"
    }
   ],
   "source": [
    "student.introduce()"
   ]
  },
  {
   "cell_type": "code",
   "execution_count": 50,
   "metadata": {
    "colab": {
     "base_uri": "https://localhost:8080/"
    },
    "id": "CxWdyaMt_-ks",
    "outputId": "1dd23371-89bc-4688-8bf8-a908c72cb2e7"
   },
   "outputs": [
    {
     "data": {
      "text/plain": [
       "1"
      ]
     },
     "execution_count": 50,
     "metadata": {},
     "output_type": "execute_result"
    }
   ],
   "source": [
    "student.year"
   ]
  },
  {
   "cell_type": "code",
   "execution_count": 51,
   "metadata": {
    "colab": {
     "base_uri": "https://localhost:8080/"
    },
    "id": "fj_wVwVVe2Iv",
    "outputId": "c586d5c7-4a25-4bb9-b1e0-c316fa671a51"
   },
   "outputs": [
    {
     "data": {
      "text/plain": [
       "__main__.StudentMetaClass"
      ]
     },
     "execution_count": 51,
     "metadata": {},
     "output_type": "execute_result"
    }
   ],
   "source": [
    "type(Student1Year)"
   ]
  },
  {
   "cell_type": "code",
   "execution_count": 52,
   "metadata": {},
   "outputs": [
    {
     "data": {
      "text/plain": [
       "__main__.Student1Year"
      ]
     },
     "execution_count": 52,
     "metadata": {},
     "output_type": "execute_result"
    }
   ],
   "source": [
    "type(student)"
   ]
  },
  {
   "cell_type": "markdown",
   "metadata": {
    "id": "8mmtZo2-he8g"
   },
   "source": [
    "## \\_\\_call\\_\\_"
   ]
  },
  {
   "cell_type": "markdown",
   "metadata": {
    "id": "M_vYk3FvmSI3"
   },
   "source": [
    "+ ```__call__()``` - определяет поведение, когда экземпляр класса вызывают (как функцию)"
   ]
  },
  {
   "cell_type": "code",
   "execution_count": 55,
   "metadata": {
    "id": "I_554mPFmRgG"
   },
   "outputs": [],
   "source": [
    "class MyClass:\n",
    "    \n",
    "    def __call__(cls):\n",
    "        print('called method call')\n",
    "\n",
    "my_class_instance = MyClass()"
   ]
  },
  {
   "cell_type": "code",
   "execution_count": 56,
   "metadata": {
    "colab": {
     "base_uri": "https://localhost:8080/"
    },
    "id": "Du5X3fLVmqIJ",
    "outputId": "1080cf6f-012a-43a8-c029-8f568e721865"
   },
   "outputs": [
    {
     "name": "stdout",
     "output_type": "stream",
     "text": [
      "called method call\n"
     ]
    }
   ],
   "source": [
    "my_class_instance()"
   ]
  },
  {
   "cell_type": "markdown",
   "metadata": {
    "id": "Bi1QfExBhjJP"
   },
   "source": [
    "![](https://i.stack.imgur.com/YVB4Q.png)"
   ]
  },
  {
   "cell_type": "code",
   "execution_count": 58,
   "metadata": {
    "colab": {
     "base_uri": "https://localhost:8080/"
    },
    "id": "dqzDA1xmhnAH",
    "outputId": "912a0ade-99bb-4d98-b514-daf7a899d608"
   },
   "outputs": [
    {
     "name": "stdout",
     "output_type": "stream",
     "text": [
      "called new of metaclass\n"
     ]
    }
   ],
   "source": [
    "class MyMeta(type):\n",
    "    def __new__(cls, *args, **kwargs):\n",
    "        print('called new of metaclass')\n",
    "        return super().__new__(cls, *args, **kwargs)\n",
    "\n",
    "    def __call__(cls, *args, **kwargs):\n",
    "        print('called call of metaclass')\n",
    "        return super().__call__(*args, **kwargs)\n",
    "\n",
    "class MyClass(metaclass=MyMeta):\n",
    "    def __init__(self):\n",
    "        self.my_attr = 1\n",
    "        print('init called')\n",
    "\n",
    "    def __new__(self, *args, **kwargs):\n",
    "        print('new called')\n",
    "        return super().__new__(self, *args, **kwargs)\n",
    "\n",
    "# MyClass() - тот самый __call__, мы вызываем экземпляр класса MyMeta (объект MyClass) как функцию\n",
    "# my_class = MyClass() "
   ]
  },
  {
   "cell_type": "markdown",
   "metadata": {
    "id": "odBcjxZlAB3q"
   },
   "source": [
    "**Задание**: \n",
    "   + написать метакласс, который переводит названия всех атрибутов и методов (кроме служебных) в верхний регистр\n",
    "   + служебный = начинается и заканчивается на два нижих подчеркивания"
   ]
  },
  {
   "cell_type": "code",
   "execution_count": 59,
   "metadata": {},
   "outputs": [],
   "source": [
    "class UpperCaseMetaclass(type):\n",
    "    def __new__(cls, name, bases, attrs):\n",
    "        new_attrs = {}\n",
    "        for attr in attrs:\n",
    "            # проверяем служебный атрибут или нет\n",
    "            if not attr.startswith('__') and not attr.endswith('__'):\n",
    "                new_attrs[attr.upper()] = attrs[attr]\n",
    "        return super().__new__(cls, name, bases, new_attrs)"
   ]
  },
  {
   "cell_type": "code",
   "execution_count": 60,
   "metadata": {
    "id": "9-WuOZNuAHON"
   },
   "outputs": [],
   "source": [
    "# пример работы\n",
    "class MyClass(metaclass=UpperCaseMetaclass):\n",
    "    attr1 = 1"
   ]
  },
  {
   "cell_type": "code",
   "execution_count": 61,
   "metadata": {
    "colab": {
     "base_uri": "https://localhost:8080/"
    },
    "id": "iMLbk1DwAKWI",
    "outputId": "3f36fd77-de7c-443f-f2c3-15f1adb5868c"
   },
   "outputs": [
    {
     "data": {
      "text/plain": [
       "1"
      ]
     },
     "execution_count": 61,
     "metadata": {},
     "output_type": "execute_result"
    }
   ],
   "source": [
    "my_object = MyClass()\n",
    "my_object.ATTR1\n",
    "# 1"
   ]
  },
  {
   "cell_type": "markdown",
   "metadata": {
    "id": "VZbiYO1zA8xM"
   },
   "source": [
    "## Зачем нужны метаклассы - примеры"
   ]
  },
  {
   "cell_type": "markdown",
   "metadata": {
    "id": "ZnQ9dg9dBd2W"
   },
   "source": [
    "### Синглтон"
   ]
  },
  {
   "cell_type": "markdown",
   "metadata": {
    "id": "SkLDNI_dC50t"
   },
   "source": [
    "Паттерн синглтон:\n",
    "+ создание одного и только одного экземпляра класса\n",
    "+ предоставление глобальной точки доступа к нему"
   ]
  },
  {
   "cell_type": "markdown",
   "metadata": {
    "id": "Wdfggra9DeMK"
   },
   "source": [
    "Пример в питоне - None:"
   ]
  },
  {
   "cell_type": "code",
   "execution_count": null,
   "metadata": {
    "id": "XGAGa0ISDA1m"
   },
   "outputs": [],
   "source": [
    "a = None"
   ]
  },
  {
   "cell_type": "code",
   "execution_count": null,
   "metadata": {
    "id": "-cP7jY9gDCuI"
   },
   "outputs": [],
   "source": [
    "b = None"
   ]
  },
  {
   "cell_type": "code",
   "execution_count": null,
   "metadata": {
    "colab": {
     "base_uri": "https://localhost:8080/"
    },
    "id": "0vbNcFwCDE_k",
    "outputId": "c5cfc94b-2b28-41f2-af1b-3335f5ee06f5"
   },
   "outputs": [],
   "source": [
    "a is b"
   ]
  },
  {
   "cell_type": "code",
   "execution_count": null,
   "metadata": {
    "colab": {
     "base_uri": "https://localhost:8080/"
    },
    "id": "DC9XXqdcDGlx",
    "outputId": "181f2cbb-eb16-48c8-c449-69da141bbb2a"
   },
   "outputs": [],
   "source": [
    "print(id(a), id(b), id(None))"
   ]
  },
  {
   "cell_type": "code",
   "execution_count": null,
   "metadata": {
    "colab": {
     "base_uri": "https://localhost:8080/"
    },
    "id": "dr8gJZ_WY4xt",
    "outputId": "a74235fe-18ea-4e53-c8ee-f298788ad91a"
   },
   "outputs": [],
   "source": [
    "# можно делать так и наследоваться от него\n",
    "class Singleton:\n",
    "    def __new__(cls):\n",
    "        if not hasattr(cls, 'instance'): # проверяем что существует только один экземпляр\n",
    "            cls.instance = super(Singleton, cls).__new__(cls) # сохраняем в атрибуте класса информацию о созданном экземпляре\n",
    "        return cls.instance\n",
    "s = Singleton()\n",
    "print(\"Object created\", s)\n",
    "s1 = Singleton() # точка доступа через создание экземпляра\n",
    "print(\"Object created\", s1)"
   ]
  },
  {
   "cell_type": "code",
   "execution_count": null,
   "metadata": {
    "colab": {
     "base_uri": "https://localhost:8080/"
    },
    "id": "B8Y07L4-ZaFL",
    "outputId": "d11e32b8-46da-4d4e-aa59-9081b488f955"
   },
   "outputs": [],
   "source": [
    "s is s1"
   ]
  },
  {
   "cell_type": "markdown",
   "metadata": {
    "id": "nIPfJITAZ3fP"
   },
   "source": [
    "Метакласс для создания синглтона:"
   ]
  },
  {
   "cell_type": "code",
   "execution_count": null,
   "metadata": {
    "colab": {
     "base_uri": "https://localhost:8080/"
    },
    "id": "DNg9VPBFZusR",
    "outputId": "dc4ede85-7a62-48c1-b9b3-d7680b0fab4f"
   },
   "outputs": [],
   "source": [
    "# можно создать меткласс\n",
    "class MetaSingleton(type):\n",
    "    _instances = {} # храним set созданных экземпляров всех классов \n",
    "    def __call__(cls, *args, **kwargs):\n",
    "        if cls not in cls._instances:\n",
    "            cls._instances[cls] = super(MetaSingleton, cls).__call__(*args, **kwargs)\n",
    "        return cls._instances[cls]\n",
    "\n",
    "class ParentLogger:\n",
    "    is_parent = True\n",
    "\n",
    "# наследуемся как обычно, никаких изменений в механизме наследования не просиходит\n",
    "class Logger(ParentLogger, metaclass=MetaSingleton):\n",
    "    pass\n",
    "\n",
    "class Something(metaclass=MetaSingleton):\n",
    "    some_attr = 0\n",
    "\n",
    "logger1 = Logger()\n",
    "print(MetaSingleton._instances)\n",
    "logger2 = Logger()\n",
    "print(MetaSingleton._instances)\n",
    "something1 = Something()\n",
    "print(MetaSingleton._instances)\n",
    "something2 = Something()\n",
    "print(MetaSingleton._instances)"
   ]
  },
  {
   "cell_type": "code",
   "execution_count": null,
   "metadata": {
    "colab": {
     "base_uri": "https://localhost:8080/"
    },
    "id": "Jihx7OZWcK1T",
    "outputId": "e0b7f3a6-ced9-478c-b0d1-aabec5b59922"
   },
   "outputs": [],
   "source": [
    "print(logger1 is logger2)\n",
    "print(something1 is something2)\n",
    "print(logger1 is something2) # на всякий случай стоит упомянуть"
   ]
  },
  {
   "cell_type": "markdown",
   "metadata": {
    "id": "Ib-4UU8Kfx5t"
   },
   "source": [
    "**Задание:**\n",
    "+ выяснить и рассказать мне, наследуется ли принадлежность к метаклассу\n",
    "+ то есть будут ли дочерние классы например Logger иметь тот же метакласс"
   ]
  },
  {
   "cell_type": "markdown",
   "metadata": {
    "id": "_Wp9q_3ZBFLm"
   },
   "source": [
    "### ORM"
   ]
  },
  {
   "cell_type": "markdown",
   "metadata": {
    "id": "0fNn9I16szR2"
   },
   "source": [
    "**Object Relational Mapping** - отображение отношений реляционной бд в классы и объекты\n",
    "![](https://www.fullstackpython.com/img/visuals/orms-bridge.png)"
   ]
  },
  {
   "cell_type": "markdown",
   "metadata": {
    "id": "WCSLdT4-tmVP"
   },
   "source": [
    "Примеры:\n",
    "+ SQLAlchemy\n",
    "+ DjangoORM\n",
    "+ SQLObject\n",
    "+ ClickhouseORM\n",
    "+ PonyORM\n",
    "+ и т.д. "
   ]
  },
  {
   "cell_type": "markdown",
   "metadata": {
    "id": "w0Q7WjhHt6pE"
   },
   "source": [
    "Зачем нужно:\n",
    "+ упрощает написание запросов и работу с их результатами\n",
    "    ![](https://www.dropbox.com/s/em0e38etaqmopgr/Screenshot%20from%202021-01-20%2001-38-55.png?dl=1)\n",
    "+ более абстрактный и универсальный интерфейс\n",
    "+ проще дебажить и тестировать\n",
    "+ многие вещи автоматизированы\n"
   ]
  },
  {
   "cell_type": "markdown",
   "metadata": {},
   "source": [
    "## Классы данных - dataclasses"
   ]
  },
  {
   "cell_type": "markdown",
   "metadata": {},
   "source": [
    "+ python 3.7+\n",
    "+ автоматизируют генерацию кода классов, использующихся для хранения данных\n",
    "+ без использования метклассов\n",
    "+ лучше использовать классы данных чем кортеж, словарь и т.д, удобнее получать доступ к атрибутам, код красивее, понятнее и проще для тестирования и отладки\n",
    "+ [документация](https://docs.python.org/3/library/dataclasses.html)"
   ]
  },
  {
   "cell_type": "code",
   "execution_count": null,
   "metadata": {},
   "outputs": [],
   "source": [
    "from dataclasses import dataclass"
   ]
  },
  {
   "cell_type": "code",
   "execution_count": null,
   "metadata": {},
   "outputs": [],
   "source": [
    "# создаем класс игральной карты\n",
    "\n",
    "@dataclass\n",
    "class Card:\n",
    "    rank: str\n",
    "    suit: str"
   ]
  },
  {
   "cell_type": "markdown",
   "metadata": {},
   "source": [
    "Допишет за нас по умолчанию:\n",
    "+ ***init*** с заданными нами аргументами\n",
    "+ красивый ***repr***\n",
    "+ ***eq*** (элементы равны, если равны значения всех атрибутов)"
   ]
  },
  {
   "cell_type": "code",
   "execution_count": null,
   "metadata": {},
   "outputs": [],
   "source": [
    "type(Card)"
   ]
  },
  {
   "cell_type": "code",
   "execution_count": null,
   "metadata": {},
   "outputs": [],
   "source": [
    "# init\n",
    "queen_of_hearts = Card(rank='Q', suit='heart')"
   ]
  },
  {
   "cell_type": "code",
   "execution_count": null,
   "metadata": {},
   "outputs": [],
   "source": [
    "# красивый repr\n",
    "queen_of_hearts"
   ]
  },
  {
   "cell_type": "code",
   "execution_count": null,
   "metadata": {},
   "outputs": [],
   "source": [
    "another_queen_of_hearts = Card(rank='Q', suit='heart')"
   ]
  },
  {
   "cell_type": "code",
   "execution_count": null,
   "metadata": {},
   "outputs": [],
   "source": [
    "# равенство\n",
    "another_queen_of_hearts == queen_of_hearts"
   ]
  },
  {
   "cell_type": "markdown",
   "metadata": {},
   "source": [
    "Без использования dataclass все то же самое выглядело бы вот так:"
   ]
  },
  {
   "cell_type": "code",
   "execution_count": null,
   "metadata": {},
   "outputs": [],
   "source": [
    "class RegularCard\n",
    "    def __init__(self, rank, suit):\n",
    "        self.rank = rank\n",
    "        self.suit = suit\n",
    "\n",
    "    def __repr__(self):\n",
    "        return (f'{self.__class__.__name__}'\n",
    "                f'(rank={self.rank!r}, suit={self.suit!r})')\n",
    "\n",
    "    def __eq__(self, other):\n",
    "        if other.__class__ is not self.__class__:\n",
    "            return NotImplemented\n",
    "        return (self.rank, self.suit) == (other.rank, other.suit)"
   ]
  },
  {
   "cell_type": "markdown",
   "metadata": {},
   "source": [
    "Параметры с их значениями по умолчанию (подробнее можно почитать в документации):"
   ]
  },
  {
   "cell_type": "code",
   "execution_count": null,
   "metadata": {},
   "outputs": [],
   "source": [
    "@dataclass(init=True, # добавить init  \n",
    "           repr=True, # добавить repr\n",
    "           eq=True, # добавить eq\n",
    "           order=False, # добавить методы для сравнения и сортировки (__le__, __ge__ и т.д.)\n",
    "           unsafe_hash=False, # настройик добавления метода __hash__\n",
    "           frozen=False) # сделать класс неизменяемым\n",
    "class Card:\n",
    "\n",
    "    rank: str\n",
    "    suit: str"
   ]
  },
  {
   "cell_type": "markdown",
   "metadata": {},
   "source": [
    "Order - по умолчанию объекты сравниваются как кортежи из всех их атрибутов:"
   ]
  },
  {
   "cell_type": "code",
   "execution_count": null,
   "metadata": {},
   "outputs": [],
   "source": [
    "@dataclass(order=True, frozen=True)\n",
    "class Card:\n",
    "    rank: str\n",
    "    suit: str"
   ]
  },
  {
   "cell_type": "code",
   "execution_count": null,
   "metadata": {},
   "outputs": [],
   "source": [
    "queen_hearts = Card('Q', 'hearts')\n",
    "queen_spades = Card('Q', 'spades')\n",
    "ten_hearts = Card('10', 'hearts')\n",
    "ten_spades = Card('10', 'spades')\n",
    "king_hearts = Card('K', 'hearts')\n",
    "king_spades = Card('K', 'spades')"
   ]
  },
  {
   "cell_type": "markdown",
   "metadata": {},
   "source": [
    "Вот так работает в варианте по умолчанию, но для полноценного представления колоды карт придется переписать:"
   ]
  },
  {
   "cell_type": "code",
   "execution_count": null,
   "metadata": {},
   "outputs": [],
   "source": [
    "queen_hearts > ten_spades"
   ]
  },
  {
   "cell_type": "code",
   "execution_count": null,
   "metadata": {},
   "outputs": [],
   "source": [
    "queen_spades > ten_hearts"
   ]
  },
  {
   "cell_type": "code",
   "execution_count": null,
   "metadata": {},
   "outputs": [],
   "source": [
    "queen_spades < king_spades # неправильно"
   ]
  },
  {
   "cell_type": "code",
   "execution_count": null,
   "metadata": {
    "scrolled": true
   },
   "outputs": [],
   "source": [
    "for card in sorted([queen_hearts, queen_spades, ten_hearts, ten_spades, \n",
    "                    king_hearts, king_spades]):\n",
    "    print(card)"
   ]
  },
  {
   "cell_type": "markdown",
   "metadata": {},
   "source": [
    "Также легко добавить \n",
    "+ значение атрибута по умолчанию\n",
    "+ атрибуты класса"
   ]
  },
  {
   "cell_type": "code",
   "execution_count": null,
   "metadata": {},
   "outputs": [],
   "source": [
    "from typing import ClassVar\n",
    "\n",
    "@dataclass\n",
    "class Animal:\n",
    "    fav_food: ClassVar = 'pizza' # переменная класса\n",
    "        \n",
    "    name: str\n",
    "    # значения по умолчанию\n",
    "    species: str = 'unknown'\n",
    "    scariness: int = 0 \n",
    "    legs: int = 4\n",
    "    "
   ]
  },
  {
   "cell_type": "code",
   "execution_count": null,
   "metadata": {},
   "outputs": [],
   "source": [
    "cat = Animal('Kitty','Cat')"
   ]
  },
  {
   "cell_type": "code",
   "execution_count": null,
   "metadata": {},
   "outputs": [],
   "source": [
    "cat.legs"
   ]
  },
  {
   "cell_type": "code",
   "execution_count": null,
   "metadata": {},
   "outputs": [],
   "source": [
    "cat.fav_food"
   ]
  },
  {
   "cell_type": "code",
   "execution_count": null,
   "metadata": {},
   "outputs": [],
   "source": [
    "Animal.fav_food"
   ]
  },
  {
   "cell_type": "markdown",
   "metadata": {},
   "source": [
    "Наследование происходит как обычно:"
   ]
  },
  {
   "cell_type": "code",
   "execution_count": null,
   "metadata": {},
   "outputs": [],
   "source": [
    "@dataclass\n",
    "class Cat(Animal):\n",
    "    fav_food: ClassVar = 'mouse'\n",
    "        \n",
    "    species: str = 'Cat'\n",
    "    whiskers: int = 28\n",
    "    \n",
    "    # можно определять свои методы\n",
    "    def sound(self):\n",
    "        if self.scariness > 10:\n",
    "            return 'Grrr!'\n",
    "        return 'Meow!'"
   ]
  },
  {
   "cell_type": "code",
   "execution_count": null,
   "metadata": {},
   "outputs": [],
   "source": [
    "cat = Cat(name='Kitty')"
   ]
  },
  {
   "cell_type": "code",
   "execution_count": null,
   "metadata": {
    "scrolled": true
   },
   "outputs": [],
   "source": [
    "cat.species"
   ]
  },
  {
   "cell_type": "code",
   "execution_count": null,
   "metadata": {},
   "outputs": [],
   "source": [
    "cat.fav_food"
   ]
  },
  {
   "cell_type": "code",
   "execution_count": null,
   "metadata": {},
   "outputs": [],
   "source": [
    "cat.legs"
   ]
  },
  {
   "cell_type": "code",
   "execution_count": null,
   "metadata": {},
   "outputs": [],
   "source": [
    "cat.whiskers"
   ]
  },
  {
   "cell_type": "code",
   "execution_count": null,
   "metadata": {},
   "outputs": [],
   "source": [
    "cat.sound()"
   ]
  },
  {
   "cell_type": "markdown",
   "metadata": {},
   "source": [
    "**Задание:**\n",
    "   + сделать рабочий датакласс карт, чтобы можно было играть в пьяницу например\n",
    "   + нормальное сравнение карт\n",
    "   + карты разной масти, но одинакового достоинства равны\n",
    "   + порядок возможных номиналов по возрастанию: ['6', '7', '8', '9', '10', 'J', 'Q', 'K', 'A']\n",
    "   + класс должен быть неизменяемым"
   ]
  },
  {
   "cell_type": "code",
   "execution_count": null,
   "metadata": {},
   "outputs": [],
   "source": [
    "@dataclass\n",
    "class Card:\n",
    "    pass"
   ]
  },
  {
   "cell_type": "markdown",
   "metadata": {},
   "source": [
    "Код для проверки:"
   ]
  },
  {
   "cell_type": "code",
   "execution_count": null,
   "metadata": {},
   "outputs": [],
   "source": [
    "ranks = ['6', '7', '8', '9', '10', 'J', 'Q', 'K', 'A']\n",
    "suits = ['hearts', 'diamonds', 'spades', 'clubs']\n",
    "deck = []\n",
    "\n",
    "for suit in suits:\n",
    "    for rank in ranks:\n",
    "        deck.append(Card(rank=rank,suit=suit))"
   ]
  },
  {
   "cell_type": "code",
   "execution_count": null,
   "metadata": {},
   "outputs": [],
   "source": [
    "deck"
   ]
  },
  {
   "cell_type": "code",
   "execution_count": null,
   "metadata": {
    "scrolled": true
   },
   "outputs": [],
   "source": [
    "sorted(deck)"
   ]
  },
  {
   "cell_type": "code",
   "execution_count": null,
   "metadata": {},
   "outputs": [],
   "source": []
  }
 ],
 "metadata": {
  "colab": {
   "name": "20.ipynb",
   "provenance": []
  },
  "kernelspec": {
   "display_name": "Python 3",
   "language": "python",
   "name": "python3"
  },
  "language_info": {
   "codemirror_mode": {
    "name": "ipython",
    "version": 3
   },
   "file_extension": ".py",
   "mimetype": "text/x-python",
   "name": "python",
   "nbconvert_exporter": "python",
   "pygments_lexer": "ipython3",
   "version": "3.7.4"
  }
 },
 "nbformat": 4,
 "nbformat_minor": 1
}
