{
 "cells": [
  {
   "cell_type": "markdown",
   "metadata": {
    "id": "hiLeGYJPxd-G"
   },
   "source": [
    "# ООП. Продолжение"
   ]
  },
  {
   "cell_type": "markdown",
   "metadata": {
    "id": "8PFA04YWxibz"
   },
   "source": [
    "## Наследование. Повторение"
   ]
  },
  {
   "cell_type": "markdown",
   "metadata": {
    "id": "G2PrZ09Yxqaz"
   },
   "source": [
    "Что происходит при наследовании?"
   ]
  },
  {
   "cell_type": "markdown",
   "metadata": {
    "id": "jCVMPtL6yafI"
   },
   "source": [
    "1. В дочерний класс подтягиваются все методы и атрибуты родителей, а также родителей родителей и так далее вплоть до ***object*** (если они не были переопределены у потомка)"
   ]
  },
  {
   "cell_type": "code",
   "execution_count": 1,
   "metadata": {
    "id": "383HWE0YyZ05"
   },
   "outputs": [],
   "source": [
    "class Animal:\n",
    "    animal_attr = 'animal'\n",
    "\n",
    "    def animal_method(self):\n",
    "        print('This is a method of class Animal!')\n",
    "\n",
    "class Horse(Animal):\n",
    "    horse_attr = 'horse'\n",
    "\n",
    "    def __init__(self, name):\n",
    "        self.name = name\n",
    "\n",
    "    def introduce(self):\n",
    "        print('Hello my name is %s!' % self.name)\n",
    "\n",
    "class Donkey(Animal):\n",
    "    donkey_attr = 'donkey'\n",
    "\n",
    "class Mule(Horse, Donkey):\n",
    "    pass"
   ]
  },
  {
   "cell_type": "code",
   "execution_count": 2,
   "metadata": {
    "id": "C70MXaio15UR"
   },
   "outputs": [],
   "source": [
    "mule = Mule('Mule')"
   ]
  },
  {
   "cell_type": "markdown",
   "metadata": {
    "id": "9WBfPySL5yAz"
   },
   "source": [
    "Методы и атрибуты родителей:"
   ]
  },
  {
   "cell_type": "code",
   "execution_count": 3,
   "metadata": {
    "colab": {
     "base_uri": "https://localhost:8080/",
     "height": 35
    },
    "id": "mBqu4EYM1_ic",
    "outputId": "ec762046-3202-4ee9-e378-3284848475b2"
   },
   "outputs": [
    {
     "data": {
      "text/plain": [
       "'horse'"
      ]
     },
     "execution_count": 3,
     "metadata": {},
     "output_type": "execute_result"
    }
   ],
   "source": [
    "mule.horse_attr"
   ]
  },
  {
   "cell_type": "code",
   "execution_count": 4,
   "metadata": {
    "colab": {
     "base_uri": "https://localhost:8080/",
     "height": 35
    },
    "id": "1t3NJoYa2CRI",
    "outputId": "0440edc6-5170-4711-9696-ac99acb4b11f"
   },
   "outputs": [
    {
     "data": {
      "text/plain": [
       "'donkey'"
      ]
     },
     "execution_count": 4,
     "metadata": {},
     "output_type": "execute_result"
    }
   ],
   "source": [
    "mule.donkey_attr"
   ]
  },
  {
   "cell_type": "code",
   "execution_count": 5,
   "metadata": {
    "colab": {
     "base_uri": "https://localhost:8080/"
    },
    "id": "IKTp5tap5t6k",
    "outputId": "9e91b8a6-6c6a-415a-92cb-6d0bcb8319e8"
   },
   "outputs": [
    {
     "name": "stdout",
     "output_type": "stream",
     "text": [
      "Hello my name is Mule!\n"
     ]
    }
   ],
   "source": [
    "mule.introduce()"
   ]
  },
  {
   "cell_type": "markdown",
   "metadata": {
    "id": "D9a2wfrQ6JO5"
   },
   "source": [
    "Методы и атрибуты родителей родителей"
   ]
  },
  {
   "cell_type": "code",
   "execution_count": 6,
   "metadata": {
    "colab": {
     "base_uri": "https://localhost:8080/"
    },
    "id": "QGHVxWDC6RrI",
    "outputId": "9a3ba802-19dc-4875-9ba3-face646e6809"
   },
   "outputs": [
    {
     "name": "stdout",
     "output_type": "stream",
     "text": [
      "This is a method of class Animal!\n"
     ]
    }
   ],
   "source": [
    "mule.animal_method()"
   ]
  },
  {
   "cell_type": "code",
   "execution_count": 7,
   "metadata": {
    "colab": {
     "base_uri": "https://localhost:8080/",
     "height": 35
    },
    "id": "WdgdKHdk4Go0",
    "outputId": "37c3573c-338c-42be-e4cb-d1850aaf8e73"
   },
   "outputs": [
    {
     "data": {
      "text/plain": [
       "'animal'"
      ]
     },
     "execution_count": 7,
     "metadata": {},
     "output_type": "execute_result"
    }
   ],
   "source": [
    "mule.animal_attr"
   ]
  },
  {
   "cell_type": "markdown",
   "metadata": {
    "id": "y7wtBCKbyz3C"
   },
   "source": [
    "2. Isinstance возвращает True при вызове с родительским классом любого порядка\n",
    "\n",
    "Метод [isinstance](https://docs.python.org/3/library/functions.html#isinstance) - возвращает True, если указанный объект является экземпляром указанного или наследующегося от него класса"
   ]
  },
  {
   "cell_type": "code",
   "execution_count": 8,
   "metadata": {
    "colab": {
     "base_uri": "https://localhost:8080/"
    },
    "id": "EBFFbM-s-5cL",
    "outputId": "12bdec5a-5b10-4d95-b9ea-0e9fa2ffebc9"
   },
   "outputs": [
    {
     "data": {
      "text/plain": [
       "True"
      ]
     },
     "execution_count": 8,
     "metadata": {},
     "output_type": "execute_result"
    }
   ],
   "source": [
    "isinstance(mule, Mule)"
   ]
  },
  {
   "cell_type": "code",
   "execution_count": 9,
   "metadata": {
    "colab": {
     "base_uri": "https://localhost:8080/"
    },
    "id": "lVv27Y_jyzA6",
    "outputId": "45c36fe3-e34d-4617-8a6e-f63fa7b94c91"
   },
   "outputs": [
    {
     "data": {
      "text/plain": [
       "True"
      ]
     },
     "execution_count": 9,
     "metadata": {},
     "output_type": "execute_result"
    }
   ],
   "source": [
    "isinstance(mule, Horse)"
   ]
  },
  {
   "cell_type": "code",
   "execution_count": 10,
   "metadata": {
    "colab": {
     "base_uri": "https://localhost:8080/"
    },
    "id": "jTekD8OcxoG0",
    "outputId": "b597e96f-2476-41b2-c905-21f685b9e239"
   },
   "outputs": [
    {
     "data": {
      "text/plain": [
       "True"
      ]
     },
     "execution_count": 10,
     "metadata": {},
     "output_type": "execute_result"
    }
   ],
   "source": [
    "isinstance(mule, Donkey)"
   ]
  },
  {
   "cell_type": "code",
   "execution_count": 13,
   "metadata": {
    "colab": {
     "base_uri": "https://localhost:8080/"
    },
    "id": "xT9-wzZTxoUF",
    "outputId": "df93ab66-d6e7-455e-aa1b-83adefeb7eb1"
   },
   "outputs": [
    {
     "data": {
      "text/plain": [
       "False"
      ]
     },
     "execution_count": 13,
     "metadata": {},
     "output_type": "execute_result"
    }
   ],
   "source": [
    "# можно также передать кортеж классов, вернется True, \n",
    "# если объект является экземпляром (или экземпляром потомка) хотя бы одного из указанных классов\n",
    "isinstance(mule, (bool, int))"
   ]
  },
  {
   "cell_type": "code",
   "execution_count": 14,
   "metadata": {
    "colab": {
     "base_uri": "https://localhost:8080/"
    },
    "id": "xos5Xrf8akhC",
    "outputId": "d991911c-9989-47b8-a86e-86b9294d52b4"
   },
   "outputs": [
    {
     "data": {
      "text/plain": [
       "True"
      ]
     },
     "execution_count": 14,
     "metadata": {},
     "output_type": "execute_result"
    }
   ],
   "source": [
    "isinstance(mule, Animal)"
   ]
  },
  {
   "cell_type": "code",
   "execution_count": 15,
   "metadata": {},
   "outputs": [
    {
     "data": {
      "text/plain": [
       "True"
      ]
     },
     "execution_count": 15,
     "metadata": {},
     "output_type": "execute_result"
    }
   ],
   "source": [
    "isinstance(mule, object)"
   ]
  },
  {
   "cell_type": "markdown",
   "metadata": {
    "id": "HyX_T7OvNDRT"
   },
   "source": [
    "**Задание**: \n",
    "+ Решаем [эту задачу](https://stepik.org/lesson/24462/step/9?unit=6768) и вот [эту задачу](https://stepik.org/lesson/372017/step/2?unit=359571) \n",
    "+ Полезно будет вспомнить материал двух предыдущих пар по программированию: [10](https://github.com/esolovev/ling2020/blob/main/lectures/10.ipynb) и [12](https://github.com/esolovev/ling2020/blob/main/lectures/12.ipynb) \n",
    "+ Если что-то не получается, скорее всего поможет прочтение комментариев к задаче, там объяснены основные непонятные моменты\n",
    "+ Там можно отправлять на проверку код, не регистрируясь и не логинясь, по крайней мере у меня получалось "
   ]
  },
  {
   "cell_type": "code",
   "execution_count": null,
   "metadata": {},
   "outputs": [],
   "source": [
    "import time\n",
    "\n",
    "class Loggable:\n",
    "    def log(self, msg):\n",
    "        print(str(time.ctime()) + \": \" + str(msg))"
   ]
  },
  {
   "cell_type": "code",
   "execution_count": null,
   "metadata": {},
   "outputs": [],
   "source": [
    "# первая задача\n",
    "class LoggableList(list, Loggable):\n",
    "    \n",
    "    def append(self, element):\n",
    "        self.log(element)\n",
    "        super().append(element)"
   ]
  },
  {
   "cell_type": "code",
   "execution_count": 18,
   "metadata": {},
   "outputs": [],
   "source": [
    "# вторая задача\n",
    "class NewInt(int):\n",
    "    \n",
    "    def repeat(self, n=2):\n",
    "        # self - ссылка на экземпляр нашего класса\n",
    "        # NewInt это по сути int с дополнительными методами\n",
    "        # str(self) здесь делает то же самое, что и, например, str(2)\n",
    "        # self - экземпляр класса NewInt, 2 - экземпляр класса int\n",
    "        return int(str(self)*n) \n",
    "    \n",
    "    def to_bin(self):\n",
    "        return int(bin(self).replace('0b', ''))"
   ]
  },
  {
   "cell_type": "code",
   "execution_count": 19,
   "metadata": {},
   "outputs": [
    {
     "name": "stdout",
     "output_type": "stream",
     "text": [
      "99\n",
      "141414\n",
      "100011\n"
     ]
    }
   ],
   "source": [
    "a = NewInt(9)\n",
    "print(a.repeat())  # печатает число 99\n",
    "d = NewInt(a + 5)\n",
    "print(d.repeat(3)) # печатает число 141414\n",
    "b = NewInt(NewInt(7) * NewInt(5))\n",
    "print(b.to_bin()) # печатает 100011 - двоичное представление числа 35"
   ]
  },
  {
   "cell_type": "markdown",
   "metadata": {
    "id": "JI9zyZt4alTk"
   },
   "source": [
    "## Абстрактные классы"
   ]
  },
  {
   "cell_type": "markdown",
   "metadata": {
    "id": "eGsezBWDpyzp"
   },
   "source": [
    "**Абстрактный класс** - класс в котором есть хотя бы один абстрактный метод.   \n",
    "**Абстрактный метод** - объявленный, но не реализованный метод. \n",
    "\n",
    "Абстрактный класс описывает интерфейс взаимодействия с дочерними классами. "
   ]
  },
  {
   "cell_type": "markdown",
   "metadata": {},
   "source": [
    "![](https://1.bp.blogspot.com/-HR3qCiRlA_E/XkAB97uh6pI/AAAAAAAACdc/AuxyFL-rnIE4uUCmzTA5DEb9fzCB9HIwgCLcBGAsYHQ/s1600/abstractcls.png)"
   ]
  },
  {
   "cell_type": "code",
   "execution_count": 20,
   "metadata": {
    "id": "NYVLwiVtd1Th"
   },
   "outputs": [],
   "source": [
    "from abc import ABC, abstractmethod"
   ]
  },
  {
   "cell_type": "code",
   "execution_count": 30,
   "metadata": {
    "id": "-8_6Gv3pd1jD"
   },
   "outputs": [],
   "source": [
    "class Animal(ABC): # наследование от ABC из модуля ABC\n",
    "   \n",
    "    def __init__(self, name, legs, scariness):\n",
    "        self.name = name \n",
    "        self.legs = legs\n",
    "        self.scariness = scariness\n",
    "        \n",
    "    # общий метод, который будут использовать все наследники этого класса\n",
    "    def introduce(self): \n",
    "        print(\"Hello! My name is %s!\" % self.name)\n",
    "    \n",
    "    # абстрактный метод, который будет необходимо переопределять для каждого подкласса\n",
    "    @abstractmethod # чтобы объявить метод абстрактным используется декоратор @abstactmethod\n",
    "    def sound(self):\n",
    "        pass"
   ]
  },
  {
   "cell_type": "markdown",
   "metadata": {
    "id": "AQQLU7-vrOs7"
   },
   "source": [
    "Абстрактный класс нельзя инстанциировать, обязательно нужно унаследовать и переопределить **все** абстрактные методы в дочернем классе. "
   ]
  },
  {
   "cell_type": "code",
   "execution_count": 31,
   "metadata": {
    "id": "1EbOD_R0rCAP"
   },
   "outputs": [
    {
     "ename": "TypeError",
     "evalue": "Can't instantiate abstract class Animal with abstract methods sound",
     "output_type": "error",
     "traceback": [
      "\u001b[0;31m---------------------------------------------------------------------------\u001b[0m",
      "\u001b[0;31mTypeError\u001b[0m                                 Traceback (most recent call last)",
      "\u001b[0;32m<ipython-input-31-61eb48dde361>\u001b[0m in \u001b[0;36m<module>\u001b[0;34m\u001b[0m\n\u001b[0;32m----> 1\u001b[0;31m \u001b[0manimal\u001b[0m \u001b[0;34m=\u001b[0m \u001b[0mAnimal\u001b[0m\u001b[0;34m(\u001b[0m\u001b[0;34m'Animal'\u001b[0m\u001b[0;34m,\u001b[0m \u001b[0;36m4\u001b[0m\u001b[0;34m,\u001b[0m \u001b[0;36m10\u001b[0m\u001b[0;34m)\u001b[0m\u001b[0;34m\u001b[0m\u001b[0;34m\u001b[0m\u001b[0m\n\u001b[0m",
      "\u001b[0;31mTypeError\u001b[0m: Can't instantiate abstract class Animal with abstract methods sound"
     ]
    }
   ],
   "source": [
    "animal = Animal('Animal', 4, 10)"
   ]
  },
  {
   "cell_type": "code",
   "execution_count": 32,
   "metadata": {
    "id": "g7lUQu0irUBX"
   },
   "outputs": [],
   "source": [
    "class Cat(Animal):\n",
    "    pass"
   ]
  },
  {
   "cell_type": "code",
   "execution_count": 33,
   "metadata": {
    "id": "ytJITpKKrUJp"
   },
   "outputs": [
    {
     "ename": "TypeError",
     "evalue": "Can't instantiate abstract class Cat with abstract methods sound",
     "output_type": "error",
     "traceback": [
      "\u001b[0;31m---------------------------------------------------------------------------\u001b[0m",
      "\u001b[0;31mTypeError\u001b[0m                                 Traceback (most recent call last)",
      "\u001b[0;32m<ipython-input-33-52ce08ef8d71>\u001b[0m in \u001b[0;36m<module>\u001b[0;34m\u001b[0m\n\u001b[0;32m----> 1\u001b[0;31m \u001b[0mcat\u001b[0m \u001b[0;34m=\u001b[0m \u001b[0mCat\u001b[0m\u001b[0;34m(\u001b[0m\u001b[0;34m'Cat'\u001b[0m\u001b[0;34m,\u001b[0m \u001b[0;36m4\u001b[0m\u001b[0;34m,\u001b[0m \u001b[0;36m2\u001b[0m\u001b[0;34m)\u001b[0m \u001b[0;31m# унаследовали, но не переопределили абстрактный метод\u001b[0m\u001b[0;34m\u001b[0m\u001b[0;34m\u001b[0m\u001b[0m\n\u001b[0m",
      "\u001b[0;31mTypeError\u001b[0m: Can't instantiate abstract class Cat with abstract methods sound"
     ]
    }
   ],
   "source": [
    "cat = Cat('Cat', 4, 2) # унаследовали, но не переопределили абстрактный метод"
   ]
  },
  {
   "cell_type": "code",
   "execution_count": 36,
   "metadata": {
    "id": "hcZwHsOZrUQN"
   },
   "outputs": [],
   "source": [
    "class Cat(Animal):\n",
    "    def sound(self): # переопределяем абстрактный метод\n",
    "        return('Meow!')"
   ]
  },
  {
   "cell_type": "code",
   "execution_count": 37,
   "metadata": {
    "id": "HLOf_KbSrcEd"
   },
   "outputs": [],
   "source": [
    "class Dog(Animal):\n",
    "    def sound(self): # переопределяем абстрактный метод\n",
    "        return('Woof!')"
   ]
  },
  {
   "cell_type": "code",
   "execution_count": 38,
   "metadata": {
    "id": "Us9gPWeIrcMe"
   },
   "outputs": [],
   "source": [
    "cat = Cat('Cat', 4, 2)\n",
    "dog = Dog('Dog', 4, 6)"
   ]
  },
  {
   "cell_type": "code",
   "execution_count": 39,
   "metadata": {
    "id": "D3nqbyZnriLm"
   },
   "outputs": [
    {
     "name": "stdout",
     "output_type": "stream",
     "text": [
      "Meow!\n",
      "Woof!\n"
     ]
    }
   ],
   "source": [
    "print(cat.sound())\n",
    "print(dog.sound())"
   ]
  },
  {
   "cell_type": "code",
   "execution_count": 40,
   "metadata": {
    "id": "35ZKcHfLrlAG"
   },
   "outputs": [
    {
     "name": "stdout",
     "output_type": "stream",
     "text": [
      "Hello! My name is Cat!\n",
      "Hello! My name is Dog!\n"
     ]
    }
   ],
   "source": [
    "cat.introduce()\n",
    "dog.introduce()"
   ]
  },
  {
   "cell_type": "markdown",
   "metadata": {},
   "source": [
    "**Задание:**\n",
    "+ У нас есть класс Settings для хранения набора настроек, вида ключ - значение (название параметра настройки - значение параметра настройки)\n",
    "+ Ключи (названия параметра) обязательно должны быть строками\n",
    "+ Мы не хотим,чтобы объект Settings можно было изменять после создания (добавлять и удалять ключи)"
   ]
  },
  {
   "cell_type": "code",
   "execution_count": 41,
   "metadata": {},
   "outputs": [],
   "source": [
    "class Settings:\n",
    "    def __init__(self, **kwargs):\n",
    "        self._data = dict(**kwargs) # от нестроковых ключей нас спасает kwargs\n",
    "\n",
    "    def get_property(self, key):\n",
    "        assert isinstance(key, str)\n",
    "        return self._data[key]"
   ]
  },
  {
   "cell_type": "code",
   "execution_count": 42,
   "metadata": {},
   "outputs": [],
   "source": [
    "settings = Settings(setting1=1, setting2=2)"
   ]
  },
  {
   "cell_type": "code",
   "execution_count": 44,
   "metadata": {},
   "outputs": [
    {
     "data": {
      "text/plain": [
       "2"
      ]
     },
     "execution_count": 44,
     "metadata": {},
     "output_type": "execute_result"
    }
   ],
   "source": [
    "settings.get_property('setting2')"
   ]
  },
  {
   "cell_type": "markdown",
   "metadata": {},
   "source": [
    "+ Допустим нам пришла в голову здравая мысль, что мы хотим вместо вызова ```settings.get_property('key')``` использовать квадратные скобки как для dict - ```settings['key']``` \n",
    "+ Ну и раз уж нас класс становится похож на readonly-dict хотелось бы чтобы он умел делать то же, что и неизменяемые словари и использоваться как словарь\n",
    "+ Здесь нам поможет класс ```Mapping``` из ```collections.abc```, поможет нам понять, какой должен быть интерфейс у нашего класса и что мы не забыли ни про какие нужные методы\n",
    "+ Модуль ```collections.abc``` содержит множество абстрактных классов для создания объектов-контейнеров различных типов (словарь, список, множество, итератор и т.д.), [документация](https://docs.python.org/3/library/collections.abc.html)"
   ]
  },
  {
   "cell_type": "code",
   "execution_count": 45,
   "metadata": {},
   "outputs": [],
   "source": [
    "from collections.abc import Mapping"
   ]
  },
  {
   "cell_type": "code",
   "execution_count": 53,
   "metadata": {},
   "outputs": [],
   "source": [
    "# давайте отнаследуемся от класса Mapping и посмотрим, каких методов нам не хватает\n",
    "class Settings(Mapping):\n",
    "    def __init__(self, **kwargs):\n",
    "        self._data = dict(**kwargs)\n",
    "        \n",
    "    def __getitem__(self, key):\n",
    "        assert isinstance(key, str)\n",
    "        return self._data[key]\n",
    "    \n",
    "    def __len__(self):\n",
    "        return len(self._data)\n",
    "    \n",
    "    def __iter__(self):\n",
    "        return self._data.__iter__()"
   ]
  },
  {
   "cell_type": "code",
   "execution_count": 54,
   "metadata": {},
   "outputs": [],
   "source": [
    "settings = Settings(setting1=1, setting2=2)"
   ]
  },
  {
   "cell_type": "markdown",
   "metadata": {},
   "source": [
    "Нужно сделать так, чтобы все, что написано ниже заработало:"
   ]
  },
  {
   "cell_type": "code",
   "execution_count": 55,
   "metadata": {
    "scrolled": true
   },
   "outputs": [
    {
     "name": "stdout",
     "output_type": "stream",
     "text": [
      "1\n",
      "2\n",
      "setting1\n",
      "setting2\n"
     ]
    }
   ],
   "source": [
    "print(settings['setting1']) # получение значения по ключу\n",
    "print(len(settings)) # длина словаря\n",
    "for setting in settings: # итерируемся по ключам\n",
    "    print(setting)"
   ]
  },
  {
   "cell_type": "code",
   "execution_count": 56,
   "metadata": {},
   "outputs": [
    {
     "name": "stdout",
     "output_type": "stream",
     "text": [
      "True\n",
      "False\n"
     ]
    }
   ],
   "source": [
    "print('setting1' in settings) # проверка наличия элемента \n",
    "print('setting3' in settings)"
   ]
  },
  {
   "cell_type": "code",
   "execution_count": 59,
   "metadata": {},
   "outputs": [
    {
     "name": "stdout",
     "output_type": "stream",
     "text": [
      "1\n",
      "2\n"
     ]
    }
   ],
   "source": [
    "for value in settings.values():\n",
    "    print(value)"
   ]
  },
  {
   "cell_type": "markdown",
   "metadata": {
    "id": "2GmPBwRGd2lC"
   },
   "source": [
    "## Статические методы и методы классов"
   ]
  },
  {
   "cell_type": "markdown",
   "metadata": {
    "id": "oFkgrUNfeBn_"
   },
   "source": [
    "### @classmethod"
   ]
  },
  {
   "cell_type": "markdown",
   "metadata": {
    "id": "vRmuLHeCvv0j"
   },
   "source": [
    "Кроме полей класса, объект класса также может иметь методы класса, в которых вместо ссылки на объект экзепляра (self), передается ссылка на объект класса (cls).     \n",
    "\n",
    "+ имеют доступ только к полям класса (но не к полям экземпляра)\n",
    "+ не требуют создания экземпляра \n",
    "+ не зависят от состояния объекта"
   ]
  },
  {
   "cell_type": "code",
   "execution_count": null,
   "metadata": {
    "id": "MW7irg1weMDA"
   },
   "outputs": [],
   "source": [
    "class Animal:\n",
    "   \n",
    "    fav_food = 'pizza' # атрибут класса \n",
    "    \n",
    "    \n",
    "    def __init__(self, name, legs, scariness):\n",
    "        self.name = name \n",
    "        self.legs = legs\n",
    "        self.scariness = scariness\n",
    "    \n",
    "    def introduce(self): \n",
    "        return \"Hello! My name is %s!\" % self.name\n",
    "    \n",
    "    \n",
    "    def sound(self):\n",
    "        return \"Sound!\"\n",
    "    \n",
    "    # нужно использовать декоратор classmethod\n",
    "    @classmethod\n",
    "    def favorite_food(cls): # cls вместо self\n",
    "        return \"My favorite food is %s!\" % cls.fav_food"
   ]
  },
  {
   "cell_type": "code",
   "execution_count": null,
   "metadata": {
    "id": "NB0x5bfcv-CR"
   },
   "outputs": [],
   "source": [
    "animal = Animal('Doggy', 4, 1)"
   ]
  },
  {
   "cell_type": "code",
   "execution_count": null,
   "metadata": {
    "id": "gWDNinv5wAgn"
   },
   "outputs": [],
   "source": [
    "animal.favorite_food() # из объекта экземпяра класса"
   ]
  },
  {
   "cell_type": "code",
   "execution_count": null,
   "metadata": {
    "id": "MyUVdf16wKnm"
   },
   "outputs": [],
   "source": [
    "Animal.favorite_food() # из объекта класса"
   ]
  },
  {
   "cell_type": "markdown",
   "metadata": {
    "id": "EBclN7WU7cEx"
   },
   "source": [
    "**Задание**: \n",
    "+ Решаем [эту задачу](https://stepik.org/lesson/361905/step/2?unit=346443) \n",
    "+ С помощью нее поймем, как создавать методы класса и как динамически менять атрибуты класса, и зачем это все может быть нужно (чтобы хранить состояние класса)\n",
    "+ Метод \\_\\_del\\_\\_ прописывать в данной задаче не нужно!\n",
    "+ Там можно отправлять на проверку код, не регистрируясь и не логинясь, по крайней мере у меня получалось \n"
   ]
  },
  {
   "cell_type": "markdown",
   "metadata": {
    "id": "_Qc1MXTHd9JT"
   },
   "source": [
    "### @staticmethod"
   ]
  },
  {
   "cell_type": "markdown",
   "metadata": {
    "id": "UGbE3zu5w_7j"
   },
   "source": [
    "+ не требуют создания экземпляра \n",
    "+ не зависят от состояния объекта\n",
    "+ нет доступа даже к полям класаа\n",
    "+ ничего не нужно знать про класс, пользуются только переданными аргументами\n",
    "+ не нужно передавать ссылку ни на объект экземпляра, ни на объект класса"
   ]
  },
  {
   "cell_type": "code",
   "execution_count": null,
   "metadata": {
    "id": "eCN8hoZowdcK"
   },
   "outputs": [],
   "source": [
    "class Animal:\n",
    "   \n",
    "    fav_food = 'pizza' # атрибут класса \n",
    "    \n",
    "    \n",
    "    def __init__(self, name, legs, scariness):\n",
    "        self.name = self.capitalize(name) \n",
    "        self.legs = legs\n",
    "        self.scariness = scariness\n",
    "    \n",
    "    def introduce(self): \n",
    "        return \"Hello! My name is %s!\" % self.name\n",
    "    \n",
    "    \n",
    "    def sound(self):\n",
    "        return \"Sound!\"\n",
    "    \n",
    "    # нужно использовать декоратор staticmethod\n",
    "    @staticmethod\n",
    "    def capitalize(name): # аргумент self/cls не нужен, т.к. мы не обращаемся ни к полям экземпляра, ни к полям класса\n",
    "        chars = list(name)\n",
    "        chars[0] = chars[0].upper()\n",
    "        return ''.join(chars)"
   ]
  },
  {
   "cell_type": "code",
   "execution_count": null,
   "metadata": {
    "id": "14zoNqMfxQpp"
   },
   "outputs": [],
   "source": [
    "animal = Animal('lowercase name', 4, 1)"
   ]
  },
  {
   "cell_type": "code",
   "execution_count": null,
   "metadata": {
    "id": "9-OL52M3xTc3"
   },
   "outputs": [],
   "source": [
    "animal.name"
   ]
  }
 ],
 "metadata": {
  "colab": {
   "name": "18.ipynb",
   "provenance": []
  },
  "kernelspec": {
   "display_name": "Python 3",
   "language": "python",
   "name": "python3"
  },
  "language_info": {
   "codemirror_mode": {
    "name": "ipython",
    "version": 3
   },
   "file_extension": ".py",
   "mimetype": "text/x-python",
   "name": "python",
   "nbconvert_exporter": "python",
   "pygments_lexer": "ipython3",
   "version": "3.7.4"
  }
 },
 "nbformat": 4,
 "nbformat_minor": 1
}
