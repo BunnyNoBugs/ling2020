{
  "nbformat": 4,
  "nbformat_minor": 0,
  "metadata": {
    "colab": {
      "name": "13.ipynb",
      "provenance": []
    },
    "kernelspec": {
      "name": "python3",
      "display_name": "Python 3"
    }
  },
  "cells": [
    {
      "cell_type": "markdown",
      "metadata": {
        "id": "zYanPKtzELqm"
      },
      "source": [
        "# Основы ООП"
      ]
    },
    {
      "cell_type": "markdown",
      "metadata": {
        "id": "aH06m9pW7dK7"
      },
      "source": [
        "## Класс и экземпляр"
      ]
    },
    {
      "cell_type": "code",
      "metadata": {
        "id": "9akaQ7eH7djJ"
      },
      "source": [
        "from collections import Counter"
      ],
      "execution_count": null,
      "outputs": []
    },
    {
      "cell_type": "code",
      "metadata": {
        "id": "Q_H3-jMqoQ2c"
      },
      "source": [
        "cnt = Counter('khgkrhiurunfumxxer')"
      ],
      "execution_count": null,
      "outputs": []
    },
    {
      "cell_type": "markdown",
      "metadata": {
        "id": "W3pQ3wCAtv90"
      },
      "source": [
        "Вопрос:\n",
        "+ что такое cnt, что такое Counter?\n",
        "+ что мы только что сделали?"
      ]
    },
    {
      "cell_type": "markdown",
      "metadata": {
        "id": "ou8SKCJg56mE"
      },
      "source": [
        "### Пример пользовательского класса"
      ]
    },
    {
      "cell_type": "code",
      "metadata": {
        "id": "lTo6NJ2_5903"
      },
      "source": [
        "class Animal:\n",
        "    \"\"\"\n",
        "    Docstring\n",
        "    \"\"\"\n",
        " \n",
        "    # конструктор, вызывается при создании объекта \n",
        "    def __init__(self, name, legs, scariness):\n",
        "        \"\"\"\n",
        "        Constructor\n",
        "        \"\"\"\n",
        "        self.name = name # атрибуты (поля) класса\n",
        "        self.legs = legs\n",
        "        self.scariness = scariness\n",
        "        \n",
        "    \n",
        "    # метод класса\n",
        "    def introduce(self): \n",
        "        \"\"\"\n",
        "        Make animal introduce itself!\n",
        "        \"\"\"\n",
        "        print (\"Hello! My name is %s!\" % self.name)\n",
        "    \n",
        "    # метод класса\n",
        "    def sound(self):\n",
        "        \"\"\"\n",
        "        What does the animal say?\n",
        "        \"\"\"\n",
        "        print (\"Sound!\")\n"
      ],
      "execution_count": null,
      "outputs": []
    },
    {
      "cell_type": "markdown",
      "metadata": {
        "id": "BbYYgPG9yvuU"
      },
      "source": [
        "+ Название класса - всегда с большой буквы, всегда CamelCase\n",
        "+ Обязательный первый аргумент у всех методов класса - ***self***, переменная self ссылается на объект класса и позволяет получить доступ к атрибутам и методам. "
      ]
    },
    {
      "cell_type": "markdown",
      "metadata": {
        "id": "u01Qc41q7HMo"
      },
      "source": [
        "### Документация"
      ]
    },
    {
      "cell_type": "markdown",
      "metadata": {
        "id": "3BZFBkLZ6WND"
      },
      "source": [
        "Встроенная документация в тройных кавычках. Можно напечатать с помощью функции **help**. \n",
        "Выдаст нам ифнормацию о том, какие методы есть в классе и документацию к ним. "
      ]
    },
    {
      "cell_type": "code",
      "metadata": {
        "colab": {
          "base_uri": "https://localhost:8080/"
        },
        "id": "ZcYpDqty7s7j",
        "outputId": "f152025f-5427-498d-cad2-4d17bba76ab2"
      },
      "source": [
        "help(Animal) # от объекта класса"
      ],
      "execution_count": null,
      "outputs": [
        {
          "output_type": "stream",
          "text": [
            "Help on class Animal in module __main__:\n",
            "\n",
            "class Animal(builtins.object)\n",
            " |  Docstring\n",
            " |  \n",
            " |  Methods defined here:\n",
            " |  \n",
            " |  __init__(self, name, legs, scariness)\n",
            " |      Constructor\n",
            " |  \n",
            " |  introduce(self)\n",
            " |      Make animal introduce itself!\n",
            " |  \n",
            " |  sound(self)\n",
            " |      What does the animal say?\n",
            " |  \n",
            " |  ----------------------------------------------------------------------\n",
            " |  Data descriptors defined here:\n",
            " |  \n",
            " |  __dict__\n",
            " |      dictionary for instance variables (if defined)\n",
            " |  \n",
            " |  __weakref__\n",
            " |      list of weak references to the object (if defined)\n",
            "\n"
          ],
          "name": "stdout"
        }
      ]
    },
    {
      "cell_type": "code",
      "metadata": {
        "colab": {
          "base_uri": "https://localhost:8080/"
        },
        "id": "uyNh_Oni-eDR",
        "outputId": "e23a7ea4-7701-47ec-cbed-ff3b2414e3ff"
      },
      "source": [
        "animal = Animal('Animal', 4, 1)\n",
        "help(animal) # от объекта экземпляра класса"
      ],
      "execution_count": null,
      "outputs": [
        {
          "output_type": "stream",
          "text": [
            "Help on Animal in module __main__ object:\n",
            "\n",
            "class Animal(builtins.object)\n",
            " |  Docstring\n",
            " |  \n",
            " |  Methods defined here:\n",
            " |  \n",
            " |  __init__(self, name, legs, scariness)\n",
            " |      Constructor\n",
            " |  \n",
            " |  introduce(self)\n",
            " |      Make animal introduce itself!\n",
            " |  \n",
            " |  sound(self)\n",
            " |      What does the animal say?\n",
            " |  \n",
            " |  ----------------------------------------------------------------------\n",
            " |  Data descriptors defined here:\n",
            " |  \n",
            " |  __dict__\n",
            " |      dictionary for instance variables (if defined)\n",
            " |  \n",
            " |  __weakref__\n",
            " |      list of weak references to the object (if defined)\n",
            "\n"
          ],
          "name": "stdout"
        }
      ]
    },
    {
      "cell_type": "markdown",
      "metadata": {
        "id": "q9Fc5TCm7uCz"
      },
      "source": [
        "#### dir()"
      ]
    },
    {
      "cell_type": "markdown",
      "metadata": {
        "id": "PFc6yj5p7y5m"
      },
      "source": [
        "Также информацию о свойствах класса/экземпляра можно получить с помощью функции ***dir()***\n",
        "Она озвращает имена переменных, доступные в локальной области, либо атрибуты указанного объекта в алфавитном порядке."
      ]
    },
    {
      "cell_type": "code",
      "metadata": {
        "colab": {
          "base_uri": "https://localhost:8080/"
        },
        "id": "QmLqBOTp7Ugx",
        "outputId": "18cd45bf-c43c-4617-dd6d-fb10403c34ca"
      },
      "source": [
        "dir(Animal)"
      ],
      "execution_count": null,
      "outputs": [
        {
          "output_type": "execute_result",
          "data": {
            "text/plain": [
              "['__class__',\n",
              " '__delattr__',\n",
              " '__dict__',\n",
              " '__dir__',\n",
              " '__doc__',\n",
              " '__eq__',\n",
              " '__format__',\n",
              " '__ge__',\n",
              " '__getattribute__',\n",
              " '__gt__',\n",
              " '__hash__',\n",
              " '__init__',\n",
              " '__init_subclass__',\n",
              " '__le__',\n",
              " '__lt__',\n",
              " '__module__',\n",
              " '__ne__',\n",
              " '__new__',\n",
              " '__reduce__',\n",
              " '__reduce_ex__',\n",
              " '__repr__',\n",
              " '__setattr__',\n",
              " '__sizeof__',\n",
              " '__str__',\n",
              " '__subclasshook__',\n",
              " '__weakref__',\n",
              " 'introduce',\n",
              " 'sound']"
            ]
          },
          "metadata": {
            "tags": []
          },
          "execution_count": 8
        }
      ]
    },
    {
      "cell_type": "code",
      "metadata": {
        "colab": {
          "base_uri": "https://localhost:8080/"
        },
        "id": "luDNFzUT8vaD",
        "outputId": "f08bf309-a4b7-47e8-a6d3-e6f69718620e"
      },
      "source": [
        "dir(animal)"
      ],
      "execution_count": null,
      "outputs": [
        {
          "output_type": "execute_result",
          "data": {
            "text/plain": [
              "['__class__',\n",
              " '__delattr__',\n",
              " '__dict__',\n",
              " '__dir__',\n",
              " '__doc__',\n",
              " '__eq__',\n",
              " '__format__',\n",
              " '__ge__',\n",
              " '__getattribute__',\n",
              " '__gt__',\n",
              " '__hash__',\n",
              " '__init__',\n",
              " '__init_subclass__',\n",
              " '__le__',\n",
              " '__lt__',\n",
              " '__module__',\n",
              " '__ne__',\n",
              " '__new__',\n",
              " '__reduce__',\n",
              " '__reduce_ex__',\n",
              " '__repr__',\n",
              " '__setattr__',\n",
              " '__sizeof__',\n",
              " '__str__',\n",
              " '__subclasshook__',\n",
              " '__weakref__',\n",
              " 'introduce',\n",
              " 'legs',\n",
              " 'name',\n",
              " 'scariness',\n",
              " 'sound']"
            ]
          },
          "metadata": {
            "tags": []
          },
          "execution_count": 9
        }
      ]
    },
    {
      "cell_type": "markdown",
      "metadata": {
        "id": "CnvvY9tu9Eza"
      },
      "source": [
        "**Задание:**\n",
        "+ вывести 3 наиболее частых символа из текста ридми репозитория нашего курса на гитхабе (https://github.com/esolovev/ling2020) с помощью Counter\n",
        "+ подсказака: если найти правильную ссылку, то можно сразу получить сырой текст, и не парсить html. "
      ]
    },
    {
      "cell_type": "markdown",
      "metadata": {
        "id": "pa6sv1jw8uwz"
      },
      "source": [
        "## Атрибуты экземпляра"
      ]
    },
    {
      "cell_type": "markdown",
      "metadata": {
        "id": "FmaJoySQLcMP"
      },
      "source": [
        "При создании класса в принципе ничего не мешает нам инициалирировать атрибуты  в любом методе, в любом месте. Но обычно все атрибуты стоит создавать внутри констуктора для того, чтобы все экземпляры класса имели одинаковую структуру (одинаковый набор атрибутов вне зависимости от вызванных методов). "
      ]
    },
    {
      "cell_type": "code",
      "metadata": {
        "colab": {
          "base_uri": "https://localhost:8080/"
        },
        "id": "jRFejrzX0rJY",
        "outputId": "2e50d501-6da8-4f17-a3cb-3bfac846f74e"
      },
      "source": [
        "animal = Animal(name='Doggy', legs=4, scariness=8) # экземпляр класса\n",
        "print(animal.scariness)\n",
        "animal.sound()\n",
        "animal.introduce()"
      ],
      "execution_count": null,
      "outputs": [
        {
          "output_type": "stream",
          "text": [
            "8\n",
            "Sound!\n",
            "Hello! My name is Doggy!\n"
          ],
          "name": "stdout"
        }
      ]
    },
    {
      "cell_type": "markdown",
      "metadata": {
        "id": "TuGY0_Fm8fcN"
      },
      "source": [
        "Каждый экземпляр класса имеет свои значения атрибутов. Можно менять их после создания объекта, можно создавать новые. "
      ]
    },
    {
      "cell_type": "code",
      "metadata": {
        "colab": {
          "base_uri": "https://localhost:8080/"
        },
        "id": "1n8ypgoo1fqA",
        "outputId": "196d6da2-ca46-42b3-f2bf-e05b674fbf6e"
      },
      "source": [
        "animal2 = Animal('Spidy', 8, 225)\n",
        "print(animal2.name)\n",
        "animal2.name = 'Spider' # меняем значение атрибута name\n",
        "print(animal2.name)"
      ],
      "execution_count": null,
      "outputs": [
        {
          "output_type": "stream",
          "text": [
            "Spidy\n",
            "Spider\n"
          ],
          "name": "stdout"
        }
      ]
    },
    {
      "cell_type": "code",
      "metadata": {
        "colab": {
          "base_uri": "https://localhost:8080/"
        },
        "id": "QyThWL-j0vmb",
        "outputId": "82bc6407-1ae2-4b4f-f8ef-a54c975b3cf5"
      },
      "source": [
        "animal3 = Animal('Monster', legs=1.5, scariness=1000)\n",
        "print(animal3.legs)\n",
        "animal3.legs = 100 # меняем значение атрибута legs\n",
        "print(animal3.legs)"
      ],
      "execution_count": null,
      "outputs": [
        {
          "output_type": "stream",
          "text": [
            "1.5\n",
            "100\n"
          ],
          "name": "stdout"
        }
      ]
    },
    {
      "cell_type": "code",
      "metadata": {
        "colab": {
          "base_uri": "https://localhost:8080/"
        },
        "id": "FUaR1vnBLoV0",
        "outputId": "750dfb69-37b8-4bf0-be98-e624586ff173"
      },
      "source": [
        "animal2.new_attr = 10\n",
        "# отобразится в dir\n",
        "dir(animal2)"
      ],
      "execution_count": null,
      "outputs": [
        {
          "output_type": "execute_result",
          "data": {
            "text/plain": [
              "['__class__',\n",
              " '__delattr__',\n",
              " '__dict__',\n",
              " '__dir__',\n",
              " '__doc__',\n",
              " '__eq__',\n",
              " '__format__',\n",
              " '__ge__',\n",
              " '__getattribute__',\n",
              " '__gt__',\n",
              " '__hash__',\n",
              " '__init__',\n",
              " '__init_subclass__',\n",
              " '__le__',\n",
              " '__lt__',\n",
              " '__module__',\n",
              " '__ne__',\n",
              " '__new__',\n",
              " '__reduce__',\n",
              " '__reduce_ex__',\n",
              " '__repr__',\n",
              " '__setattr__',\n",
              " '__sizeof__',\n",
              " '__str__',\n",
              " '__subclasshook__',\n",
              " '__weakref__',\n",
              " 'introduce',\n",
              " 'legs',\n",
              " 'name',\n",
              " 'new_attr',\n",
              " 'scariness',\n",
              " 'sound']"
            ]
          },
          "metadata": {
            "tags": []
          },
          "execution_count": 13
        }
      ]
    },
    {
      "cell_type": "code",
      "metadata": {
        "colab": {
          "base_uri": "https://localhost:8080/"
        },
        "id": "VeTIOXJo2GKp",
        "outputId": "91d96c5b-b08b-44b0-d45d-56adce64ec44"
      },
      "source": [
        "# новый атрибут появляется только у того экземпляра, у которого его создали (не у всех)\n",
        "dir(animal2) == dir(animal3)"
      ],
      "execution_count": null,
      "outputs": [
        {
          "output_type": "execute_result",
          "data": {
            "text/plain": [
              "False"
            ]
          },
          "metadata": {
            "tags": []
          },
          "execution_count": 25
        }
      ]
    },
    {
      "cell_type": "markdown",
      "metadata": {
        "id": "GNnU0_8IFLRQ"
      },
      "source": [
        "## Атрибуты класса"
      ]
    },
    {
      "cell_type": "markdown",
      "metadata": {
        "id": "1iXmrsLrFP-N"
      },
      "source": [
        "У класса также могут быть свои поля, которые принадлежат не объекту экземпляра класса, а объекту класса."
      ]
    },
    {
      "cell_type": "code",
      "metadata": {
        "id": "KHQ9hfz32d0w"
      },
      "source": [
        "class Animal:\n",
        "   \n",
        "    fav_food = 'pizza' # атрибут класса, вне __init__ и без self\n",
        "    \n",
        "    \n",
        "    def __init__(self, name, legs, scariness):\n",
        "        self.name = name \n",
        "        self.legs = legs\n",
        "        self.scariness = scariness\n",
        "    \n",
        "    def introduce(self): \n",
        "        print (\"Hello! My name is %s!\" % self.name)\n",
        "    \n",
        "    def sound(self):\n",
        "        print (\"Sound!\")\n",
        "\n",
        "    def tell_fav_food(self):\n",
        "        print(\"I like %s!\" % self.fav_food) # обращаемся с помощью self!\n",
        "    "
      ],
      "execution_count": 38,
      "outputs": []
    },
    {
      "cell_type": "code",
      "metadata": {
        "id": "0Lu5GaXdK4HT"
      },
      "source": [
        "animal = Animal(name='Doggy', legs=4, scariness=8)\n",
        "animal2 = Animal('Spidy', 8, 225)\n",
        "animal3 = Animal('Monster', legs=1.5, scariness=1000)"
      ],
      "execution_count": 43,
      "outputs": []
    },
    {
      "cell_type": "code",
      "metadata": {
        "colab": {
          "base_uri": "https://localhost:8080/"
        },
        "id": "W6mny7LEOw9S",
        "outputId": "d478482b-b725-46ed-9d91-83346e16f10a"
      },
      "source": [
        "animals = [animal, animal2, animal3]\n",
        "for animal_ in animals:\n",
        "    print(animal_.fav_food) # доступ через экземпляр"
      ],
      "execution_count": 45,
      "outputs": [
        {
          "output_type": "stream",
          "text": [
            "pizza\n",
            "pizza\n",
            "pizza\n"
          ],
          "name": "stdout"
        }
      ]
    },
    {
      "cell_type": "code",
      "metadata": {
        "colab": {
          "base_uri": "https://localhost:8080/",
          "height": 35
        },
        "id": "5oeNaVZoPPCH",
        "outputId": "1776669a-1245-4d0a-c683-7e944e189388"
      },
      "source": [
        "Animal.fav_food # доступ через класс"
      ],
      "execution_count": 46,
      "outputs": [
        {
          "output_type": "execute_result",
          "data": {
            "application/vnd.google.colaboratory.intrinsic+json": {
              "type": "string"
            },
            "text/plain": [
              "'pizza'"
            ]
          },
          "metadata": {
            "tags": []
          },
          "execution_count": 46
        }
      ]
    },
    {
      "cell_type": "code",
      "metadata": {
        "colab": {
          "base_uri": "https://localhost:8080/",
          "height": 163
        },
        "id": "VCOglGCMPgJd",
        "outputId": "37f6eed2-d106-4825-8685-9de272930aed"
      },
      "source": [
        "Animal.name # к атрибутам экземпляра доступ через объект класса мы получить не можем. как вы думаете почему?"
      ],
      "execution_count": 47,
      "outputs": [
        {
          "output_type": "error",
          "ename": "AttributeError",
          "evalue": "ignored",
          "traceback": [
            "\u001b[0;31m---------------------------------------------------------------------------\u001b[0m",
            "\u001b[0;31mAttributeError\u001b[0m                            Traceback (most recent call last)",
            "\u001b[0;32m<ipython-input-47-bd01c1291aaf>\u001b[0m in \u001b[0;36m<module>\u001b[0;34m()\u001b[0m\n\u001b[0;32m----> 1\u001b[0;31m \u001b[0mAnimal\u001b[0m\u001b[0;34m.\u001b[0m\u001b[0mname\u001b[0m\u001b[0;34m\u001b[0m\u001b[0;34m\u001b[0m\u001b[0m\n\u001b[0m",
            "\u001b[0;31mAttributeError\u001b[0m: type object 'Animal' has no attribute 'name'"
          ]
        }
      ]
    },
    {
      "cell_type": "markdown",
      "metadata": {
        "id": "nqHXlpnuW4Gm"
      },
      "source": [
        "Значение атрибута класса нельзя изменить через его экземпляр. Если попробовать это сделать так, как в коде ниже, то у экземпляра класса создается атрибут экземпляра с таким же именем. При этом значение этого атрибута у объекта класса и всех других его экземпляров не изменится."
      ]
    },
    {
      "cell_type": "code",
      "metadata": {
        "colab": {
          "base_uri": "https://localhost:8080/",
          "height": 35
        },
        "id": "9xQ4urcqW63y",
        "outputId": "971781a0-e5b5-4f69-8aa1-39b7ad3fd18a"
      },
      "source": [
        "animal.fav_food = 'salad'\n",
        "animal.fav_food"
      ],
      "execution_count": 54,
      "outputs": [
        {
          "output_type": "execute_result",
          "data": {
            "application/vnd.google.colaboratory.intrinsic+json": {
              "type": "string"
            },
            "text/plain": [
              "'salad'"
            ]
          },
          "metadata": {
            "tags": []
          },
          "execution_count": 54
        }
      ]
    },
    {
      "cell_type": "markdown",
      "metadata": {
        "id": "C0ZGJhPOY-QS"
      },
      "source": [
        "Доступ к атрибуту класса через переменную fav_food у этого экземпляра потерялся, так как она теперь ссылается на другой объект. Но обратиться к атрибуту класса мы все еще можем, он никуда не делся. "
      ]
    },
    {
      "cell_type": "code",
      "metadata": {
        "colab": {
          "base_uri": "https://localhost:8080/",
          "height": 35
        },
        "id": "F-uXnjSEZe0O",
        "outputId": "162eb150-20f3-42ca-d256-d40795421031"
      },
      "source": [
        "animal.__class__.fav_food # __class__ ссылается на объект класса "
      ],
      "execution_count": 62,
      "outputs": [
        {
          "output_type": "execute_result",
          "data": {
            "application/vnd.google.colaboratory.intrinsic+json": {
              "type": "string"
            },
            "text/plain": [
              "'sandwich'"
            ]
          },
          "metadata": {
            "tags": []
          },
          "execution_count": 62
        }
      ]
    },
    {
      "cell_type": "markdown",
      "metadata": {
        "id": "9W8WSHdPZsrQ"
      },
      "source": [
        "У остальных экземпляров атрибуты остались прежними"
      ]
    },
    {
      "cell_type": "code",
      "metadata": {
        "colab": {
          "base_uri": "https://localhost:8080/"
        },
        "id": "wxdZ1bT3XKrE",
        "outputId": "eebc8967-9865-4571-f588-e4a86a617fae"
      },
      "source": [
        "print(animal2.fav_food, Animal.fav_food) "
      ],
      "execution_count": 55,
      "outputs": [
        {
          "output_type": "stream",
          "text": [
            "pizza pizza\n"
          ],
          "name": "stdout"
        }
      ]
    },
    {
      "cell_type": "markdown",
      "metadata": {
        "id": "KrxCC_3pXqEn"
      },
      "source": [
        "Можно поменять атрибут класса через объект класса"
      ]
    },
    {
      "cell_type": "code",
      "metadata": {
        "id": "l0p9ICq9XX45"
      },
      "source": [
        "Animal.fav_food = 'sandwich'"
      ],
      "execution_count": 56,
      "outputs": []
    },
    {
      "cell_type": "code",
      "metadata": {
        "colab": {
          "base_uri": "https://localhost:8080/"
        },
        "id": "eKPYzcowXi9l",
        "outputId": "a8c4d973-8672-4786-fc9d-596b0b7572fa"
      },
      "source": [
        "print(animal2.fav_food, animal3.fav_food) # значение fav_food изменилось у всех объектов, где мы не перезаписывали атрибут экземпляра"
      ],
      "execution_count": 58,
      "outputs": [
        {
          "output_type": "stream",
          "text": [
            "sandwich sandwich\n"
          ],
          "name": "stdout"
        }
      ]
    },
    {
      "cell_type": "code",
      "metadata": {
        "colab": {
          "base_uri": "https://localhost:8080/",
          "height": 35
        },
        "id": "IpoBlBIUX4qe",
        "outputId": "6d7f53e4-916a-4ed9-b8d5-7404ba1b2d2e"
      },
      "source": [
        "# как вы думаете, что выведет код?\n",
        "# print(animal.fav_food)\n",
        "# print(animal.__class__.fav_food)"
      ],
      "execution_count": 61,
      "outputs": [
        {
          "output_type": "execute_result",
          "data": {
            "application/vnd.google.colaboratory.intrinsic+json": {
              "type": "string"
            },
            "text/plain": [
              "'sandwich'"
            ]
          },
          "metadata": {
            "tags": []
          },
          "execution_count": 61
        }
      ]
    },
    {
      "cell_type": "markdown",
      "metadata": {
        "id": "FMYbXemPb_Or"
      },
      "source": [
        "##\\_\\_dict\\_\\_"
      ]
    },
    {
      "cell_type": "markdown",
      "metadata": {
        "id": "A7oWYdqmcKIf"
      },
      "source": [
        "В упрощенном виде можно считать, что все объекты в питоне реализуются в виде словаря. Служебное поле ***\\_\\_dict\\_\\_*** позволяет работать с объектом как со словарем."
      ]
    },
    {
      "cell_type": "code",
      "metadata": {
        "colab": {
          "base_uri": "https://localhost:8080/"
        },
        "id": "D8PSKHCAcH9W",
        "outputId": "f8239380-6921-4ef4-8d71-69f74108a5ee"
      },
      "source": [
        "animal2.__dict__"
      ],
      "execution_count": 63,
      "outputs": [
        {
          "output_type": "execute_result",
          "data": {
            "text/plain": [
              "{'legs': 8, 'name': 'Spidy', 'scariness': 225}"
            ]
          },
          "metadata": {
            "tags": []
          },
          "execution_count": 63
        }
      ]
    },
    {
      "cell_type": "code",
      "metadata": {
        "colab": {
          "base_uri": "https://localhost:8080/"
        },
        "id": "_7uxXNbVddem",
        "outputId": "fd7bb158-e8e3-4830-a09d-828c22e161f1"
      },
      "source": [
        "Animal.__dict__"
      ],
      "execution_count": 67,
      "outputs": [
        {
          "output_type": "execute_result",
          "data": {
            "text/plain": [
              "mappingproxy({'__dict__': <attribute '__dict__' of 'Animal' objects>,\n",
              "              '__doc__': None,\n",
              "              '__init__': <function __main__.Animal.__init__>,\n",
              "              '__module__': '__main__',\n",
              "              '__weakref__': <attribute '__weakref__' of 'Animal' objects>,\n",
              "              'fav_food': 'sandwich',\n",
              "              'introduce': <function __main__.Animal.introduce>,\n",
              "              'pr_self': <function __main__.Animal.pr_self>,\n",
              "              'sound': <function __main__.Animal.sound>,\n",
              "              'tell_fav_food': <function __main__.Animal.tell_fav_food>})"
            ]
          },
          "metadata": {
            "tags": []
          },
          "execution_count": 67
        }
      ]
    },
    {
      "cell_type": "code",
      "metadata": {
        "colab": {
          "base_uri": "https://localhost:8080/"
        },
        "id": "vWPQi8eRcDyt",
        "outputId": "3958711a-5511-4263-ebf7-08d1b90fee9c"
      },
      "source": [
        "print(animal.__dict__['name']) # атрибут экземпляра\n",
        "animal.__dict__['name'] = 'Kitty' # можно перезаписать\n",
        "print(animal.__dict__['name'])"
      ],
      "execution_count": 64,
      "outputs": [
        {
          "output_type": "stream",
          "text": [
            "Doggy\n",
            "Kitty\n"
          ],
          "name": "stdout"
        }
      ]
    },
    {
      "cell_type": "markdown",
      "metadata": {
        "id": "l1ytbafBczzX"
      },
      "source": [
        "Задание: поменять значение атрибута класса fav_food на 'apple' с помощью ***\\_\\_dict\\_\\_***"
      ]
    },
    {
      "cell_type": "code",
      "metadata": {
        "colab": {
          "base_uri": "https://localhost:8080/"
        },
        "id": "arX2zty7cnn0",
        "outputId": "d6d249ac-a032-4b90-fdf1-8040e22b087a"
      },
      "source": [
        "animal2.fav_food == 'apple'"
      ],
      "execution_count": 66,
      "outputs": [
        {
          "output_type": "execute_result",
          "data": {
            "text/plain": [
              "False"
            ]
          },
          "metadata": {
            "tags": []
          },
          "execution_count": 66
        }
      ]
    },
    {
      "cell_type": "markdown",
      "metadata": {
        "id": "DTBzf8XAEVPY"
      },
      "source": [
        "## Объекты в питоне и их удаление"
      ]
    },
    {
      "cell_type": "markdown",
      "metadata": {
        "id": "VBbPwkRFEt6c"
      },
      "source": [
        "В питоне все является объектом и к тому же экземпляром какого-то класса: число, строка, словарь, массив, экземпляр встроенного класса, экземпляр пользовательского класса, сам класс, функция. \n",
        "\n",
        "Объект - участок в памяти, у которого обязательно присутсвуют два поля: **тип** и **счётчик ссылок**. У каждого объекта есть уникальный идентификатор, который возвращает функция ***id()***. Идентификатор является адресом объекта в памяти.\n",
        "\n",
        "Функция ***type()*** возвращает тип объекта - название класса, экземпляром которого является объект. \n",
        "\n",
        "Мы можем обращаться к объектам и что-то сними делать с помощью переменных, которые ссылаются на нужный объект. "
      ]
    },
    {
      "cell_type": "markdown",
      "metadata": {
        "id": "b6eALAfnuyy9"
      },
      "source": [
        "### type()"
      ]
    },
    {
      "cell_type": "code",
      "metadata": {
        "id": "zxsdH8AAEDdI",
        "colab": {
          "base_uri": "https://localhost:8080/"
        },
        "outputId": "6a007238-77e2-498b-d04e-03006a150803"
      },
      "source": [
        "# число\n",
        "my_number = 13\n",
        "print(type(my_number))"
      ],
      "execution_count": null,
      "outputs": [
        {
          "output_type": "stream",
          "text": [
            "<class 'int'>\n"
          ],
          "name": "stdout"
        }
      ]
    },
    {
      "cell_type": "code",
      "metadata": {
        "colab": {
          "base_uri": "https://localhost:8080/"
        },
        "id": "_ZXWlC_xtIfG",
        "outputId": "bef84b4e-5eb9-44e4-a7a1-2e59b479fe7b"
      },
      "source": [
        "print(type(13))"
      ],
      "execution_count": null,
      "outputs": [
        {
          "output_type": "stream",
          "text": [
            "<class 'int'>\n"
          ],
          "name": "stdout"
        }
      ]
    },
    {
      "cell_type": "code",
      "metadata": {
        "colab": {
          "base_uri": "https://localhost:8080/"
        },
        "id": "e7dyULVNsegM",
        "outputId": "b1eb22e2-1f3d-4496-9d53-209bedeee02a"
      },
      "source": [
        "# функция\n",
        "def my_func(number: int):\n",
        "    return 13*number\n",
        "print(type(my_func))"
      ],
      "execution_count": null,
      "outputs": [
        {
          "output_type": "stream",
          "text": [
            "<class 'function'>\n"
          ],
          "name": "stdout"
        }
      ]
    },
    {
      "cell_type": "code",
      "metadata": {
        "colab": {
          "base_uri": "https://localhost:8080/"
        },
        "id": "W6zvSLcuvRPt",
        "outputId": "46d9265e-192f-4a05-e62f-58ed86e9b235"
      },
      "source": [
        "# экземпляр класса\n",
        "print(type(cnt))\n",
        "print(type(animal))"
      ],
      "execution_count": null,
      "outputs": [
        {
          "output_type": "stream",
          "text": [
            "<class 'collections.Counter'>\n",
            "<class '__main__.Animal'>\n"
          ],
          "name": "stdout"
        }
      ]
    },
    {
      "cell_type": "code",
      "metadata": {
        "colab": {
          "base_uri": "https://localhost:8080/"
        },
        "id": "UPgeFJCNvyOQ",
        "outputId": "4e4ba90f-a518-42fa-f597-18ad92ef8df2"
      },
      "source": [
        "# класс\n",
        "print(type(Counter))"
      ],
      "execution_count": null,
      "outputs": [
        {
          "output_type": "stream",
          "text": [
            "<class 'type'>\n"
          ],
          "name": "stdout"
        }
      ]
    },
    {
      "cell_type": "code",
      "metadata": {
        "id": "TNzQqBTdFAuz",
        "colab": {
          "base_uri": "https://localhost:8080/"
        },
        "outputId": "40de2259-845f-4fe8-8942-5c016d3c20f7"
      },
      "source": [
        "# int - тоже класс\n",
        "print(type(int))"
      ],
      "execution_count": null,
      "outputs": [
        {
          "output_type": "stream",
          "text": [
            "<class 'type'>\n"
          ],
          "name": "stdout"
        }
      ]
    },
    {
      "cell_type": "code",
      "metadata": {
        "colab": {
          "base_uri": "https://localhost:8080/"
        },
        "id": "xcMvstZ11_5k",
        "outputId": "cb47c4e1-5376-4ef0-8b1b-ec9fba9f53ed"
      },
      "source": [
        "print(type(type))"
      ],
      "execution_count": null,
      "outputs": [
        {
          "output_type": "stream",
          "text": [
            "<class 'type'>\n"
          ],
          "name": "stdout"
        }
      ]
    },
    {
      "cell_type": "markdown",
      "metadata": {
        "id": "WqyRC8W6u5vs"
      },
      "source": [
        "### id()"
      ]
    },
    {
      "cell_type": "markdown",
      "metadata": {
        "id": "7aYZPNc_h6GM"
      },
      "source": [
        "Оператор ***is*** как раз таки сравнивает id объектов. "
      ]
    },
    {
      "cell_type": "code",
      "metadata": {
        "id": "UglNk3GRh5Vz"
      },
      "source": [
        "my_str = 'abab'"
      ],
      "execution_count": 94,
      "outputs": []
    },
    {
      "cell_type": "code",
      "metadata": {
        "colab": {
          "base_uri": "https://localhost:8080/"
        },
        "id": "XoUxRrPEhwei",
        "outputId": "7660db4b-b895-4f40-9142-93a85cca2421"
      },
      "source": [
        "print(id(my_str))"
      ],
      "execution_count": 95,
      "outputs": [
        {
          "output_type": "stream",
          "text": [
            "139661476879808\n"
          ],
          "name": "stdout"
        }
      ]
    },
    {
      "cell_type": "code",
      "metadata": {
        "id": "G-eO9Q15-_PH",
        "colab": {
          "base_uri": "https://localhost:8080/"
        },
        "outputId": "48e05a89-f932-45de-8300-3413aeb61295"
      },
      "source": [
        "print(hex(id(my_str)))"
      ],
      "execution_count": 96,
      "outputs": [
        {
          "output_type": "stream",
          "text": [
            "0x7f0578b7ddc0\n"
          ],
          "name": "stdout"
        }
      ]
    },
    {
      "cell_type": "code",
      "metadata": {
        "id": "3Ydr9HgxiExK"
      },
      "source": [
        "my_second_str = my_str"
      ],
      "execution_count": 97,
      "outputs": []
    },
    {
      "cell_type": "code",
      "metadata": {
        "colab": {
          "base_uri": "https://localhost:8080/"
        },
        "id": "UrMSi4eMibqA",
        "outputId": "ebb6764f-d886-4684-e144-7ca97f6cda7a"
      },
      "source": [
        "print(my_str is my_second_str)\n",
        "print(id(my_str) == id(my_second_str))"
      ],
      "execution_count": 98,
      "outputs": [
        {
          "output_type": "stream",
          "text": [
            "True\n",
            "True\n"
          ],
          "name": "stdout"
        }
      ]
    },
    {
      "cell_type": "markdown",
      "metadata": {
        "id": "JhYSKImY_J-u"
      },
      "source": [
        "### Количество ссылок и del()"
      ]
    },
    {
      "cell_type": "markdown",
      "metadata": {
        "id": "9qFBCw5sg6TZ"
      },
      "source": [
        "Встроенная функция ***del()*** удаляет переменную (и соответственно ссылку между переменной и объектом), счетчик ссылок уменьшается на 1. В случае если счетчик ссылок на объект равен нулю, за объектом приходит сборщик мусора и очищает занятую им память. "
      ]
    },
    {
      "cell_type": "markdown",
      "metadata": {
        "id": "7UDpz2PnE2UW"
      },
      "source": [
        "Посмотреть сколько существует ссылок на объект можно с помощью функции ***sys.getrefcount()*** https://docs.python.org/3/library/sys.html#sys.getrefcount"
      ]
    },
    {
      "cell_type": "code",
      "metadata": {
        "id": "PUW1JMlEAl7p"
      },
      "source": [
        "import sys"
      ],
      "execution_count": null,
      "outputs": []
    },
    {
      "cell_type": "code",
      "metadata": {
        "id": "QUKJVAzR_g55"
      },
      "source": [
        "a = Counter('abc')\n",
        "b = a\n",
        "c = b"
      ],
      "execution_count": null,
      "outputs": []
    },
    {
      "cell_type": "code",
      "metadata": {
        "colab": {
          "base_uri": "https://localhost:8080/"
        },
        "id": "vk1tRd1cC6mL",
        "outputId": "2d02b2ea-40f6-4acd-c5ce-5fa1a458882d"
      },
      "source": [
        "# на 1 больше ожидаемого, тк создается еще одна временная ссылка на объект из аргумента функции\n",
        "sys.getrefcount(a)"
      ],
      "execution_count": null,
      "outputs": [
        {
          "output_type": "execute_result",
          "data": {
            "text/plain": [
              "4"
            ]
          },
          "metadata": {
            "tags": []
          },
          "execution_count": 23
        }
      ]
    },
    {
      "cell_type": "code",
      "metadata": {
        "colab": {
          "base_uri": "https://localhost:8080/"
        },
        "id": "9_5RnjC9ED6o",
        "outputId": "b3b05e70-525d-4a63-9c34-d779e2bccfc2"
      },
      "source": [
        "del b\n",
        "sys.getrefcount(a) "
      ],
      "execution_count": null,
      "outputs": [
        {
          "output_type": "execute_result",
          "data": {
            "text/plain": [
              "3"
            ]
          },
          "metadata": {
            "tags": []
          },
          "execution_count": 24
        }
      ]
    },
    {
      "cell_type": "markdown",
      "metadata": {
        "id": "xlNgZknQ-xCn"
      },
      "source": [
        "### Деструктор"
      ]
    },
    {
      "cell_type": "markdown",
      "metadata": {
        "id": "P4Rj5Si9fKqY"
      },
      "source": [
        "Деструктор объекта - метод ***\\_\\_del\\_\\_***, вызывается, когда все ссылки на объект удалены. То есть в момент, когда за объектом приходит сборщик мусора. "
      ]
    },
    {
      "cell_type": "code",
      "metadata": {
        "id": "QihcCkZB_GW5"
      },
      "source": [
        "class SomeClass:\n",
        "    \n",
        "    #конструктор, можно писать аргументы со значением по умолчанию\n",
        "    def __init__(self, name='some object'):\n",
        "        self.name = name\n",
        "        print('Constructor called, %s created!' % self.name) \n",
        "    \n",
        "    # деструктор\n",
        "    def __del__(self): \n",
        "        print('Destructor called, %s deleted!' % self.name) "
      ],
      "execution_count": 86,
      "outputs": []
    },
    {
      "cell_type": "code",
      "metadata": {
        "colab": {
          "base_uri": "https://localhost:8080/"
        },
        "id": "hDLBmav9fRH0",
        "outputId": "70dfa6a3-d6c9-40a5-b0be-f555dcbb1257"
      },
      "source": [
        "obj = SomeClass('my object')"
      ],
      "execution_count": 87,
      "outputs": [
        {
          "output_type": "stream",
          "text": [
            "Constructor called, my object created!\n"
          ],
          "name": "stdout"
        }
      ]
    },
    {
      "cell_type": "code",
      "metadata": {
        "id": "_wuKvD-XgXun"
      },
      "source": [
        "obj2 = obj"
      ],
      "execution_count": 88,
      "outputs": []
    },
    {
      "cell_type": "code",
      "metadata": {
        "id": "9XASMDgRgeKu"
      },
      "source": [
        "obj3 = obj2"
      ],
      "execution_count": 89,
      "outputs": []
    },
    {
      "cell_type": "markdown",
      "metadata": {
        "id": "K3yUfTakfdUz"
      },
      "source": [
        "**Задание:** \n",
        "+ вызовите деструктор\n",
        "+ вызовите деструктор не используя del"
      ]
    },
    {
      "cell_type": "markdown",
      "metadata": {
        "id": "V3j-XSnKafXd"
      },
      "source": [
        "**Задание**:    \n",
        "+ Нужно написать класс ***Sentence***, конструктор котрого получает на вход предложение. \n",
        "+ Атрибуты могут быть любые, подумайте, как вам удобно будет хранить данные о предложении. \n",
        "+ У этого класса должен быть метод ***replace_nouns***, который получает в качестве аргумента существительное, заменяет все встречающиеся в предложении существительные на это сущесвтительное в нужной форме (чтобы получилось грамматичное предложение), согласует по роду глаголы и прилагательные, если нужно, и печатает получившееся предложение (знаки перпинания можно игнорировать).\n",
        "\n",
        "+ [Руководство пользователя pymorphy2](https://pymorphy2.readthedocs.io/en/latest/user/guide.html)"
      ]
    },
    {
      "cell_type": "code",
      "metadata": {
        "id": "EUbWqsH_ayRg"
      },
      "source": [
        "!pip install pymorphy2"
      ],
      "execution_count": null,
      "outputs": []
    },
    {
      "cell_type": "code",
      "metadata": {
        "id": "5l1dh0BWaxBR"
      },
      "source": [
        "# поставить слово в нужную форму с помощью pymorphy\n",
        "import pymorphy2\n",
        "morph = pymorphy2.MorphAnalyzer()\n",
        "cats_parsed = morph.parse('котиков')[0]"
      ],
      "execution_count": null,
      "outputs": []
    },
    {
      "cell_type": "code",
      "metadata": {
        "id": "WvvEIPUjaxyO"
      },
      "source": [
        "pear_parsed = morph.parse('яблоко')[0]"
      ],
      "execution_count": null,
      "outputs": []
    },
    {
      "cell_type": "code",
      "metadata": {
        "id": "yQ3G-ZoLbXNS"
      },
      "source": [
        "pear_parsed.inflect({cats_parsed.tag.case, cats_parsed.tag.number}).word # нам нужны число и падеж"
      ],
      "execution_count": null,
      "outputs": []
    },
    {
      "cell_type": "code",
      "metadata": {
        "id": "rcgpm9BnbZpp"
      },
      "source": [
        "# пример работы\n",
        "s = Sentence('Мама мыла раму.')\n",
        "s.replace_nouns('котик')\n",
        "# 'Котик мыл котика'"
      ],
      "execution_count": null,
      "outputs": []
    }
  ]
}