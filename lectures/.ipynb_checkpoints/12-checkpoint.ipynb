{
 "cells": [
  {
   "cell_type": "markdown",
   "metadata": {
    "id": "VD8ZEW7c6EbU"
   },
   "source": [
    "# Продолжение в ООП"
   ]
  },
  {
   "cell_type": "markdown",
   "metadata": {
    "id": "M6w6IwJC6Iag"
   },
   "source": [
    "## Diamond Inheritance"
   ]
  },
  {
   "cell_type": "markdown",
   "metadata": {
    "id": "rk3NKfLDcfLj"
   },
   "source": [
    "![](https://images1.programmersought.com/131/dd/dd1ae4a8ace8d6e298212bb82087bdd3.png)"
   ]
  },
  {
   "cell_type": "code",
   "execution_count": null,
   "metadata": {
    "id": "tVO74R1f6z7z"
   },
   "outputs": [],
   "source": [
    "class A:\n",
    "    def hi(self):\n",
    "        print(\"A\")\n",
    "        \n",
    "class B(A):\n",
    "    pass\n",
    "\n",
    "\n",
    "class C(A):\n",
    "    def hi(self):\n",
    "        print(\"C\")\n",
    "        \n",
    "class D(B, C):\n",
    "    pass\n",
    " "
   ]
  },
  {
   "cell_type": "code",
   "execution_count": null,
   "metadata": {
    "colab": {
     "base_uri": "https://localhost:8080/"
    },
    "id": "EuvqSsdaSTlQ",
    "outputId": "07d4d1d9-2152-4b17-db4a-e2bbe6b4a668"
   },
   "outputs": [],
   "source": [
    "# что выведет код? почему? всегда ли так будет?\n",
    "d = D()\n",
    "d.hi()"
   ]
  },
  {
   "cell_type": "markdown",
   "metadata": {
    "id": "6kLxWCiucoMk"
   },
   "source": [
    "Порядок разрешения методов можно посмотреть с помощью метода ***mro()*** или в атрибуте ***\\_\\_mro\\_\\_***"
   ]
  },
  {
   "cell_type": "code",
   "execution_count": null,
   "metadata": {
    "colab": {
     "base_uri": "https://localhost:8080/"
    },
    "id": "LPo_nrliVk4l",
    "outputId": "7c43b8a2-5a1a-4dad-a26c-c5befa1765b0"
   },
   "outputs": [],
   "source": [
    "D.__mro__"
   ]
  },
  {
   "cell_type": "code",
   "execution_count": null,
   "metadata": {
    "colab": {
     "base_uri": "https://localhost:8080/"
    },
    "id": "JSaF274XrAt3",
    "outputId": "fad48750-df59-4867-c31f-53abc899a5c9"
   },
   "outputs": [],
   "source": [
    "D.mro()"
   ]
  },
  {
   "cell_type": "markdown",
   "metadata": {
    "id": "7Yl_Y4DuCRWZ"
   },
   "source": [
    "### Спойлеры"
   ]
  },
  {
   "cell_type": "markdown",
   "metadata": {
    "id": "JHtxiIrmeftv"
   },
   "source": [
    "+ **Python 3** - при разрешении методов использует поиск в ширину (смотрит сначала во всех родительских классах по порядку, потом в родителях родителей и т.д.)\n",
    "+ **Python 2** - поиск в глубину (смотрит в первом родительском классе, потом в его родительском классе и т.д.)"
   ]
  },
  {
   "cell_type": "markdown",
   "metadata": {
    "id": "aRQzc_qWfHNe"
   },
   "source": [
    "## Подробнее про super()"
   ]
  },
  {
   "cell_type": "markdown",
   "metadata": {
    "id": "LB8dq8QlEH7a"
   },
   "source": [
    "***super()*** - returns a proxy object that delegates method calls to a parent or sibling class. "
   ]
  },
  {
   "cell_type": "markdown",
   "metadata": {
    "id": "xrDIR0lcEt38"
   },
   "source": [
    "При одиночном наследовании - сослаться на родительский объект, не называя его эксплицитно. "
   ]
  },
  {
   "cell_type": "code",
   "execution_count": null,
   "metadata": {
    "id": "TWOe9X9OEs_e"
   },
   "outputs": [],
   "source": [
    "class Animal:\n",
    "   \n",
    "    fav_food = 'pizza' # атрибут класса \n",
    "    \n",
    "    def __init__(self, name, legs, scariness):\n",
    "        self.name = name \n",
    "        self.legs = legs\n",
    "        self.scariness = scariness\n",
    "    \n",
    "    def introduce(self): \n",
    "        print(\"Hello! My name is %s!\" % self.name)\n",
    "    \n",
    "    \n",
    "    def sound(self):\n",
    "        print(\"Sound!\")\n",
    "\n",
    "class Mammal(Animal): # имя родительского класса пишется в скобках \n",
    "    \n",
    "    def __init__(self, name, scariness): \n",
    "        # обращаемся к классу-родителю с помощью super() и вызываем его метод __init__\n",
    "        super().__init__(name=name, legs=4, scariness=scariness) # пусть у всех млекопитающих должно быть 4 ноги"
   ]
  },
  {
   "cell_type": "markdown",
   "metadata": {
    "id": "plKP32lDE-GC"
   },
   "source": [
    "При множественном наследовании все интереснее:"
   ]
  },
  {
   "cell_type": "code",
   "execution_count": null,
   "metadata": {
    "colab": {
     "base_uri": "https://localhost:8080/"
    },
    "id": "k6eh7KxYO8em",
    "outputId": "a7aa76b6-3c32-418a-d668-9398034e357a"
   },
   "outputs": [],
   "source": [
    "class A:\n",
    "    def __init__(self):\n",
    "        print('A')\n",
    "\n",
    "class B(A):\n",
    "    def __init__(self):\n",
    "        print('B')\n",
    "\n",
    "class C(A):\n",
    "    def __init__(self):\n",
    "        print('C')\n",
    "\n",
    "class D(B, C):\n",
    "    pass\n",
    "\n",
    "d = D() # вызывается метод из B"
   ]
  },
  {
   "cell_type": "markdown",
   "metadata": {
    "id": "py5snX-9PppN"
   },
   "source": [
    "Если нам нужно, чтобы были вызваны методы обоих родительских классов:"
   ]
  },
  {
   "cell_type": "code",
   "execution_count": null,
   "metadata": {
    "colab": {
     "base_uri": "https://localhost:8080/"
    },
    "id": "j9dSN0yDPeeo",
    "outputId": "2b69deb0-9f67-4fd8-f474-2bba1de52832"
   },
   "outputs": [],
   "source": [
    "class A:\n",
    "    def __init__(self):\n",
    "        print('A')\n",
    "\n",
    "class B(A):\n",
    "    def __init__(self):\n",
    "        print('B')\n",
    "\n",
    "class C(A):\n",
    "    def __init__(self):\n",
    "        print('C')\n",
    "\n",
    "class D(B, C):\n",
    "    def __init__(self):\n",
    "        B.__init__(B)\n",
    "        C.__init__(C)\n",
    "        print('D')\n",
    "\n",
    "d = D() # вызываются методы из B и C"
   ]
  },
  {
   "cell_type": "code",
   "execution_count": null,
   "metadata": {
    "colab": {
     "base_uri": "https://localhost:8080/"
    },
    "id": "pHaAMBCOQjij",
    "outputId": "3b8e7860-b7b5-45d9-9122-98d13f760e06"
   },
   "outputs": [],
   "source": [
    "class A:\n",
    "    def __init__(self):\n",
    "        print('A')\n",
    "\n",
    "class B(A):\n",
    "    def __init__(self):\n",
    "        super().__init__() # идет в сестринский класс C и на этом останавливается!\n",
    "        print('B')\n",
    "\n",
    "class C(A):\n",
    "    def __init__(self):\n",
    "        print('C')\n",
    "\n",
    "class D(B, C):\n",
    "    def __init__(self):\n",
    "        super().__init__() # идет в первый родительский класс B\n",
    "        print('D')\n",
    "\n",
    "d = D() # вызываются методы из B и C"
   ]
  },
  {
   "cell_type": "code",
   "execution_count": null,
   "metadata": {
    "colab": {
     "base_uri": "https://localhost:8080/"
    },
    "id": "oUhSvXf0kcHy",
    "outputId": "211055c6-80dc-44df-dad4-52b23bc0df0d"
   },
   "outputs": [],
   "source": [
    "# порядок разрешения методов\n",
    "# почему печатается сначала C потом B\n",
    "D.__mro__"
   ]
  },
  {
   "cell_type": "markdown",
   "metadata": {
    "id": "ic2kZSdTRIss"
   },
   "source": [
    "Если мы хотим, чтобы при инициализации объекта каждого из классов вызывались все методы родительских классов по одному разу:"
   ]
  },
  {
   "cell_type": "code",
   "execution_count": null,
   "metadata": {
    "colab": {
     "base_uri": "https://localhost:8080/"
    },
    "id": "25eCZr8TRHHC",
    "outputId": "fad021f5-9505-45f1-ea83-60364945e6b0"
   },
   "outputs": [],
   "source": [
    "class A:\n",
    "    def __init__(self):\n",
    "        print('A')\n",
    "\n",
    "class B(A):\n",
    "    def __init__(self):\n",
    "        A.__init__(A)\n",
    "        print('B')\n",
    "\n",
    "class C(A):\n",
    "    def __init__(self):\n",
    "        A.__init__(A)\n",
    "        print('C')\n",
    "\n",
    "class D(B, C):\n",
    "    def __init__(self):\n",
    "        B.__init__(B)\n",
    "        C.__init__(C)\n",
    "        print('D')\n",
    "\n",
    "a = A()\n",
    "print('')\n",
    "b = B()\n",
    "print('')\n",
    "c = C()\n",
    "print('')\n",
    "d = D() # работает, но метод из A вызывается 2 раза"
   ]
  },
  {
   "cell_type": "code",
   "execution_count": null,
   "metadata": {
    "colab": {
     "base_uri": "https://localhost:8080/"
    },
    "id": "XeokolAXSAft",
    "outputId": "b4de69fd-0c4d-48f3-dc59-5a66a79936f9"
   },
   "outputs": [],
   "source": [
    "class A:\n",
    "    def __init__(self):\n",
    "        print('A')\n",
    "\n",
    "class B(A):\n",
    "    def __init__(self):\n",
    "        super().__init__() # идет в сестринский класс C\n",
    "        print('B')\n",
    "\n",
    "class C(A):\n",
    "    def __init__(self):\n",
    "        super().__init__() #идет в родительский класс A\n",
    "        print('C')\n",
    "\n",
    "class D(B, C):\n",
    "    def __init__(self):\n",
    "        super().__init__() # идет в первый родительский класс В\n",
    "        print('D')\n",
    "\n",
    "a = A()\n",
    "print('')\n",
    "b = B()\n",
    "print('')\n",
    "c = C()\n",
    "print('')\n",
    "d = D()"
   ]
  },
  {
   "cell_type": "code",
   "execution_count": 3,
   "metadata": {
    "colab": {
     "base_uri": "https://localhost:8080/"
    },
    "id": "HgQIY2RvEHND",
    "outputId": "975d83b0-1b8f-4696-a4aa-6b5cd8342f10"
   },
   "outputs": [
    {
     "ename": "TypeError",
     "evalue": "__init__() missing 1 required positional argument: 'name'",
     "output_type": "error",
     "traceback": [
      "\u001b[1;31m---------------------------------------------------------------------------\u001b[0m",
      "\u001b[1;31mTypeError\u001b[0m                                 Traceback (most recent call last)",
      "\u001b[1;32m<ipython-input-3-35d383b942c0>\u001b[0m in \u001b[0;36m<module>\u001b[1;34m\u001b[0m\n\u001b[0;32m     20\u001b[0m         \u001b[0mprint\u001b[0m\u001b[1;33m(\u001b[0m\u001b[1;34m'Dog can bark!'\u001b[0m\u001b[1;33m)\u001b[0m\u001b[1;33m;\u001b[0m\u001b[1;33m\u001b[0m\u001b[1;33m\u001b[0m\u001b[0m\n\u001b[0;32m     21\u001b[0m \u001b[1;33m\u001b[0m\u001b[0m\n\u001b[1;32m---> 22\u001b[1;33m \u001b[0md\u001b[0m \u001b[1;33m=\u001b[0m \u001b[0mDog\u001b[0m\u001b[1;33m(\u001b[0m\u001b[1;33m)\u001b[0m\u001b[1;33m\u001b[0m\u001b[1;33m\u001b[0m\u001b[0m\n\u001b[0m\u001b[0;32m     23\u001b[0m \u001b[0mprint\u001b[0m\u001b[1;33m(\u001b[0m\u001b[1;34m''\u001b[0m\u001b[1;33m)\u001b[0m\u001b[1;33m\u001b[0m\u001b[1;33m\u001b[0m\u001b[0m\n\u001b[0;32m     24\u001b[0m \u001b[0mbat\u001b[0m \u001b[1;33m=\u001b[0m \u001b[0mNonMarineMammal\u001b[0m\u001b[1;33m(\u001b[0m\u001b[1;34m'Bat'\u001b[0m\u001b[1;33m)\u001b[0m\u001b[1;33m\u001b[0m\u001b[1;33m\u001b[0m\u001b[0m\n",
      "\u001b[1;32m<ipython-input-3-35d383b942c0>\u001b[0m in \u001b[0;36m__init__\u001b[1;34m(self)\u001b[0m\n\u001b[0;32m     17\u001b[0m \u001b[1;32mclass\u001b[0m \u001b[0mDog\u001b[0m\u001b[1;33m(\u001b[0m\u001b[0mNonMarineMammal\u001b[0m\u001b[1;33m,\u001b[0m \u001b[0mNonWingedMammal\u001b[0m\u001b[1;33m)\u001b[0m\u001b[1;33m:\u001b[0m\u001b[1;33m\u001b[0m\u001b[1;33m\u001b[0m\u001b[0m\n\u001b[0;32m     18\u001b[0m     \u001b[1;32mdef\u001b[0m \u001b[0m__init__\u001b[0m\u001b[1;33m(\u001b[0m\u001b[0mself\u001b[0m\u001b[1;33m)\u001b[0m\u001b[1;33m:\u001b[0m\u001b[1;33m\u001b[0m\u001b[1;33m\u001b[0m\u001b[0m\n\u001b[1;32m---> 19\u001b[1;33m         \u001b[0msuper\u001b[0m\u001b[1;33m(\u001b[0m\u001b[1;33m)\u001b[0m\u001b[1;33m.\u001b[0m\u001b[0m__init__\u001b[0m\u001b[1;33m(\u001b[0m\u001b[1;33m)\u001b[0m\u001b[1;33m\u001b[0m\u001b[1;33m\u001b[0m\u001b[0m\n\u001b[0m\u001b[0;32m     20\u001b[0m         \u001b[0mprint\u001b[0m\u001b[1;33m(\u001b[0m\u001b[1;34m'Dog can bark!'\u001b[0m\u001b[1;33m)\u001b[0m\u001b[1;33m;\u001b[0m\u001b[1;33m\u001b[0m\u001b[1;33m\u001b[0m\u001b[0m\n\u001b[0;32m     21\u001b[0m \u001b[1;33m\u001b[0m\u001b[0m\n",
      "\u001b[1;31mTypeError\u001b[0m: __init__() missing 1 required positional argument: 'name'"
     ]
    }
   ],
   "source": [
    "class Animal:\n",
    "    def __init__(self, name):\n",
    "        print(name, 'is an animal.');\n",
    "\n",
    "class Mammal(Animal):\n",
    "    def __init__(self, name):\n",
    "        print(name, 'is a warm-blooded animal.')\n",
    "    \n",
    "class NonWingedMammal(Mammal):\n",
    "    def __init__(self, name):\n",
    "        print(name, \"can't fly.\")\n",
    "\n",
    "class NonMarineMammal(Mammal):\n",
    "    def __init__(self, name):\n",
    "        print(name, \"can't swim.\")\n",
    "\n",
    "class Dog(NonMarineMammal, NonWingedMammal):\n",
    "    def __init__(self):\n",
    "        super().__init__()\n",
    "        print('Dog can bark!');\n",
    "    \n",
    "d = Dog()\n",
    "print('')\n",
    "bat = NonMarineMammal('Bat')"
   ]
  },
  {
   "cell_type": "code",
   "execution_count": null,
   "metadata": {},
   "outputs": [],
   "source": []
  },
  {
   "cell_type": "markdown",
   "metadata": {
    "id": "tVuOVX7ILGm7"
   },
   "source": [
    "**Задание:** сделать так, чтобы при создании экземпляра класса выводились сообщения от самого класса и всех его родителей по одному разу в порядке от низа иерархии наследования до верха (сообщение от Animal должно быть напечатано последним)."
   ]
  },
  {
   "cell_type": "markdown",
   "metadata": {
    "id": "rMyLhvWhVl0N"
   },
   "source": [
    "## @property"
   ]
  },
  {
   "cell_type": "code",
   "execution_count": null,
   "metadata": {
    "id": "Ebvq-Vx1gCGV"
   },
   "outputs": [],
   "source": [
    "class Animal:  \n",
    "    def __init__(self, name, legs, scariness):\n",
    "        self.name = name\n",
    "        self.legs = legs\n",
    "        self.scariness = scariness\n",
    "        self.long_name = '%s-legged %s' % (str(self.legs), self.name)"
   ]
  },
  {
   "cell_type": "code",
   "execution_count": null,
   "metadata": {
    "id": "jwmeUMsIEGDj"
   },
   "outputs": [],
   "source": [
    "animal = Animal('Doggy', 4, 2)"
   ]
  },
  {
   "cell_type": "code",
   "execution_count": null,
   "metadata": {
    "colab": {
     "base_uri": "https://localhost:8080/",
     "height": 35
    },
    "id": "YOJkc36ZEG0A",
    "outputId": "cf730922-34c5-4ac7-ad8d-99891cdf20cb"
   },
   "outputs": [],
   "source": [
    "animal.long_name"
   ]
  },
  {
   "cell_type": "code",
   "execution_count": null,
   "metadata": {
    "id": "sCYkInYZGHJR"
   },
   "outputs": [],
   "source": [
    "animal.name = 'Spidy'\n",
    "animal.legs = 8"
   ]
  },
  {
   "cell_type": "code",
   "execution_count": null,
   "metadata": {
    "colab": {
     "base_uri": "https://localhost:8080/",
     "height": 35
    },
    "id": "_SVQE-iyGHWH",
    "outputId": "a57f4591-f07f-4730-e22f-e390b9d8fbdd"
   },
   "outputs": [],
   "source": [
    "animal.long_name # имя и количество ног в атрибуте long_name не изменились!"
   ]
  },
  {
   "cell_type": "code",
   "execution_count": null,
   "metadata": {
    "id": "DRoWXExfGPIq"
   },
   "outputs": [],
   "source": [
    "class Animal:  \n",
    "    def __init__(self, name, legs, scariness):\n",
    "        self.name = name\n",
    "        self.legs = legs\n",
    "        self.scariness = scariness\n",
    "        \n",
    "    @property # пишем функцию с декоратором property, которая вернет нужное нам значение атрибута\n",
    "    def long_name(self):\n",
    "        return '%s-legged %s' % (str(self.legs), self.name)"
   ]
  },
  {
   "cell_type": "code",
   "execution_count": null,
   "metadata": {
    "colab": {
     "base_uri": "https://localhost:8080/",
     "height": 35
    },
    "id": "U6fcbgDjGPRI",
    "outputId": "3ef19af6-9456-47da-e088-677fd43859de"
   },
   "outputs": [],
   "source": [
    "animal = Animal(name='Doggy', legs=4, scariness=11)\n",
    "animal.long_name"
   ]
  },
  {
   "cell_type": "code",
   "execution_count": null,
   "metadata": {
    "id": "dpFGJDmHGT0K"
   },
   "outputs": [],
   "source": [
    "animal.name = 'Spidy'\n",
    "animal.legs = 8"
   ]
  },
  {
   "cell_type": "code",
   "execution_count": null,
   "metadata": {
    "colab": {
     "base_uri": "https://localhost:8080/",
     "height": 35
    },
    "id": "t5sPTOe8GZUu",
    "outputId": "8280df58-8813-404d-c58c-690f11ef8d20"
   },
   "outputs": [],
   "source": [
    "animal.long_name # имя и количество ног изменились!"
   ]
  },
  {
   "cell_type": "markdown",
   "metadata": {
    "id": "r2imS03-GvzQ"
   },
   "source": [
    "А как менять атрибут long_name?"
   ]
  },
  {
   "cell_type": "code",
   "execution_count": null,
   "metadata": {
    "colab": {
     "base_uri": "https://localhost:8080/",
     "height": 166
    },
    "id": "B93f5eap8ktT",
    "outputId": "28c469ab-514c-414c-a38a-a51013fd8840"
   },
   "outputs": [],
   "source": [
    "animal.long_name = '4-legged Doggy' #  просто так это сделать не получится"
   ]
  },
  {
   "cell_type": "code",
   "execution_count": null,
   "metadata": {
    "id": "uJD1g5SCGxIb"
   },
   "outputs": [],
   "source": [
    "class Animal:  \n",
    "    def __init__(self, name, legs, scariness):\n",
    "        self.name = name\n",
    "        self.legs = legs\n",
    "        self.scariness = scariness\n",
    "        \n",
    "    @property \n",
    "    def long_name(self):\n",
    "        return '%s-legged %s' % (str(self.legs), self.name)\n",
    "    \n",
    "    @long_name.setter\n",
    "    def long_name(self, text):\n",
    "        words = text.split()\n",
    "        self.legs = int(words[0].replace('-legged', ''))\n",
    "        self.name = ' '.join(words[1:])"
   ]
  },
  {
   "cell_type": "code",
   "execution_count": null,
   "metadata": {
    "colab": {
     "base_uri": "https://localhost:8080/",
     "height": 35
    },
    "id": "Ls59hveZG0Kd",
    "outputId": "2da4bf08-54c7-4ae2-ba0a-c45df0fef60c"
   },
   "outputs": [],
   "source": [
    "animal = Animal(name='Doggy', legs=4, scariness=11)\n",
    "animal.long_name"
   ]
  },
  {
   "cell_type": "code",
   "execution_count": null,
   "metadata": {
    "id": "USPRco6lG2uF"
   },
   "outputs": [],
   "source": [
    "animal.long_name = '8-legged Spidy'"
   ]
  },
  {
   "cell_type": "code",
   "execution_count": null,
   "metadata": {
    "colab": {
     "base_uri": "https://localhost:8080/",
     "height": 35
    },
    "id": "bRCGoEDzG5FT",
    "outputId": "2fa118e9-6e5b-4d74-dc77-0f0d589eb36f"
   },
   "outputs": [],
   "source": [
    "animal.name"
   ]
  },
  {
   "cell_type": "code",
   "execution_count": null,
   "metadata": {
    "colab": {
     "base_uri": "https://localhost:8080/"
    },
    "id": "1cKmsQZBG8iy",
    "outputId": "1f5eecfd-579a-43ff-8f37-5d414511d8b9"
   },
   "outputs": [],
   "source": [
    "animal.legs"
   ]
  },
  {
   "cell_type": "markdown",
   "metadata": {
    "id": "lV_CRqsZ8y5o"
   },
   "source": [
    "**Задание**\n",
    "+ Написать класс Sentence, конструктор получает на вход предложение \n",
    "+ Токенизатор можно взять из nltk, на ошибки токенизатора, если они будут, не обращаем внимания \n",
    "+ У класса должен быть атрибуты \n",
    "     * text - текст предложения\n",
    "     * tokens - список токенов, включая знаки препинания  \n",
    "При изменении одного из них, другой должен изменяться соответственно.  "
   ]
  },
  {
   "cell_type": "code",
   "execution_count": null,
   "metadata": {
    "id": "o6B6G9VwodtX"
   },
   "outputs": [],
   "source": [
    "from nltk.tokenize import word_tokenize"
   ]
  },
  {
   "cell_type": "code",
   "execution_count": null,
   "metadata": {
    "colab": {
     "base_uri": "https://localhost:8080/"
    },
    "id": "oFDK4tJzosCa",
    "outputId": "4813ee8f-0350-4747-e199-583492ed734f"
   },
   "outputs": [],
   "source": [
    "word_tokenize('Мама, папа и Вася мыли сине-зеленую раму!!!')"
   ]
  },
  {
   "cell_type": "markdown",
   "metadata": {
    "id": "uzclmEl48f0R"
   },
   "source": [
    "## Методы класса"
   ]
  },
  {
   "cell_type": "markdown",
   "metadata": {
    "id": "pG0rE2TrBl5M"
   },
   "source": [
    "Кроме полей класса, объект класса также может иметь методы класса, в которых вместо ссылки на объект экзепляра (self), передается ссылка на объект класса (cls).     \n",
    "\n",
    "+ имеют доступ только к полям класса (но не к полям экземпляра)\n",
    "+ не требуют создания экземпляра \n",
    "+ не зависят от состояния объекта"
   ]
  },
  {
   "cell_type": "code",
   "execution_count": null,
   "metadata": {
    "id": "572RMwvZDk2a"
   },
   "outputs": [],
   "source": [
    "class Animal:\n",
    "   \n",
    "    fav_food = 'pizza' # атрибут класса \n",
    "    \n",
    "    \n",
    "    def __init__(self, name, legs, scariness):\n",
    "        self.name = name \n",
    "        self.legs = legs\n",
    "        self.scariness = scariness\n",
    "    \n",
    "    def introduce(self): \n",
    "        return \"Hello! My name is %s!\" % self.name\n",
    "    \n",
    "    \n",
    "    def sound(self):\n",
    "        return \"Sound!\"\n",
    "    \n",
    "    # нужно использовать декоратор classmethod\n",
    "    @classmethod\n",
    "    def favorite_food(cls): # cls вместо self\n",
    "        return \"My favorite food is %s!\" % cls.fav_food"
   ]
  },
  {
   "cell_type": "code",
   "execution_count": null,
   "metadata": {
    "id": "JE9W0eEADziA"
   },
   "outputs": [],
   "source": [
    "animal = Animal('Doggy', 4, 1)"
   ]
  },
  {
   "cell_type": "code",
   "execution_count": null,
   "metadata": {
    "id": "vz7zHE5AD15u"
   },
   "outputs": [],
   "source": [
    "animal.favorite_food() # из объекта экземпяра класса"
   ]
  },
  {
   "cell_type": "code",
   "execution_count": null,
   "metadata": {
    "id": "UQl7DDNFD4Y9"
   },
   "outputs": [],
   "source": [
    "Animal.favorite_food() # из объекта класса"
   ]
  },
  {
   "cell_type": "markdown",
   "metadata": {
    "id": "WXuuDAnR8yka"
   },
   "source": [
    "## Статические методы "
   ]
  },
  {
   "cell_type": "markdown",
   "metadata": {
    "id": "FQKTxyj-BzbR"
   },
   "source": [
    "+ не требуют создания экземпляра \n",
    "+ не зависят от состояния объекта\n",
    "+ нет доступа даже к полям класаа\n",
    "+ ничего не нужно знать про класс, пользуются только переданными аргументами\n",
    "+ не нужно передавать ссылку ни на объект экземпляра, ни на объект класса"
   ]
  },
  {
   "cell_type": "code",
   "execution_count": null,
   "metadata": {
    "id": "QlMfLu58BqYX"
   },
   "outputs": [],
   "source": [
    "class Animal:\n",
    "   \n",
    "    fav_food = 'pizza' # атрибут класса \n",
    "    \n",
    "    \n",
    "    def __init__(self, name, legs, scariness):\n",
    "        self.name = self.capitalize(name) \n",
    "        self.legs = legs\n",
    "        self.scariness = scariness\n",
    "    \n",
    "    def introduce(self): \n",
    "        return \"Hello! My name is %s!\" % self.name\n",
    "    \n",
    "    \n",
    "    def sound(self):\n",
    "        return \"Sound!\"\n",
    "    \n",
    "    # нужно использовать декоратор staticmethod\n",
    "    @staticmethod\n",
    "    def capitalize(name): # аргумент self/cls не нужен, т.к. мы не обращаемся ни к полям экземпляра, ни к полям класса\n",
    "        chars = list(name)\n",
    "        chars[0] = chars[0].upper()\n",
    "        return ''.join(chars)"
   ]
  },
  {
   "cell_type": "code",
   "execution_count": null,
   "metadata": {
    "id": "IAJ5DLQ_8x8e"
   },
   "outputs": [],
   "source": [
    "animal = Animal('lowercase name', 4, 1)"
   ]
  },
  {
   "cell_type": "code",
   "execution_count": null,
   "metadata": {
    "id": "t8paBwmoC4DB"
   },
   "outputs": [],
   "source": [
    "animal.name"
   ]
  },
  {
   "cell_type": "markdown",
   "metadata": {},
   "source": [
    "### Еще один пример использования @staticmethod и @classmethod"
   ]
  },
  {
   "cell_type": "code",
   "execution_count": null,
   "metadata": {},
   "outputs": [],
   "source": [
    "from datetime import date \n",
    "  \n",
    "class Person: \n",
    "    def __init__(self, name, age): \n",
    "        self.name = name \n",
    "        self.age = age \n",
    "      \n",
    "    # a class method to create a  \n",
    "    # Person object by birth year. \n",
    "    @classmethod\n",
    "    def fromBirthYear(cls, name, year): \n",
    "        return cls(name, date.today().year - year) \n",
    "      \n",
    "    # a static method to check if a \n",
    "    # Person is adult or not. \n",
    "    @staticmethod\n",
    "    def isAdult(age): \n",
    "        return age > 18\n",
    "\n",
    "person1 = Person('mayank', 21) \n",
    "person2 = Person.fromBirthYear('mayank', 1996) \n",
    "  \n",
    "print (person1.age) \n",
    "print (person2.age) \n",
    "  \n",
    "# print the result \n",
    "print (Person.isAdult(22)) "
   ]
  },
  {
   "cell_type": "code",
   "execution_count": null,
   "metadata": {},
   "outputs": [],
   "source": []
  }
 ],
 "metadata": {
  "colab": {
   "name": "12.ipynb",
   "provenance": []
  },
  "kernelspec": {
   "display_name": "Python 3",
   "language": "python",
   "name": "python3"
  },
  "language_info": {
   "codemirror_mode": {
    "name": "ipython",
    "version": 3
   },
   "file_extension": ".py",
   "mimetype": "text/x-python",
   "name": "python",
   "nbconvert_exporter": "python",
   "pygments_lexer": "ipython3",
   "version": "3.8.6"
  }
 },
 "nbformat": 4,
 "nbformat_minor": 1
}
