{
 "cells": [
  {
   "cell_type": "markdown",
   "metadata": {
    "colab_type": "text",
    "id": "qYSEkN3aNmiR"
   },
   "source": [
    "# Первичный анализ данных и визуализации"
   ]
  },
  {
   "cell_type": "code",
   "execution_count": 31,
   "metadata": {},
   "outputs": [],
   "source": [
    "import matplotlib.pyplot as plt\n",
    "import seaborn as sns"
   ]
  },
  {
   "cell_type": "markdown",
   "metadata": {
    "colab_type": "text",
    "id": "iWgYvb8dqYor"
   },
   "source": [
    "## Первичный анализ данных, pandas и графики"
   ]
  },
  {
   "cell_type": "markdown",
   "metadata": {
    "colab_type": "text",
    "id": "X_Ga0SxrUqcg"
   },
   "source": [
    "**pandas** - библиотека для работы с данными в табличном формате   "
   ]
  },
  {
   "cell_type": "markdown",
   "metadata": {
    "colab_type": "text",
    "id": "lHfXHaSPPkKn"
   },
   "source": [
    "+ будем работать с датасетом [Student Performance](http://archive.ics.uci.edu/ml/datasets/Student+Performance#)\n",
    "+ постараемся предсказать итоговую оценку по математике (G3) по разным другим признакам \n",
    "\n"
   ]
  },
  {
   "cell_type": "markdown",
   "metadata": {
    "colab_type": "text",
    "id": "h29t3ALzZSQF"
   },
   "source": [
    "### Attributes"
   ]
  },
  {
   "cell_type": "markdown",
   "metadata": {
    "colab_type": "text",
    "id": "4o5nMt_bY3rQ"
   },
   "source": [
    "\n",
    "1. **school** - student's school (binary: 'GP' - Gabriel Pereira or 'MS' - Mousinho da Silveira)\n",
    "2. **sex** - student's sex (binary: 'F' - female or 'M' - male)\n",
    "3. **age** - student's age (numeric: from 15 to 22)\n",
    "4. **address** - student's home address type (binary: 'U' - urban or 'R' - rural)\n",
    "5. **famsize** - family size (binary: 'LE3' - less or equal to 3 or 'GT3' - greater than 3)\n",
    "6. **Pstatus** - parent's cohabitation status (binary: 'T' - living together or 'A' - apart)\n",
    "7. **Medu** - mother's education (numeric: 0 - none, 1 - primary education (4th grade), 2 - 5th to 9th grade, 3 - secondary education or 4 - higher education)\n",
    "8. **Fedu** - father's education (numeric: 0 - none, 1 - primary education (4th grade), 2 - 5th to 9th grade, 3 - secondary education or 4 - higher education)\n",
    "9. **Mjob** - mother's job (nominal: 'teacher', 'health' care related, civil 'services' (e.g. administrative or police), 'at_home' or 'other')\n",
    "10. **Fjob** - father's job (nominal: 'teacher', 'health' care related, civil 'services' (e.g. administrative or police), 'at_home' or 'other')\n",
    "11. **reason** - reason to choose this school (nominal: close to 'home', school 'reputation', 'course' preference or 'other')\n",
    "12. **guardian** - student's guardian (nominal: 'mother', 'father' or 'other')\n",
    "13. **traveltime** - home to school travel time (numeric: 1 - <15 min., 2 - 15 to 30 min., 3 - 30 min. to 1 hour, or 4 - >1 hour)\n",
    "14. **studytime** - weekly study time (numeric: 1 - <2 hours, 2 - 2 to 5 hours, 3 - 5 to 10 hours, or 4 - >10 hours)\n",
    "15. **failures** - number of past class failures (numeric: n if 1<=n<3, else 4)\n",
    "16. **schoolsup** - extra educational support (binary: yes or no)\n",
    "17. **famsup** - family educational support (binary: yes or no)\n",
    "18. **paid**- extra paid classes within the course subject (Math or Portuguese) (binary: yes or no)\n",
    "19. **activities** - extra-curricular activities (binary: yes or no)\n",
    "20. **nursery** - attended nursery school (binary: yes or no)\n",
    "21. **higher** - wants to take higher education (binary: yes or no)\n",
    "22. **internet** - Internet access at home (binary: yes or no)\n",
    "23. **romantic** - with a romantic relationship (binary: yes or no)\n",
    "24. **famrel** - quality of family relationships (numeric: from 1 - very bad to 5 - excellent)\n",
    "25. **freetime** - free time after school (numeric: from 1 - very low to 5 - very high)\n",
    "26. **goout** - going out with friends (numeric: from 1 - very low to 5 - very high)\n",
    "27. **Dalc** - workday alcohol consumption (numeric: from 1 - very low to 5 - very high)\n",
    "28. **Walc** - weekend alcohol consumption (numeric: from 1 - very low to 5 - very high)\n",
    "29. **health** - current health status (numeric: from 1 - very bad to 5 - very good)\n",
    "30. **absences** - number of school absences (numeric: from 0 to 93)\n",
    "\n"
   ]
  },
  {
   "cell_type": "markdown",
   "metadata": {
    "colab_type": "text",
    "id": "V6TEXVMiZppF"
   },
   "source": [
    "### Target:\n",
    "31. **G1** - first period grade (numeric: from 0 to 20)\n",
    "31. **G2** - second period grade (numeric: from 0 to 20)\n",
    "32. **G3** - final grade (numeric: from 0 to 20, output target)"
   ]
  },
  {
   "cell_type": "markdown",
   "metadata": {
    "colab_type": "text",
    "id": "fX5eVHozY79Y"
   },
   "source": [
    "### Посмотрим на данные"
   ]
  },
  {
   "cell_type": "code",
   "execution_count": 2,
   "metadata": {
    "colab": {},
    "colab_type": "code",
    "id": "q8EiMYpOWV4g"
   },
   "outputs": [],
   "source": [
    "import pandas as pd"
   ]
  },
  {
   "cell_type": "code",
   "execution_count": 3,
   "metadata": {
    "colab": {},
    "colab_type": "code",
    "id": "3O6luYV7PjDG"
   },
   "outputs": [],
   "source": [
    "# загружаем датасет с оценками по математике\n",
    "# не забываем указать правильный разделитель\n",
    "data = pd.read_csv('https://raw.githubusercontent.com/arunk13/MSDA-Assignments/master/IS607Fall2015/Assignment3/student-mat.csv', delimiter=';')"
   ]
  },
  {
   "cell_type": "code",
   "execution_count": 4,
   "metadata": {
    "colab": {
     "base_uri": "https://localhost:8080/",
     "height": 534
    },
    "colab_type": "code",
    "id": "WUbpkhqjW68X",
    "outputId": "f2aeb62a-6e11-4070-8847-7e0629749267"
   },
   "outputs": [
    {
     "data": {
      "text/html": [
       "<div>\n",
       "<style scoped>\n",
       "    .dataframe tbody tr th:only-of-type {\n",
       "        vertical-align: middle;\n",
       "    }\n",
       "\n",
       "    .dataframe tbody tr th {\n",
       "        vertical-align: top;\n",
       "    }\n",
       "\n",
       "    .dataframe thead th {\n",
       "        text-align: right;\n",
       "    }\n",
       "</style>\n",
       "<table border=\"1\" class=\"dataframe\">\n",
       "  <thead>\n",
       "    <tr style=\"text-align: right;\">\n",
       "      <th></th>\n",
       "      <th>school</th>\n",
       "      <th>sex</th>\n",
       "      <th>age</th>\n",
       "      <th>address</th>\n",
       "      <th>famsize</th>\n",
       "      <th>Pstatus</th>\n",
       "      <th>Medu</th>\n",
       "      <th>Fedu</th>\n",
       "      <th>Mjob</th>\n",
       "      <th>Fjob</th>\n",
       "      <th>...</th>\n",
       "      <th>famrel</th>\n",
       "      <th>freetime</th>\n",
       "      <th>goout</th>\n",
       "      <th>Dalc</th>\n",
       "      <th>Walc</th>\n",
       "      <th>health</th>\n",
       "      <th>absences</th>\n",
       "      <th>G1</th>\n",
       "      <th>G2</th>\n",
       "      <th>G3</th>\n",
       "    </tr>\n",
       "  </thead>\n",
       "  <tbody>\n",
       "    <tr>\n",
       "      <th>0</th>\n",
       "      <td>GP</td>\n",
       "      <td>F</td>\n",
       "      <td>18</td>\n",
       "      <td>U</td>\n",
       "      <td>GT3</td>\n",
       "      <td>A</td>\n",
       "      <td>4</td>\n",
       "      <td>4</td>\n",
       "      <td>at_home</td>\n",
       "      <td>teacher</td>\n",
       "      <td>...</td>\n",
       "      <td>4</td>\n",
       "      <td>3</td>\n",
       "      <td>4</td>\n",
       "      <td>1</td>\n",
       "      <td>1</td>\n",
       "      <td>3</td>\n",
       "      <td>6</td>\n",
       "      <td>5</td>\n",
       "      <td>6</td>\n",
       "      <td>6</td>\n",
       "    </tr>\n",
       "    <tr>\n",
       "      <th>1</th>\n",
       "      <td>GP</td>\n",
       "      <td>F</td>\n",
       "      <td>17</td>\n",
       "      <td>U</td>\n",
       "      <td>GT3</td>\n",
       "      <td>T</td>\n",
       "      <td>1</td>\n",
       "      <td>1</td>\n",
       "      <td>at_home</td>\n",
       "      <td>other</td>\n",
       "      <td>...</td>\n",
       "      <td>5</td>\n",
       "      <td>3</td>\n",
       "      <td>3</td>\n",
       "      <td>1</td>\n",
       "      <td>1</td>\n",
       "      <td>3</td>\n",
       "      <td>4</td>\n",
       "      <td>5</td>\n",
       "      <td>5</td>\n",
       "      <td>6</td>\n",
       "    </tr>\n",
       "    <tr>\n",
       "      <th>2</th>\n",
       "      <td>GP</td>\n",
       "      <td>F</td>\n",
       "      <td>15</td>\n",
       "      <td>U</td>\n",
       "      <td>LE3</td>\n",
       "      <td>T</td>\n",
       "      <td>1</td>\n",
       "      <td>1</td>\n",
       "      <td>at_home</td>\n",
       "      <td>other</td>\n",
       "      <td>...</td>\n",
       "      <td>4</td>\n",
       "      <td>3</td>\n",
       "      <td>2</td>\n",
       "      <td>2</td>\n",
       "      <td>3</td>\n",
       "      <td>3</td>\n",
       "      <td>10</td>\n",
       "      <td>7</td>\n",
       "      <td>8</td>\n",
       "      <td>10</td>\n",
       "    </tr>\n",
       "    <tr>\n",
       "      <th>3</th>\n",
       "      <td>GP</td>\n",
       "      <td>F</td>\n",
       "      <td>15</td>\n",
       "      <td>U</td>\n",
       "      <td>GT3</td>\n",
       "      <td>T</td>\n",
       "      <td>4</td>\n",
       "      <td>2</td>\n",
       "      <td>health</td>\n",
       "      <td>services</td>\n",
       "      <td>...</td>\n",
       "      <td>3</td>\n",
       "      <td>2</td>\n",
       "      <td>2</td>\n",
       "      <td>1</td>\n",
       "      <td>1</td>\n",
       "      <td>5</td>\n",
       "      <td>2</td>\n",
       "      <td>15</td>\n",
       "      <td>14</td>\n",
       "      <td>15</td>\n",
       "    </tr>\n",
       "    <tr>\n",
       "      <th>4</th>\n",
       "      <td>GP</td>\n",
       "      <td>F</td>\n",
       "      <td>16</td>\n",
       "      <td>U</td>\n",
       "      <td>GT3</td>\n",
       "      <td>T</td>\n",
       "      <td>3</td>\n",
       "      <td>3</td>\n",
       "      <td>other</td>\n",
       "      <td>other</td>\n",
       "      <td>...</td>\n",
       "      <td>4</td>\n",
       "      <td>3</td>\n",
       "      <td>2</td>\n",
       "      <td>1</td>\n",
       "      <td>2</td>\n",
       "      <td>5</td>\n",
       "      <td>4</td>\n",
       "      <td>6</td>\n",
       "      <td>10</td>\n",
       "      <td>10</td>\n",
       "    </tr>\n",
       "    <tr>\n",
       "      <th>5</th>\n",
       "      <td>GP</td>\n",
       "      <td>M</td>\n",
       "      <td>16</td>\n",
       "      <td>U</td>\n",
       "      <td>LE3</td>\n",
       "      <td>T</td>\n",
       "      <td>4</td>\n",
       "      <td>3</td>\n",
       "      <td>services</td>\n",
       "      <td>other</td>\n",
       "      <td>...</td>\n",
       "      <td>5</td>\n",
       "      <td>4</td>\n",
       "      <td>2</td>\n",
       "      <td>1</td>\n",
       "      <td>2</td>\n",
       "      <td>5</td>\n",
       "      <td>10</td>\n",
       "      <td>15</td>\n",
       "      <td>15</td>\n",
       "      <td>15</td>\n",
       "    </tr>\n",
       "    <tr>\n",
       "      <th>6</th>\n",
       "      <td>GP</td>\n",
       "      <td>M</td>\n",
       "      <td>16</td>\n",
       "      <td>U</td>\n",
       "      <td>LE3</td>\n",
       "      <td>T</td>\n",
       "      <td>2</td>\n",
       "      <td>2</td>\n",
       "      <td>other</td>\n",
       "      <td>other</td>\n",
       "      <td>...</td>\n",
       "      <td>4</td>\n",
       "      <td>4</td>\n",
       "      <td>4</td>\n",
       "      <td>1</td>\n",
       "      <td>1</td>\n",
       "      <td>3</td>\n",
       "      <td>0</td>\n",
       "      <td>12</td>\n",
       "      <td>12</td>\n",
       "      <td>11</td>\n",
       "    </tr>\n",
       "    <tr>\n",
       "      <th>7</th>\n",
       "      <td>GP</td>\n",
       "      <td>F</td>\n",
       "      <td>17</td>\n",
       "      <td>U</td>\n",
       "      <td>GT3</td>\n",
       "      <td>A</td>\n",
       "      <td>4</td>\n",
       "      <td>4</td>\n",
       "      <td>other</td>\n",
       "      <td>teacher</td>\n",
       "      <td>...</td>\n",
       "      <td>4</td>\n",
       "      <td>1</td>\n",
       "      <td>4</td>\n",
       "      <td>1</td>\n",
       "      <td>1</td>\n",
       "      <td>1</td>\n",
       "      <td>6</td>\n",
       "      <td>6</td>\n",
       "      <td>5</td>\n",
       "      <td>6</td>\n",
       "    </tr>\n",
       "    <tr>\n",
       "      <th>8</th>\n",
       "      <td>GP</td>\n",
       "      <td>M</td>\n",
       "      <td>15</td>\n",
       "      <td>U</td>\n",
       "      <td>LE3</td>\n",
       "      <td>A</td>\n",
       "      <td>3</td>\n",
       "      <td>2</td>\n",
       "      <td>services</td>\n",
       "      <td>other</td>\n",
       "      <td>...</td>\n",
       "      <td>4</td>\n",
       "      <td>2</td>\n",
       "      <td>2</td>\n",
       "      <td>1</td>\n",
       "      <td>1</td>\n",
       "      <td>1</td>\n",
       "      <td>0</td>\n",
       "      <td>16</td>\n",
       "      <td>18</td>\n",
       "      <td>19</td>\n",
       "    </tr>\n",
       "    <tr>\n",
       "      <th>9</th>\n",
       "      <td>GP</td>\n",
       "      <td>M</td>\n",
       "      <td>15</td>\n",
       "      <td>U</td>\n",
       "      <td>GT3</td>\n",
       "      <td>T</td>\n",
       "      <td>3</td>\n",
       "      <td>4</td>\n",
       "      <td>other</td>\n",
       "      <td>other</td>\n",
       "      <td>...</td>\n",
       "      <td>5</td>\n",
       "      <td>5</td>\n",
       "      <td>1</td>\n",
       "      <td>1</td>\n",
       "      <td>1</td>\n",
       "      <td>5</td>\n",
       "      <td>0</td>\n",
       "      <td>14</td>\n",
       "      <td>15</td>\n",
       "      <td>15</td>\n",
       "    </tr>\n",
       "    <tr>\n",
       "      <th>10</th>\n",
       "      <td>GP</td>\n",
       "      <td>F</td>\n",
       "      <td>15</td>\n",
       "      <td>U</td>\n",
       "      <td>GT3</td>\n",
       "      <td>T</td>\n",
       "      <td>4</td>\n",
       "      <td>4</td>\n",
       "      <td>teacher</td>\n",
       "      <td>health</td>\n",
       "      <td>...</td>\n",
       "      <td>3</td>\n",
       "      <td>3</td>\n",
       "      <td>3</td>\n",
       "      <td>1</td>\n",
       "      <td>2</td>\n",
       "      <td>2</td>\n",
       "      <td>0</td>\n",
       "      <td>10</td>\n",
       "      <td>8</td>\n",
       "      <td>9</td>\n",
       "    </tr>\n",
       "    <tr>\n",
       "      <th>11</th>\n",
       "      <td>GP</td>\n",
       "      <td>F</td>\n",
       "      <td>15</td>\n",
       "      <td>U</td>\n",
       "      <td>GT3</td>\n",
       "      <td>T</td>\n",
       "      <td>2</td>\n",
       "      <td>1</td>\n",
       "      <td>services</td>\n",
       "      <td>other</td>\n",
       "      <td>...</td>\n",
       "      <td>5</td>\n",
       "      <td>2</td>\n",
       "      <td>2</td>\n",
       "      <td>1</td>\n",
       "      <td>1</td>\n",
       "      <td>4</td>\n",
       "      <td>4</td>\n",
       "      <td>10</td>\n",
       "      <td>12</td>\n",
       "      <td>12</td>\n",
       "    </tr>\n",
       "    <tr>\n",
       "      <th>12</th>\n",
       "      <td>GP</td>\n",
       "      <td>M</td>\n",
       "      <td>15</td>\n",
       "      <td>U</td>\n",
       "      <td>LE3</td>\n",
       "      <td>T</td>\n",
       "      <td>4</td>\n",
       "      <td>4</td>\n",
       "      <td>health</td>\n",
       "      <td>services</td>\n",
       "      <td>...</td>\n",
       "      <td>4</td>\n",
       "      <td>3</td>\n",
       "      <td>3</td>\n",
       "      <td>1</td>\n",
       "      <td>3</td>\n",
       "      <td>5</td>\n",
       "      <td>2</td>\n",
       "      <td>14</td>\n",
       "      <td>14</td>\n",
       "      <td>14</td>\n",
       "    </tr>\n",
       "    <tr>\n",
       "      <th>13</th>\n",
       "      <td>GP</td>\n",
       "      <td>M</td>\n",
       "      <td>15</td>\n",
       "      <td>U</td>\n",
       "      <td>GT3</td>\n",
       "      <td>T</td>\n",
       "      <td>4</td>\n",
       "      <td>3</td>\n",
       "      <td>teacher</td>\n",
       "      <td>other</td>\n",
       "      <td>...</td>\n",
       "      <td>5</td>\n",
       "      <td>4</td>\n",
       "      <td>3</td>\n",
       "      <td>1</td>\n",
       "      <td>2</td>\n",
       "      <td>3</td>\n",
       "      <td>2</td>\n",
       "      <td>10</td>\n",
       "      <td>10</td>\n",
       "      <td>11</td>\n",
       "    </tr>\n",
       "    <tr>\n",
       "      <th>14</th>\n",
       "      <td>GP</td>\n",
       "      <td>M</td>\n",
       "      <td>15</td>\n",
       "      <td>U</td>\n",
       "      <td>GT3</td>\n",
       "      <td>A</td>\n",
       "      <td>2</td>\n",
       "      <td>2</td>\n",
       "      <td>other</td>\n",
       "      <td>other</td>\n",
       "      <td>...</td>\n",
       "      <td>4</td>\n",
       "      <td>5</td>\n",
       "      <td>2</td>\n",
       "      <td>1</td>\n",
       "      <td>1</td>\n",
       "      <td>3</td>\n",
       "      <td>0</td>\n",
       "      <td>14</td>\n",
       "      <td>16</td>\n",
       "      <td>16</td>\n",
       "    </tr>\n",
       "  </tbody>\n",
       "</table>\n",
       "<p>15 rows × 33 columns</p>\n",
       "</div>"
      ],
      "text/plain": [
       "   school sex  age address famsize Pstatus  Medu  Fedu      Mjob      Fjob  \\\n",
       "0      GP   F   18       U     GT3       A     4     4   at_home   teacher   \n",
       "1      GP   F   17       U     GT3       T     1     1   at_home     other   \n",
       "2      GP   F   15       U     LE3       T     1     1   at_home     other   \n",
       "3      GP   F   15       U     GT3       T     4     2    health  services   \n",
       "4      GP   F   16       U     GT3       T     3     3     other     other   \n",
       "5      GP   M   16       U     LE3       T     4     3  services     other   \n",
       "6      GP   M   16       U     LE3       T     2     2     other     other   \n",
       "7      GP   F   17       U     GT3       A     4     4     other   teacher   \n",
       "8      GP   M   15       U     LE3       A     3     2  services     other   \n",
       "9      GP   M   15       U     GT3       T     3     4     other     other   \n",
       "10     GP   F   15       U     GT3       T     4     4   teacher    health   \n",
       "11     GP   F   15       U     GT3       T     2     1  services     other   \n",
       "12     GP   M   15       U     LE3       T     4     4    health  services   \n",
       "13     GP   M   15       U     GT3       T     4     3   teacher     other   \n",
       "14     GP   M   15       U     GT3       A     2     2     other     other   \n",
       "\n",
       "    ... famrel freetime  goout  Dalc  Walc health absences  G1  G2  G3  \n",
       "0   ...      4        3      4     1     1      3        6   5   6   6  \n",
       "1   ...      5        3      3     1     1      3        4   5   5   6  \n",
       "2   ...      4        3      2     2     3      3       10   7   8  10  \n",
       "3   ...      3        2      2     1     1      5        2  15  14  15  \n",
       "4   ...      4        3      2     1     2      5        4   6  10  10  \n",
       "5   ...      5        4      2     1     2      5       10  15  15  15  \n",
       "6   ...      4        4      4     1     1      3        0  12  12  11  \n",
       "7   ...      4        1      4     1     1      1        6   6   5   6  \n",
       "8   ...      4        2      2     1     1      1        0  16  18  19  \n",
       "9   ...      5        5      1     1     1      5        0  14  15  15  \n",
       "10  ...      3        3      3     1     2      2        0  10   8   9  \n",
       "11  ...      5        2      2     1     1      4        4  10  12  12  \n",
       "12  ...      4        3      3     1     3      5        2  14  14  14  \n",
       "13  ...      5        4      3     1     2      3        2  10  10  11  \n",
       "14  ...      4        5      2     1     1      3        0  14  16  16  \n",
       "\n",
       "[15 rows x 33 columns]"
      ]
     },
     "execution_count": 4,
     "metadata": {},
     "output_type": "execute_result"
    }
   ],
   "source": [
    "# посмотрим на первые 15 строк таблицы\n",
    "# каждая строка - объект\n",
    "# столбцы - признаки\n",
    "data.head(15)"
   ]
  },
  {
   "cell_type": "markdown",
   "metadata": {
    "colab_type": "text",
    "id": "SAfLOChxGE_v"
   },
   "source": [
    "### Удаление столбцов, добавление столбцов, сортировка"
   ]
  },
  {
   "cell_type": "code",
   "execution_count": 5,
   "metadata": {
    "colab": {},
    "colab_type": "code",
    "id": "35T7VkJZ0Xx-"
   },
   "outputs": [],
   "source": [
    "# убираем столбцы G1 и G2, т.к. нас интересует только G3\n",
    "data = data.drop(columns=['G1', 'G2'])"
   ]
  },
  {
   "cell_type": "code",
   "execution_count": 6,
   "metadata": {
    "colab": {},
    "colab_type": "code",
    "id": "m4DfsqxfjJjb"
   },
   "outputs": [],
   "source": [
    "# добавить столбец\n",
    "data['MeanAlc'] = (data['Walc']+data['Dalc'])/2"
   ]
  },
  {
   "cell_type": "code",
   "execution_count": 7,
   "metadata": {
    "colab": {},
    "colab_type": "code",
    "id": "ir4FpZ5gjj7S"
   },
   "outputs": [],
   "source": [
    "data = data.drop(columns=['MeanAlc'])"
   ]
  },
  {
   "cell_type": "code",
   "execution_count": 8,
   "metadata": {
    "colab": {},
    "colab_type": "code",
    "id": "RbrpUCD5GL8L"
   },
   "outputs": [],
   "source": [
    "# отсортируем по оценкам по убыванию\n",
    "sorted_data = data.sort_values(by='G3', ascending=False)"
   ]
  },
  {
   "cell_type": "code",
   "execution_count": 9,
   "metadata": {
    "colab": {
     "base_uri": "https://localhost:8080/",
     "height": 224
    },
    "colab_type": "code",
    "id": "SlYMuug3GnNP",
    "outputId": "3a2b0c3d-be2d-4147-ba9e-88f6e45b392b"
   },
   "outputs": [
    {
     "data": {
      "text/html": [
       "<div>\n",
       "<style scoped>\n",
       "    .dataframe tbody tr th:only-of-type {\n",
       "        vertical-align: middle;\n",
       "    }\n",
       "\n",
       "    .dataframe tbody tr th {\n",
       "        vertical-align: top;\n",
       "    }\n",
       "\n",
       "    .dataframe thead th {\n",
       "        text-align: right;\n",
       "    }\n",
       "</style>\n",
       "<table border=\"1\" class=\"dataframe\">\n",
       "  <thead>\n",
       "    <tr style=\"text-align: right;\">\n",
       "      <th></th>\n",
       "      <th>school</th>\n",
       "      <th>sex</th>\n",
       "      <th>age</th>\n",
       "      <th>address</th>\n",
       "      <th>famsize</th>\n",
       "      <th>Pstatus</th>\n",
       "      <th>Medu</th>\n",
       "      <th>Fedu</th>\n",
       "      <th>Mjob</th>\n",
       "      <th>Fjob</th>\n",
       "      <th>...</th>\n",
       "      <th>internet</th>\n",
       "      <th>romantic</th>\n",
       "      <th>famrel</th>\n",
       "      <th>freetime</th>\n",
       "      <th>goout</th>\n",
       "      <th>Dalc</th>\n",
       "      <th>Walc</th>\n",
       "      <th>health</th>\n",
       "      <th>absences</th>\n",
       "      <th>G3</th>\n",
       "    </tr>\n",
       "  </thead>\n",
       "  <tbody>\n",
       "    <tr>\n",
       "      <th>47</th>\n",
       "      <td>GP</td>\n",
       "      <td>M</td>\n",
       "      <td>16</td>\n",
       "      <td>U</td>\n",
       "      <td>GT3</td>\n",
       "      <td>T</td>\n",
       "      <td>4</td>\n",
       "      <td>3</td>\n",
       "      <td>health</td>\n",
       "      <td>services</td>\n",
       "      <td>...</td>\n",
       "      <td>yes</td>\n",
       "      <td>no</td>\n",
       "      <td>4</td>\n",
       "      <td>2</td>\n",
       "      <td>2</td>\n",
       "      <td>1</td>\n",
       "      <td>1</td>\n",
       "      <td>2</td>\n",
       "      <td>4</td>\n",
       "      <td>20</td>\n",
       "    </tr>\n",
       "    <tr>\n",
       "      <th>113</th>\n",
       "      <td>GP</td>\n",
       "      <td>M</td>\n",
       "      <td>15</td>\n",
       "      <td>U</td>\n",
       "      <td>LE3</td>\n",
       "      <td>T</td>\n",
       "      <td>4</td>\n",
       "      <td>2</td>\n",
       "      <td>teacher</td>\n",
       "      <td>other</td>\n",
       "      <td>...</td>\n",
       "      <td>yes</td>\n",
       "      <td>no</td>\n",
       "      <td>3</td>\n",
       "      <td>5</td>\n",
       "      <td>2</td>\n",
       "      <td>1</td>\n",
       "      <td>1</td>\n",
       "      <td>3</td>\n",
       "      <td>10</td>\n",
       "      <td>19</td>\n",
       "    </tr>\n",
       "    <tr>\n",
       "      <th>110</th>\n",
       "      <td>GP</td>\n",
       "      <td>M</td>\n",
       "      <td>15</td>\n",
       "      <td>U</td>\n",
       "      <td>LE3</td>\n",
       "      <td>A</td>\n",
       "      <td>4</td>\n",
       "      <td>4</td>\n",
       "      <td>teacher</td>\n",
       "      <td>teacher</td>\n",
       "      <td>...</td>\n",
       "      <td>yes</td>\n",
       "      <td>no</td>\n",
       "      <td>5</td>\n",
       "      <td>5</td>\n",
       "      <td>3</td>\n",
       "      <td>1</td>\n",
       "      <td>1</td>\n",
       "      <td>4</td>\n",
       "      <td>6</td>\n",
       "      <td>19</td>\n",
       "    </tr>\n",
       "    <tr>\n",
       "      <th>286</th>\n",
       "      <td>GP</td>\n",
       "      <td>F</td>\n",
       "      <td>18</td>\n",
       "      <td>U</td>\n",
       "      <td>GT3</td>\n",
       "      <td>T</td>\n",
       "      <td>2</td>\n",
       "      <td>2</td>\n",
       "      <td>at_home</td>\n",
       "      <td>at_home</td>\n",
       "      <td>...</td>\n",
       "      <td>yes</td>\n",
       "      <td>no</td>\n",
       "      <td>4</td>\n",
       "      <td>3</td>\n",
       "      <td>3</td>\n",
       "      <td>1</td>\n",
       "      <td>2</td>\n",
       "      <td>2</td>\n",
       "      <td>5</td>\n",
       "      <td>19</td>\n",
       "    </tr>\n",
       "    <tr>\n",
       "      <th>8</th>\n",
       "      <td>GP</td>\n",
       "      <td>M</td>\n",
       "      <td>15</td>\n",
       "      <td>U</td>\n",
       "      <td>LE3</td>\n",
       "      <td>A</td>\n",
       "      <td>3</td>\n",
       "      <td>2</td>\n",
       "      <td>services</td>\n",
       "      <td>other</td>\n",
       "      <td>...</td>\n",
       "      <td>yes</td>\n",
       "      <td>no</td>\n",
       "      <td>4</td>\n",
       "      <td>2</td>\n",
       "      <td>2</td>\n",
       "      <td>1</td>\n",
       "      <td>1</td>\n",
       "      <td>1</td>\n",
       "      <td>0</td>\n",
       "      <td>19</td>\n",
       "    </tr>\n",
       "  </tbody>\n",
       "</table>\n",
       "<p>5 rows × 31 columns</p>\n",
       "</div>"
      ],
      "text/plain": [
       "    school sex  age address famsize Pstatus  Medu  Fedu      Mjob      Fjob  \\\n",
       "47      GP   M   16       U     GT3       T     4     3    health  services   \n",
       "113     GP   M   15       U     LE3       T     4     2   teacher     other   \n",
       "110     GP   M   15       U     LE3       A     4     4   teacher   teacher   \n",
       "286     GP   F   18       U     GT3       T     2     2   at_home   at_home   \n",
       "8       GP   M   15       U     LE3       A     3     2  services     other   \n",
       "\n",
       "     ... internet romantic  famrel  freetime  goout Dalc Walc health absences  \\\n",
       "47   ...      yes       no       4         2      2    1    1      2        4   \n",
       "113  ...      yes       no       3         5      2    1    1      3       10   \n",
       "110  ...      yes       no       5         5      3    1    1      4        6   \n",
       "286  ...      yes       no       4         3      3    1    2      2        5   \n",
       "8    ...      yes       no       4         2      2    1    1      1        0   \n",
       "\n",
       "     G3  \n",
       "47   20  \n",
       "113  19  \n",
       "110  19  \n",
       "286  19  \n",
       "8    19  \n",
       "\n",
       "[5 rows x 31 columns]"
      ]
     },
     "execution_count": 9,
     "metadata": {},
     "output_type": "execute_result"
    }
   ],
   "source": [
    "# первые 5 учеников\n",
    "sorted_data.head(5)"
   ]
  },
  {
   "cell_type": "code",
   "execution_count": 10,
   "metadata": {
    "colab": {
     "base_uri": "https://localhost:8080/",
     "height": 224
    },
    "colab_type": "code",
    "id": "2852DZ34Gpnx",
    "outputId": "4f1729e5-f48f-4174-fa54-0c7e0a390280"
   },
   "outputs": [
    {
     "data": {
      "text/html": [
       "<div>\n",
       "<style scoped>\n",
       "    .dataframe tbody tr th:only-of-type {\n",
       "        vertical-align: middle;\n",
       "    }\n",
       "\n",
       "    .dataframe tbody tr th {\n",
       "        vertical-align: top;\n",
       "    }\n",
       "\n",
       "    .dataframe thead th {\n",
       "        text-align: right;\n",
       "    }\n",
       "</style>\n",
       "<table border=\"1\" class=\"dataframe\">\n",
       "  <thead>\n",
       "    <tr style=\"text-align: right;\">\n",
       "      <th></th>\n",
       "      <th>school</th>\n",
       "      <th>sex</th>\n",
       "      <th>age</th>\n",
       "      <th>address</th>\n",
       "      <th>famsize</th>\n",
       "      <th>Pstatus</th>\n",
       "      <th>Medu</th>\n",
       "      <th>Fedu</th>\n",
       "      <th>Mjob</th>\n",
       "      <th>Fjob</th>\n",
       "      <th>...</th>\n",
       "      <th>internet</th>\n",
       "      <th>romantic</th>\n",
       "      <th>famrel</th>\n",
       "      <th>freetime</th>\n",
       "      <th>goout</th>\n",
       "      <th>Dalc</th>\n",
       "      <th>Walc</th>\n",
       "      <th>health</th>\n",
       "      <th>absences</th>\n",
       "      <th>G3</th>\n",
       "    </tr>\n",
       "  </thead>\n",
       "  <tbody>\n",
       "    <tr>\n",
       "      <th>160</th>\n",
       "      <td>GP</td>\n",
       "      <td>M</td>\n",
       "      <td>17</td>\n",
       "      <td>R</td>\n",
       "      <td>LE3</td>\n",
       "      <td>T</td>\n",
       "      <td>2</td>\n",
       "      <td>1</td>\n",
       "      <td>at_home</td>\n",
       "      <td>other</td>\n",
       "      <td>...</td>\n",
       "      <td>yes</td>\n",
       "      <td>yes</td>\n",
       "      <td>3</td>\n",
       "      <td>3</td>\n",
       "      <td>2</td>\n",
       "      <td>2</td>\n",
       "      <td>2</td>\n",
       "      <td>5</td>\n",
       "      <td>0</td>\n",
       "      <td>0</td>\n",
       "    </tr>\n",
       "    <tr>\n",
       "      <th>162</th>\n",
       "      <td>GP</td>\n",
       "      <td>M</td>\n",
       "      <td>16</td>\n",
       "      <td>U</td>\n",
       "      <td>LE3</td>\n",
       "      <td>T</td>\n",
       "      <td>1</td>\n",
       "      <td>2</td>\n",
       "      <td>other</td>\n",
       "      <td>other</td>\n",
       "      <td>...</td>\n",
       "      <td>no</td>\n",
       "      <td>no</td>\n",
       "      <td>4</td>\n",
       "      <td>4</td>\n",
       "      <td>4</td>\n",
       "      <td>2</td>\n",
       "      <td>4</td>\n",
       "      <td>5</td>\n",
       "      <td>0</td>\n",
       "      <td>0</td>\n",
       "    </tr>\n",
       "    <tr>\n",
       "      <th>168</th>\n",
       "      <td>GP</td>\n",
       "      <td>F</td>\n",
       "      <td>16</td>\n",
       "      <td>U</td>\n",
       "      <td>GT3</td>\n",
       "      <td>T</td>\n",
       "      <td>2</td>\n",
       "      <td>2</td>\n",
       "      <td>other</td>\n",
       "      <td>other</td>\n",
       "      <td>...</td>\n",
       "      <td>yes</td>\n",
       "      <td>no</td>\n",
       "      <td>5</td>\n",
       "      <td>1</td>\n",
       "      <td>5</td>\n",
       "      <td>1</td>\n",
       "      <td>1</td>\n",
       "      <td>4</td>\n",
       "      <td>0</td>\n",
       "      <td>0</td>\n",
       "    </tr>\n",
       "    <tr>\n",
       "      <th>367</th>\n",
       "      <td>MS</td>\n",
       "      <td>F</td>\n",
       "      <td>17</td>\n",
       "      <td>R</td>\n",
       "      <td>GT3</td>\n",
       "      <td>T</td>\n",
       "      <td>1</td>\n",
       "      <td>1</td>\n",
       "      <td>other</td>\n",
       "      <td>services</td>\n",
       "      <td>...</td>\n",
       "      <td>yes</td>\n",
       "      <td>yes</td>\n",
       "      <td>5</td>\n",
       "      <td>2</td>\n",
       "      <td>1</td>\n",
       "      <td>1</td>\n",
       "      <td>2</td>\n",
       "      <td>1</td>\n",
       "      <td>0</td>\n",
       "      <td>0</td>\n",
       "    </tr>\n",
       "    <tr>\n",
       "      <th>150</th>\n",
       "      <td>GP</td>\n",
       "      <td>M</td>\n",
       "      <td>18</td>\n",
       "      <td>U</td>\n",
       "      <td>LE3</td>\n",
       "      <td>T</td>\n",
       "      <td>1</td>\n",
       "      <td>1</td>\n",
       "      <td>other</td>\n",
       "      <td>other</td>\n",
       "      <td>...</td>\n",
       "      <td>yes</td>\n",
       "      <td>yes</td>\n",
       "      <td>2</td>\n",
       "      <td>3</td>\n",
       "      <td>5</td>\n",
       "      <td>2</td>\n",
       "      <td>5</td>\n",
       "      <td>4</td>\n",
       "      <td>0</td>\n",
       "      <td>0</td>\n",
       "    </tr>\n",
       "  </tbody>\n",
       "</table>\n",
       "<p>5 rows × 31 columns</p>\n",
       "</div>"
      ],
      "text/plain": [
       "    school sex  age address famsize Pstatus  Medu  Fedu     Mjob      Fjob  \\\n",
       "160     GP   M   17       R     LE3       T     2     1  at_home     other   \n",
       "162     GP   M   16       U     LE3       T     1     2    other     other   \n",
       "168     GP   F   16       U     GT3       T     2     2    other     other   \n",
       "367     MS   F   17       R     GT3       T     1     1    other  services   \n",
       "150     GP   M   18       U     LE3       T     1     1    other     other   \n",
       "\n",
       "     ... internet romantic  famrel  freetime  goout Dalc Walc health absences  \\\n",
       "160  ...      yes      yes       3         3      2    2    2      5        0   \n",
       "162  ...       no       no       4         4      4    2    4      5        0   \n",
       "168  ...      yes       no       5         1      5    1    1      4        0   \n",
       "367  ...      yes      yes       5         2      1    1    2      1        0   \n",
       "150  ...      yes      yes       2         3      5    2    5      4        0   \n",
       "\n",
       "    G3  \n",
       "160  0  \n",
       "162  0  \n",
       "168  0  \n",
       "367  0  \n",
       "150  0  \n",
       "\n",
       "[5 rows x 31 columns]"
      ]
     },
     "execution_count": 10,
     "metadata": {},
     "output_type": "execute_result"
    }
   ],
   "source": [
    "# последние 5 учеников\n",
    "sorted_data.tail(5)"
   ]
  },
  {
   "cell_type": "markdown",
   "metadata": {
    "colab_type": "text",
    "id": "LOLAtkIW3yYz"
   },
   "source": [
    "### Индексация"
   ]
  },
  {
   "cell_type": "code",
   "execution_count": 11,
   "metadata": {
    "colab": {
     "base_uri": "https://localhost:8080/",
     "height": 561
    },
    "colab_type": "code",
    "id": "I9ETD9OX1Fos",
    "outputId": "b5471c01-d980-4441-bc1e-b7afe954e4f2"
   },
   "outputs": [
    {
     "data": {
      "text/plain": [
       "school             GP\n",
       "sex                 F\n",
       "age                18\n",
       "address             U\n",
       "famsize           GT3\n",
       "Pstatus             A\n",
       "Medu                4\n",
       "Fedu                4\n",
       "Mjob          at_home\n",
       "Fjob          teacher\n",
       "reason         course\n",
       "guardian       mother\n",
       "traveltime          2\n",
       "studytime           2\n",
       "failures            0\n",
       "schoolsup         yes\n",
       "famsup             no\n",
       "paid               no\n",
       "activities         no\n",
       "nursery           yes\n",
       "higher            yes\n",
       "internet           no\n",
       "romantic           no\n",
       "famrel              4\n",
       "freetime            3\n",
       "goout               4\n",
       "Dalc                1\n",
       "Walc                1\n",
       "health              3\n",
       "absences            6\n",
       "G3                  6\n",
       "Name: 0, dtype: object"
      ]
     },
     "execution_count": 11,
     "metadata": {},
     "output_type": "execute_result"
    }
   ],
   "source": [
    "# индексация - строки\n",
    "data.loc[0]\n",
    "# data.loc[:10]"
   ]
  },
  {
   "cell_type": "code",
   "execution_count": 12,
   "metadata": {
    "colab": {
     "base_uri": "https://localhost:8080/",
     "height": 419
    },
    "colab_type": "code",
    "id": "D5rLtD-C1Law",
    "outputId": "31e05077-0d37-4450-e98b-7fec6a4fac4a"
   },
   "outputs": [
    {
     "data": {
      "text/plain": [
       "0       6\n",
       "1       6\n",
       "2      10\n",
       "3      15\n",
       "4      10\n",
       "       ..\n",
       "390     9\n",
       "391    16\n",
       "392     7\n",
       "393    10\n",
       "394     9\n",
       "Name: G3, Length: 395, dtype: int64"
      ]
     },
     "execution_count": 12,
     "metadata": {},
     "output_type": "execute_result"
    }
   ],
   "source": [
    "# индексация - столбцы\n",
    "data['G3']\n",
    "# data[['school', 'address']] # несколько столбцов"
   ]
  },
  {
   "cell_type": "code",
   "execution_count": 18,
   "metadata": {},
   "outputs": [
    {
     "data": {
      "text/plain": [
       "pandas.core.frame.DataFrame"
      ]
     },
     "execution_count": 18,
     "metadata": {},
     "output_type": "execute_result"
    }
   ],
   "source": [
    "type(data[['school', 'address']])"
   ]
  },
  {
   "cell_type": "code",
   "execution_count": 13,
   "metadata": {
    "colab": {
     "base_uri": "https://localhost:8080/",
     "height": 34
    },
    "colab_type": "code",
    "id": "CVlgjrz9HOif",
    "outputId": "a8e0c9ca-5151-476f-b3c4-5d93ec7fbb0e"
   },
   "outputs": [
    {
     "data": {
      "text/plain": [
       "6"
      ]
     },
     "execution_count": 13,
     "metadata": {},
     "output_type": "execute_result"
    }
   ],
   "source": [
    "# и то, и другое\n",
    "data['G3'].loc[0]\n",
    "# data.loc[0]['G3'] # так тоже можно"
   ]
  },
  {
   "cell_type": "code",
   "execution_count": 14,
   "metadata": {
    "colab": {
     "base_uri": "https://localhost:8080/",
     "height": 34
    },
    "colab_type": "code",
    "id": "ZdvuROH618FB",
    "outputId": "1e46e7cb-23e6-4c92-96c9-d36d56781855"
   },
   "outputs": [
    {
     "data": {
      "text/plain": [
       "9.575757575757576"
      ]
     },
     "execution_count": 14,
     "metadata": {},
     "output_type": "execute_result"
    }
   ],
   "source": [
    "# индексация по условию\n",
    "# средняя оценка людей, состоящих в отношениях\n",
    "data[data['romantic'] == 'yes']['G3'].mean()"
   ]
  },
  {
   "cell_type": "code",
   "execution_count": 15,
   "metadata": {
    "colab": {
     "base_uri": "https://localhost:8080/",
     "height": 34
    },
    "colab_type": "code",
    "id": "OjeqMF5G3iNZ",
    "outputId": "98a8fcb8-fe2c-476a-ed31-bc94243fd779"
   },
   "outputs": [
    {
     "data": {
      "text/plain": [
       "10.836501901140684"
      ]
     },
     "execution_count": 15,
     "metadata": {},
     "output_type": "execute_result"
    }
   ],
   "source": [
    "# и не состоящих\n",
    "data[data['romantic'] == 'no']['G3'].mean()"
   ]
  },
  {
   "cell_type": "code",
   "execution_count": 16,
   "metadata": {},
   "outputs": [
    {
     "data": {
      "text/html": [
       "<div>\n",
       "<style scoped>\n",
       "    .dataframe tbody tr th:only-of-type {\n",
       "        vertical-align: middle;\n",
       "    }\n",
       "\n",
       "    .dataframe tbody tr th {\n",
       "        vertical-align: top;\n",
       "    }\n",
       "\n",
       "    .dataframe thead th {\n",
       "        text-align: right;\n",
       "    }\n",
       "</style>\n",
       "<table border=\"1\" class=\"dataframe\">\n",
       "  <thead>\n",
       "    <tr style=\"text-align: right;\">\n",
       "      <th></th>\n",
       "      <th>school</th>\n",
       "      <th>sex</th>\n",
       "      <th>age</th>\n",
       "      <th>address</th>\n",
       "      <th>famsize</th>\n",
       "      <th>Pstatus</th>\n",
       "      <th>Medu</th>\n",
       "      <th>Fedu</th>\n",
       "      <th>Mjob</th>\n",
       "      <th>Fjob</th>\n",
       "      <th>...</th>\n",
       "      <th>internet</th>\n",
       "      <th>romantic</th>\n",
       "      <th>famrel</th>\n",
       "      <th>freetime</th>\n",
       "      <th>goout</th>\n",
       "      <th>Dalc</th>\n",
       "      <th>Walc</th>\n",
       "      <th>health</th>\n",
       "      <th>absences</th>\n",
       "      <th>G3</th>\n",
       "    </tr>\n",
       "  </thead>\n",
       "  <tbody>\n",
       "    <tr>\n",
       "      <th>14</th>\n",
       "      <td>GP</td>\n",
       "      <td>M</td>\n",
       "      <td>15</td>\n",
       "      <td>U</td>\n",
       "      <td>GT3</td>\n",
       "      <td>A</td>\n",
       "      <td>2</td>\n",
       "      <td>2</td>\n",
       "      <td>other</td>\n",
       "      <td>other</td>\n",
       "      <td>...</td>\n",
       "      <td>yes</td>\n",
       "      <td>yes</td>\n",
       "      <td>4</td>\n",
       "      <td>5</td>\n",
       "      <td>2</td>\n",
       "      <td>1</td>\n",
       "      <td>1</td>\n",
       "      <td>3</td>\n",
       "      <td>0</td>\n",
       "      <td>16</td>\n",
       "    </tr>\n",
       "    <tr>\n",
       "      <th>29</th>\n",
       "      <td>GP</td>\n",
       "      <td>M</td>\n",
       "      <td>16</td>\n",
       "      <td>U</td>\n",
       "      <td>GT3</td>\n",
       "      <td>T</td>\n",
       "      <td>4</td>\n",
       "      <td>4</td>\n",
       "      <td>teacher</td>\n",
       "      <td>teacher</td>\n",
       "      <td>...</td>\n",
       "      <td>yes</td>\n",
       "      <td>yes</td>\n",
       "      <td>4</td>\n",
       "      <td>4</td>\n",
       "      <td>5</td>\n",
       "      <td>5</td>\n",
       "      <td>5</td>\n",
       "      <td>5</td>\n",
       "      <td>16</td>\n",
       "      <td>11</td>\n",
       "    </tr>\n",
       "    <tr>\n",
       "      <th>32</th>\n",
       "      <td>GP</td>\n",
       "      <td>M</td>\n",
       "      <td>15</td>\n",
       "      <td>R</td>\n",
       "      <td>GT3</td>\n",
       "      <td>T</td>\n",
       "      <td>4</td>\n",
       "      <td>3</td>\n",
       "      <td>teacher</td>\n",
       "      <td>at_home</td>\n",
       "      <td>...</td>\n",
       "      <td>yes</td>\n",
       "      <td>yes</td>\n",
       "      <td>4</td>\n",
       "      <td>5</td>\n",
       "      <td>2</td>\n",
       "      <td>1</td>\n",
       "      <td>1</td>\n",
       "      <td>5</td>\n",
       "      <td>0</td>\n",
       "      <td>16</td>\n",
       "    </tr>\n",
       "    <tr>\n",
       "      <th>41</th>\n",
       "      <td>GP</td>\n",
       "      <td>M</td>\n",
       "      <td>15</td>\n",
       "      <td>U</td>\n",
       "      <td>LE3</td>\n",
       "      <td>T</td>\n",
       "      <td>4</td>\n",
       "      <td>4</td>\n",
       "      <td>teacher</td>\n",
       "      <td>other</td>\n",
       "      <td>...</td>\n",
       "      <td>yes</td>\n",
       "      <td>yes</td>\n",
       "      <td>5</td>\n",
       "      <td>4</td>\n",
       "      <td>3</td>\n",
       "      <td>2</td>\n",
       "      <td>4</td>\n",
       "      <td>5</td>\n",
       "      <td>8</td>\n",
       "      <td>12</td>\n",
       "    </tr>\n",
       "    <tr>\n",
       "      <th>45</th>\n",
       "      <td>GP</td>\n",
       "      <td>F</td>\n",
       "      <td>15</td>\n",
       "      <td>U</td>\n",
       "      <td>LE3</td>\n",
       "      <td>A</td>\n",
       "      <td>4</td>\n",
       "      <td>3</td>\n",
       "      <td>other</td>\n",
       "      <td>other</td>\n",
       "      <td>...</td>\n",
       "      <td>yes</td>\n",
       "      <td>yes</td>\n",
       "      <td>5</td>\n",
       "      <td>2</td>\n",
       "      <td>2</td>\n",
       "      <td>1</td>\n",
       "      <td>1</td>\n",
       "      <td>5</td>\n",
       "      <td>8</td>\n",
       "      <td>6</td>\n",
       "    </tr>\n",
       "    <tr>\n",
       "      <th>...</th>\n",
       "      <td>...</td>\n",
       "      <td>...</td>\n",
       "      <td>...</td>\n",
       "      <td>...</td>\n",
       "      <td>...</td>\n",
       "      <td>...</td>\n",
       "      <td>...</td>\n",
       "      <td>...</td>\n",
       "      <td>...</td>\n",
       "      <td>...</td>\n",
       "      <td>...</td>\n",
       "      <td>...</td>\n",
       "      <td>...</td>\n",
       "      <td>...</td>\n",
       "      <td>...</td>\n",
       "      <td>...</td>\n",
       "      <td>...</td>\n",
       "      <td>...</td>\n",
       "      <td>...</td>\n",
       "      <td>...</td>\n",
       "      <td>...</td>\n",
       "    </tr>\n",
       "    <tr>\n",
       "      <th>371</th>\n",
       "      <td>MS</td>\n",
       "      <td>M</td>\n",
       "      <td>18</td>\n",
       "      <td>R</td>\n",
       "      <td>LE3</td>\n",
       "      <td>T</td>\n",
       "      <td>1</td>\n",
       "      <td>2</td>\n",
       "      <td>at_home</td>\n",
       "      <td>services</td>\n",
       "      <td>...</td>\n",
       "      <td>yes</td>\n",
       "      <td>yes</td>\n",
       "      <td>4</td>\n",
       "      <td>3</td>\n",
       "      <td>3</td>\n",
       "      <td>2</td>\n",
       "      <td>3</td>\n",
       "      <td>3</td>\n",
       "      <td>3</td>\n",
       "      <td>12</td>\n",
       "    </tr>\n",
       "    <tr>\n",
       "      <th>376</th>\n",
       "      <td>MS</td>\n",
       "      <td>F</td>\n",
       "      <td>20</td>\n",
       "      <td>U</td>\n",
       "      <td>GT3</td>\n",
       "      <td>T</td>\n",
       "      <td>4</td>\n",
       "      <td>2</td>\n",
       "      <td>health</td>\n",
       "      <td>other</td>\n",
       "      <td>...</td>\n",
       "      <td>yes</td>\n",
       "      <td>yes</td>\n",
       "      <td>5</td>\n",
       "      <td>4</td>\n",
       "      <td>3</td>\n",
       "      <td>1</td>\n",
       "      <td>1</td>\n",
       "      <td>3</td>\n",
       "      <td>4</td>\n",
       "      <td>15</td>\n",
       "    </tr>\n",
       "    <tr>\n",
       "      <th>378</th>\n",
       "      <td>MS</td>\n",
       "      <td>F</td>\n",
       "      <td>18</td>\n",
       "      <td>U</td>\n",
       "      <td>GT3</td>\n",
       "      <td>T</td>\n",
       "      <td>3</td>\n",
       "      <td>3</td>\n",
       "      <td>other</td>\n",
       "      <td>other</td>\n",
       "      <td>...</td>\n",
       "      <td>yes</td>\n",
       "      <td>yes</td>\n",
       "      <td>4</td>\n",
       "      <td>1</td>\n",
       "      <td>3</td>\n",
       "      <td>1</td>\n",
       "      <td>2</td>\n",
       "      <td>1</td>\n",
       "      <td>0</td>\n",
       "      <td>15</td>\n",
       "    </tr>\n",
       "    <tr>\n",
       "      <th>381</th>\n",
       "      <td>MS</td>\n",
       "      <td>M</td>\n",
       "      <td>18</td>\n",
       "      <td>R</td>\n",
       "      <td>GT3</td>\n",
       "      <td>T</td>\n",
       "      <td>2</td>\n",
       "      <td>1</td>\n",
       "      <td>other</td>\n",
       "      <td>other</td>\n",
       "      <td>...</td>\n",
       "      <td>yes</td>\n",
       "      <td>yes</td>\n",
       "      <td>4</td>\n",
       "      <td>4</td>\n",
       "      <td>3</td>\n",
       "      <td>1</td>\n",
       "      <td>3</td>\n",
       "      <td>5</td>\n",
       "      <td>5</td>\n",
       "      <td>7</td>\n",
       "    </tr>\n",
       "    <tr>\n",
       "      <th>386</th>\n",
       "      <td>MS</td>\n",
       "      <td>F</td>\n",
       "      <td>18</td>\n",
       "      <td>R</td>\n",
       "      <td>GT3</td>\n",
       "      <td>T</td>\n",
       "      <td>4</td>\n",
       "      <td>4</td>\n",
       "      <td>teacher</td>\n",
       "      <td>at_home</td>\n",
       "      <td>...</td>\n",
       "      <td>yes</td>\n",
       "      <td>yes</td>\n",
       "      <td>4</td>\n",
       "      <td>4</td>\n",
       "      <td>3</td>\n",
       "      <td>2</td>\n",
       "      <td>2</td>\n",
       "      <td>5</td>\n",
       "      <td>7</td>\n",
       "      <td>6</td>\n",
       "    </tr>\n",
       "  </tbody>\n",
       "</table>\n",
       "<p>101 rows × 31 columns</p>\n",
       "</div>"
      ],
      "text/plain": [
       "    school sex  age address famsize Pstatus  Medu  Fedu     Mjob      Fjob  \\\n",
       "14      GP   M   15       U     GT3       A     2     2    other     other   \n",
       "29      GP   M   16       U     GT3       T     4     4  teacher   teacher   \n",
       "32      GP   M   15       R     GT3       T     4     3  teacher   at_home   \n",
       "41      GP   M   15       U     LE3       T     4     4  teacher     other   \n",
       "45      GP   F   15       U     LE3       A     4     3    other     other   \n",
       "..     ...  ..  ...     ...     ...     ...   ...   ...      ...       ...   \n",
       "371     MS   M   18       R     LE3       T     1     2  at_home  services   \n",
       "376     MS   F   20       U     GT3       T     4     2   health     other   \n",
       "378     MS   F   18       U     GT3       T     3     3    other     other   \n",
       "381     MS   M   18       R     GT3       T     2     1    other     other   \n",
       "386     MS   F   18       R     GT3       T     4     4  teacher   at_home   \n",
       "\n",
       "     ... internet romantic  famrel  freetime  goout Dalc Walc health absences  \\\n",
       "14   ...      yes      yes       4         5      2    1    1      3        0   \n",
       "29   ...      yes      yes       4         4      5    5    5      5       16   \n",
       "32   ...      yes      yes       4         5      2    1    1      5        0   \n",
       "41   ...      yes      yes       5         4      3    2    4      5        8   \n",
       "45   ...      yes      yes       5         2      2    1    1      5        8   \n",
       "..   ...      ...      ...     ...       ...    ...  ...  ...    ...      ...   \n",
       "371  ...      yes      yes       4         3      3    2    3      3        3   \n",
       "376  ...      yes      yes       5         4      3    1    1      3        4   \n",
       "378  ...      yes      yes       4         1      3    1    2      1        0   \n",
       "381  ...      yes      yes       4         4      3    1    3      5        5   \n",
       "386  ...      yes      yes       4         4      3    2    2      5        7   \n",
       "\n",
       "     G3  \n",
       "14   16  \n",
       "29   11  \n",
       "32   16  \n",
       "41   12  \n",
       "45    6  \n",
       "..   ..  \n",
       "371  12  \n",
       "376  15  \n",
       "378  15  \n",
       "381   7  \n",
       "386   6  \n",
       "\n",
       "[101 rows x 31 columns]"
      ]
     },
     "execution_count": 16,
     "metadata": {},
     "output_type": "execute_result"
    }
   ],
   "source": [
    "# несколько условий\n",
    "# есть отношения и хорошие отношения в семье\n",
    "data[(data['romantic'] == 'yes') & (data['famrel'] >= 4)]"
   ]
  },
  {
   "cell_type": "code",
   "execution_count": 17,
   "metadata": {},
   "outputs": [
    {
     "data": {
      "text/html": [
       "<div>\n",
       "<style scoped>\n",
       "    .dataframe tbody tr th:only-of-type {\n",
       "        vertical-align: middle;\n",
       "    }\n",
       "\n",
       "    .dataframe tbody tr th {\n",
       "        vertical-align: top;\n",
       "    }\n",
       "\n",
       "    .dataframe thead th {\n",
       "        text-align: right;\n",
       "    }\n",
       "</style>\n",
       "<table border=\"1\" class=\"dataframe\">\n",
       "  <thead>\n",
       "    <tr style=\"text-align: right;\">\n",
       "      <th></th>\n",
       "      <th>school</th>\n",
       "      <th>sex</th>\n",
       "      <th>age</th>\n",
       "      <th>address</th>\n",
       "      <th>famsize</th>\n",
       "      <th>Pstatus</th>\n",
       "      <th>Medu</th>\n",
       "      <th>Fedu</th>\n",
       "      <th>Mjob</th>\n",
       "      <th>Fjob</th>\n",
       "      <th>...</th>\n",
       "      <th>internet</th>\n",
       "      <th>romantic</th>\n",
       "      <th>famrel</th>\n",
       "      <th>freetime</th>\n",
       "      <th>goout</th>\n",
       "      <th>Dalc</th>\n",
       "      <th>Walc</th>\n",
       "      <th>health</th>\n",
       "      <th>absences</th>\n",
       "      <th>G3</th>\n",
       "    </tr>\n",
       "  </thead>\n",
       "  <tbody>\n",
       "    <tr>\n",
       "      <th>0</th>\n",
       "      <td>GP</td>\n",
       "      <td>F</td>\n",
       "      <td>18</td>\n",
       "      <td>U</td>\n",
       "      <td>GT3</td>\n",
       "      <td>A</td>\n",
       "      <td>4</td>\n",
       "      <td>4</td>\n",
       "      <td>at_home</td>\n",
       "      <td>teacher</td>\n",
       "      <td>...</td>\n",
       "      <td>no</td>\n",
       "      <td>no</td>\n",
       "      <td>4</td>\n",
       "      <td>3</td>\n",
       "      <td>4</td>\n",
       "      <td>1</td>\n",
       "      <td>1</td>\n",
       "      <td>3</td>\n",
       "      <td>6</td>\n",
       "      <td>6</td>\n",
       "    </tr>\n",
       "    <tr>\n",
       "      <th>1</th>\n",
       "      <td>GP</td>\n",
       "      <td>F</td>\n",
       "      <td>17</td>\n",
       "      <td>U</td>\n",
       "      <td>GT3</td>\n",
       "      <td>T</td>\n",
       "      <td>1</td>\n",
       "      <td>1</td>\n",
       "      <td>at_home</td>\n",
       "      <td>other</td>\n",
       "      <td>...</td>\n",
       "      <td>yes</td>\n",
       "      <td>no</td>\n",
       "      <td>5</td>\n",
       "      <td>3</td>\n",
       "      <td>3</td>\n",
       "      <td>1</td>\n",
       "      <td>1</td>\n",
       "      <td>3</td>\n",
       "      <td>4</td>\n",
       "      <td>6</td>\n",
       "    </tr>\n",
       "    <tr>\n",
       "      <th>2</th>\n",
       "      <td>GP</td>\n",
       "      <td>F</td>\n",
       "      <td>15</td>\n",
       "      <td>U</td>\n",
       "      <td>LE3</td>\n",
       "      <td>T</td>\n",
       "      <td>1</td>\n",
       "      <td>1</td>\n",
       "      <td>at_home</td>\n",
       "      <td>other</td>\n",
       "      <td>...</td>\n",
       "      <td>yes</td>\n",
       "      <td>no</td>\n",
       "      <td>4</td>\n",
       "      <td>3</td>\n",
       "      <td>2</td>\n",
       "      <td>2</td>\n",
       "      <td>3</td>\n",
       "      <td>3</td>\n",
       "      <td>10</td>\n",
       "      <td>10</td>\n",
       "    </tr>\n",
       "    <tr>\n",
       "      <th>3</th>\n",
       "      <td>GP</td>\n",
       "      <td>F</td>\n",
       "      <td>15</td>\n",
       "      <td>U</td>\n",
       "      <td>GT3</td>\n",
       "      <td>T</td>\n",
       "      <td>4</td>\n",
       "      <td>2</td>\n",
       "      <td>health</td>\n",
       "      <td>services</td>\n",
       "      <td>...</td>\n",
       "      <td>yes</td>\n",
       "      <td>yes</td>\n",
       "      <td>3</td>\n",
       "      <td>2</td>\n",
       "      <td>2</td>\n",
       "      <td>1</td>\n",
       "      <td>1</td>\n",
       "      <td>5</td>\n",
       "      <td>2</td>\n",
       "      <td>15</td>\n",
       "    </tr>\n",
       "    <tr>\n",
       "      <th>4</th>\n",
       "      <td>GP</td>\n",
       "      <td>F</td>\n",
       "      <td>16</td>\n",
       "      <td>U</td>\n",
       "      <td>GT3</td>\n",
       "      <td>T</td>\n",
       "      <td>3</td>\n",
       "      <td>3</td>\n",
       "      <td>other</td>\n",
       "      <td>other</td>\n",
       "      <td>...</td>\n",
       "      <td>no</td>\n",
       "      <td>no</td>\n",
       "      <td>4</td>\n",
       "      <td>3</td>\n",
       "      <td>2</td>\n",
       "      <td>1</td>\n",
       "      <td>2</td>\n",
       "      <td>5</td>\n",
       "      <td>4</td>\n",
       "      <td>10</td>\n",
       "    </tr>\n",
       "    <tr>\n",
       "      <th>...</th>\n",
       "      <td>...</td>\n",
       "      <td>...</td>\n",
       "      <td>...</td>\n",
       "      <td>...</td>\n",
       "      <td>...</td>\n",
       "      <td>...</td>\n",
       "      <td>...</td>\n",
       "      <td>...</td>\n",
       "      <td>...</td>\n",
       "      <td>...</td>\n",
       "      <td>...</td>\n",
       "      <td>...</td>\n",
       "      <td>...</td>\n",
       "      <td>...</td>\n",
       "      <td>...</td>\n",
       "      <td>...</td>\n",
       "      <td>...</td>\n",
       "      <td>...</td>\n",
       "      <td>...</td>\n",
       "      <td>...</td>\n",
       "      <td>...</td>\n",
       "    </tr>\n",
       "    <tr>\n",
       "      <th>387</th>\n",
       "      <td>MS</td>\n",
       "      <td>F</td>\n",
       "      <td>19</td>\n",
       "      <td>R</td>\n",
       "      <td>GT3</td>\n",
       "      <td>T</td>\n",
       "      <td>2</td>\n",
       "      <td>3</td>\n",
       "      <td>services</td>\n",
       "      <td>other</td>\n",
       "      <td>...</td>\n",
       "      <td>yes</td>\n",
       "      <td>no</td>\n",
       "      <td>5</td>\n",
       "      <td>4</td>\n",
       "      <td>2</td>\n",
       "      <td>1</td>\n",
       "      <td>2</td>\n",
       "      <td>5</td>\n",
       "      <td>0</td>\n",
       "      <td>0</td>\n",
       "    </tr>\n",
       "    <tr>\n",
       "      <th>388</th>\n",
       "      <td>MS</td>\n",
       "      <td>F</td>\n",
       "      <td>18</td>\n",
       "      <td>U</td>\n",
       "      <td>LE3</td>\n",
       "      <td>T</td>\n",
       "      <td>3</td>\n",
       "      <td>1</td>\n",
       "      <td>teacher</td>\n",
       "      <td>services</td>\n",
       "      <td>...</td>\n",
       "      <td>yes</td>\n",
       "      <td>no</td>\n",
       "      <td>4</td>\n",
       "      <td>3</td>\n",
       "      <td>4</td>\n",
       "      <td>1</td>\n",
       "      <td>1</td>\n",
       "      <td>1</td>\n",
       "      <td>0</td>\n",
       "      <td>8</td>\n",
       "    </tr>\n",
       "    <tr>\n",
       "      <th>390</th>\n",
       "      <td>MS</td>\n",
       "      <td>M</td>\n",
       "      <td>20</td>\n",
       "      <td>U</td>\n",
       "      <td>LE3</td>\n",
       "      <td>A</td>\n",
       "      <td>2</td>\n",
       "      <td>2</td>\n",
       "      <td>services</td>\n",
       "      <td>services</td>\n",
       "      <td>...</td>\n",
       "      <td>no</td>\n",
       "      <td>no</td>\n",
       "      <td>5</td>\n",
       "      <td>5</td>\n",
       "      <td>4</td>\n",
       "      <td>4</td>\n",
       "      <td>5</td>\n",
       "      <td>4</td>\n",
       "      <td>11</td>\n",
       "      <td>9</td>\n",
       "    </tr>\n",
       "    <tr>\n",
       "      <th>392</th>\n",
       "      <td>MS</td>\n",
       "      <td>M</td>\n",
       "      <td>21</td>\n",
       "      <td>R</td>\n",
       "      <td>GT3</td>\n",
       "      <td>T</td>\n",
       "      <td>1</td>\n",
       "      <td>1</td>\n",
       "      <td>other</td>\n",
       "      <td>other</td>\n",
       "      <td>...</td>\n",
       "      <td>no</td>\n",
       "      <td>no</td>\n",
       "      <td>5</td>\n",
       "      <td>5</td>\n",
       "      <td>3</td>\n",
       "      <td>3</td>\n",
       "      <td>3</td>\n",
       "      <td>3</td>\n",
       "      <td>3</td>\n",
       "      <td>7</td>\n",
       "    </tr>\n",
       "    <tr>\n",
       "      <th>393</th>\n",
       "      <td>MS</td>\n",
       "      <td>M</td>\n",
       "      <td>18</td>\n",
       "      <td>R</td>\n",
       "      <td>LE3</td>\n",
       "      <td>T</td>\n",
       "      <td>3</td>\n",
       "      <td>2</td>\n",
       "      <td>services</td>\n",
       "      <td>other</td>\n",
       "      <td>...</td>\n",
       "      <td>yes</td>\n",
       "      <td>no</td>\n",
       "      <td>4</td>\n",
       "      <td>4</td>\n",
       "      <td>1</td>\n",
       "      <td>3</td>\n",
       "      <td>4</td>\n",
       "      <td>5</td>\n",
       "      <td>0</td>\n",
       "      <td>10</td>\n",
       "    </tr>\n",
       "  </tbody>\n",
       "</table>\n",
       "<p>332 rows × 31 columns</p>\n",
       "</div>"
      ],
      "text/plain": [
       "    school sex  age address famsize Pstatus  Medu  Fedu      Mjob      Fjob  \\\n",
       "0       GP   F   18       U     GT3       A     4     4   at_home   teacher   \n",
       "1       GP   F   17       U     GT3       T     1     1   at_home     other   \n",
       "2       GP   F   15       U     LE3       T     1     1   at_home     other   \n",
       "3       GP   F   15       U     GT3       T     4     2    health  services   \n",
       "4       GP   F   16       U     GT3       T     3     3     other     other   \n",
       "..     ...  ..  ...     ...     ...     ...   ...   ...       ...       ...   \n",
       "387     MS   F   19       R     GT3       T     2     3  services     other   \n",
       "388     MS   F   18       U     LE3       T     3     1   teacher  services   \n",
       "390     MS   M   20       U     LE3       A     2     2  services  services   \n",
       "392     MS   M   21       R     GT3       T     1     1     other     other   \n",
       "393     MS   M   18       R     LE3       T     3     2  services     other   \n",
       "\n",
       "     ... internet romantic  famrel  freetime  goout Dalc Walc health absences  \\\n",
       "0    ...       no       no       4         3      4    1    1      3        6   \n",
       "1    ...      yes       no       5         3      3    1    1      3        4   \n",
       "2    ...      yes       no       4         3      2    2    3      3       10   \n",
       "3    ...      yes      yes       3         2      2    1    1      5        2   \n",
       "4    ...       no       no       4         3      2    1    2      5        4   \n",
       "..   ...      ...      ...     ...       ...    ...  ...  ...    ...      ...   \n",
       "387  ...      yes       no       5         4      2    1    2      5        0   \n",
       "388  ...      yes       no       4         3      4    1    1      1        0   \n",
       "390  ...       no       no       5         5      4    4    5      4       11   \n",
       "392  ...       no       no       5         5      3    3    3      3        3   \n",
       "393  ...      yes       no       4         4      1    3    4      5        0   \n",
       "\n",
       "     G3  \n",
       "0     6  \n",
       "1     6  \n",
       "2    10  \n",
       "3    15  \n",
       "4    10  \n",
       "..   ..  \n",
       "387   0  \n",
       "388   8  \n",
       "390   9  \n",
       "392   7  \n",
       "393  10  \n",
       "\n",
       "[332 rows x 31 columns]"
      ]
     },
     "execution_count": 17,
     "metadata": {},
     "output_type": "execute_result"
    }
   ],
   "source": [
    "# есть отношения или хорошие отношения в семье\n",
    "data[(data['romantic'] == 'yes') | (data['famrel'] >= 4)]"
   ]
  },
  {
   "cell_type": "markdown",
   "metadata": {
    "colab_type": "text",
    "id": "c5HZgTOw2Ixi"
   },
   "source": [
    "### Задание\n",
    "Найти средний возраст тех, кто много пьет (Dalc и Walc >= 4) и тех, кто мало пьёт (Dalc и Walc = 1)\n"
   ]
  },
  {
   "cell_type": "code",
   "execution_count": 25,
   "metadata": {},
   "outputs": [
    {
     "data": {
      "text/plain": [
       "17.1875"
      ]
     },
     "execution_count": 25,
     "metadata": {},
     "output_type": "execute_result"
    }
   ],
   "source": [
    "data[(data['Dalc'] >= 4) & (data['Walc'] >= 4)]['age'].mean()"
   ]
  },
  {
   "cell_type": "code",
   "execution_count": 26,
   "metadata": {},
   "outputs": [
    {
     "data": {
      "text/plain": [
       "16.453333333333333"
      ]
     },
     "execution_count": 26,
     "metadata": {},
     "output_type": "execute_result"
    }
   ],
   "source": [
    "data[(data['Dalc'] == 1) & (data['Walc'] == 1)]['age'].mean()"
   ]
  },
  {
   "cell_type": "markdown",
   "metadata": {
    "colab_type": "text",
    "id": "-44O4OxNae_n"
   },
   "source": [
    "## Типы признаков и их статистические характеристики"
   ]
  },
  {
   "cell_type": "code",
   "execution_count": null,
   "metadata": {
    "colab": {
     "base_uri": "https://localhost:8080/",
     "height": 119
    },
    "colab_type": "code",
    "id": "XGtbRaRr0GfR",
    "outputId": "8a8245dd-96d0-482e-e573-30c93fef9f42"
   },
   "outputs": [],
   "source": [
    "# названия столбцов\n",
    "data.columns"
   ]
  },
  {
   "cell_type": "code",
   "execution_count": null,
   "metadata": {
    "colab": {
     "base_uri": "https://localhost:8080/",
     "height": 629
    },
    "colab_type": "code",
    "id": "y2-m4mv-suQw",
    "outputId": "aee5b4ad-a749-48a1-c6d6-291be3d3bb92"
   },
   "outputs": [],
   "source": [
    "# количестов объектов, названия и типы признаков\n",
    "data.info()"
   ]
  },
  {
   "cell_type": "code",
   "execution_count": null,
   "metadata": {
    "colab": {
     "base_uri": "https://localhost:8080/",
     "height": 297
    },
    "colab_type": "code",
    "id": "Ei_DJcyvinGX",
    "outputId": "302f7fd9-d378-41c5-c5b9-a6793c4a650c"
   },
   "outputs": [],
   "source": [
    "# узнать разные статистические характеристики числовых признаков \n",
    "data.describe()"
   ]
  },
  {
   "cell_type": "markdown",
   "metadata": {},
   "source": [
    "#### Визуализация распределения значений для численных переменных"
   ]
  },
  {
   "cell_type": "code",
   "execution_count": null,
   "metadata": {},
   "outputs": [],
   "source": [
    "# гистограмма\n",
    "data['G3'].plot(kind='hist', figsize=(5, 5))"
   ]
  },
  {
   "cell_type": "code",
   "execution_count": null,
   "metadata": {
    "colab": {
     "base_uri": "https://localhost:8080/",
     "height": 173
    },
    "colab_type": "code",
    "id": "1goKihpPtWhv",
    "outputId": "7be17ec9-562d-4d70-c71b-eb65aeb5ea5c"
   },
   "outputs": [],
   "source": [
    "# то же самое для бинарных и категориальных признаков\n",
    "# в include пишем нужные типы переменных\n",
    "data.describe(include=['object'])"
   ]
  },
  {
   "cell_type": "markdown",
   "metadata": {
    "colab_type": "text",
    "id": "Z9_iBPJ2s8M0"
   },
   "source": [
    "Для категориальных (тип object) и булевых (тип bool) признаков можно воспользоваться методом value_counts."
   ]
  },
  {
   "cell_type": "code",
   "execution_count": null,
   "metadata": {
    "colab": {
     "base_uri": "https://localhost:8080/",
     "height": 119
    },
    "colab_type": "code",
    "id": "uQlt1Jb-uq-r",
    "outputId": "a046fcf6-fd41-44b9-d230-482ecdf5e717"
   },
   "outputs": [],
   "source": [
    "# узнаем какие профессии родителей встречаются чаще всего\n",
    "data['Mjob'].value_counts()"
   ]
  },
  {
   "cell_type": "code",
   "execution_count": null,
   "metadata": {
    "colab": {
     "base_uri": "https://localhost:8080/",
     "height": 119
    },
    "colab_type": "code",
    "id": "Ff4svhj0vfwv",
    "outputId": "7152335e-372d-4813-c335-7898c105b510"
   },
   "outputs": [],
   "source": [
    "# то же самое, но в % соотношении\n",
    "data['Mjob'].value_counts(normalize=True)"
   ]
  },
  {
   "cell_type": "code",
   "execution_count": null,
   "metadata": {
    "colab": {
     "base_uri": "https://localhost:8080/",
     "height": 119
    },
    "colab_type": "code",
    "id": "z61i6WXmvSlg",
    "outputId": "aede92dc-40ed-4595-81d9-89d0ae6016bc"
   },
   "outputs": [],
   "source": [
    "data['Fjob'].value_counts()"
   ]
  },
  {
   "cell_type": "markdown",
   "metadata": {},
   "source": [
    "#### Визуализация распределения значений для категориальных переменных"
   ]
  },
  {
   "cell_type": "code",
   "execution_count": 27,
   "metadata": {},
   "outputs": [
    {
     "data": {
      "text/plain": [
       "<AxesSubplot:>"
      ]
     },
     "execution_count": 27,
     "metadata": {},
     "output_type": "execute_result"
    },
    {
     "data": {
      "image/png": "[encoded data removed]",
      "text/plain": [
       "<Figure size 360x360 with 1 Axes>"
      ]
     },
     "metadata": {
      "needs_background": "light"
     },
     "output_type": "display_data"
    }
   ],
   "source": [
    "# bar plot\n",
    "data['Fjob'].value_counts().plot(kind='bar', figsize=(5,5))"
   ]
  },
  {
   "cell_type": "markdown",
   "metadata": {
    "colab_type": "text",
    "id": "zn5rqAbIhMjK"
   },
   "source": [
    "### Сводные таблицы"
   ]
  },
  {
   "cell_type": "code",
   "execution_count": 28,
   "metadata": {
    "colab": {
     "base_uri": "https://localhost:8080/",
     "height": 0
    },
    "colab_type": "code",
    "id": "cMjq8cnSIKU6",
    "outputId": "128bd2ea-9568-45dd-948d-3a99985932c1"
   },
   "outputs": [
    {
     "data": {
      "text/html": [
       "<div>\n",
       "<style scoped>\n",
       "    .dataframe tbody tr th:only-of-type {\n",
       "        vertical-align: middle;\n",
       "    }\n",
       "\n",
       "    .dataframe tbody tr th {\n",
       "        vertical-align: top;\n",
       "    }\n",
       "\n",
       "    .dataframe thead th {\n",
       "        text-align: right;\n",
       "    }\n",
       "</style>\n",
       "<table border=\"1\" class=\"dataframe\">\n",
       "  <thead>\n",
       "    <tr style=\"text-align: right;\">\n",
       "      <th>romantic</th>\n",
       "      <th>no</th>\n",
       "      <th>yes</th>\n",
       "    </tr>\n",
       "    <tr>\n",
       "      <th>sex</th>\n",
       "      <th></th>\n",
       "      <th></th>\n",
       "    </tr>\n",
       "  </thead>\n",
       "  <tbody>\n",
       "    <tr>\n",
       "      <th>F</th>\n",
       "      <td>0.326582</td>\n",
       "      <td>0.200000</td>\n",
       "    </tr>\n",
       "    <tr>\n",
       "      <th>M</th>\n",
       "      <td>0.339241</td>\n",
       "      <td>0.134177</td>\n",
       "    </tr>\n",
       "  </tbody>\n",
       "</table>\n",
       "</div>"
      ],
      "text/plain": [
       "romantic        no       yes\n",
       "sex                         \n",
       "F         0.326582  0.200000\n",
       "M         0.339241  0.134177"
      ]
     },
     "execution_count": 28,
     "metadata": {},
     "output_type": "execute_result"
    }
   ],
   "source": [
    "# pd.crosstab(data['sex'], data['romantic'])\n",
    "pd.crosstab(data['sex'], data['romantic'], normalize=True)"
   ]
  },
  {
   "cell_type": "code",
   "execution_count": 29,
   "metadata": {
    "colab": {
     "base_uri": "https://localhost:8080/",
     "height": 0
    },
    "colab_type": "code",
    "id": "HVLWU8fAI0ES",
    "outputId": "589bd088-d74d-4229-80c0-2a9f09bc5454"
   },
   "outputs": [
    {
     "data": {
      "text/html": [
       "<div>\n",
       "<style scoped>\n",
       "    .dataframe tbody tr th:only-of-type {\n",
       "        vertical-align: middle;\n",
       "    }\n",
       "\n",
       "    .dataframe tbody tr th {\n",
       "        vertical-align: top;\n",
       "    }\n",
       "\n",
       "    .dataframe thead th {\n",
       "        text-align: right;\n",
       "    }\n",
       "</style>\n",
       "<table border=\"1\" class=\"dataframe\">\n",
       "  <thead>\n",
       "    <tr style=\"text-align: right;\">\n",
       "      <th>sex</th>\n",
       "      <th>F</th>\n",
       "      <th>M</th>\n",
       "    </tr>\n",
       "    <tr>\n",
       "      <th>G3</th>\n",
       "      <th></th>\n",
       "      <th></th>\n",
       "    </tr>\n",
       "  </thead>\n",
       "  <tbody>\n",
       "    <tr>\n",
       "      <th>0</th>\n",
       "      <td>0.328571</td>\n",
       "      <td>0.214286</td>\n",
       "    </tr>\n",
       "    <tr>\n",
       "      <th>4</th>\n",
       "      <td>0.014286</td>\n",
       "      <td>0.000000</td>\n",
       "    </tr>\n",
       "    <tr>\n",
       "      <th>5</th>\n",
       "      <td>0.042857</td>\n",
       "      <td>0.057143</td>\n",
       "    </tr>\n",
       "    <tr>\n",
       "      <th>6</th>\n",
       "      <td>0.185714</td>\n",
       "      <td>0.028571</td>\n",
       "    </tr>\n",
       "    <tr>\n",
       "      <th>7</th>\n",
       "      <td>0.057143</td>\n",
       "      <td>0.071429</td>\n",
       "    </tr>\n",
       "  </tbody>\n",
       "</table>\n",
       "</div>"
      ],
      "text/plain": [
       "sex         F         M\n",
       "G3                     \n",
       "0    0.328571  0.214286\n",
       "4    0.014286  0.000000\n",
       "5    0.042857  0.057143\n",
       "6    0.185714  0.028571\n",
       "7    0.057143  0.071429"
      ]
     },
     "execution_count": 29,
     "metadata": {},
     "output_type": "execute_result"
    }
   ],
   "source": [
    "# сколько мальчиков и девочек среду тех, кто получил худшие оценки\n",
    "worst_grades = data[data['G3'] <= 7]\n",
    "pd.crosstab(worst_grades['G3'], worst_grades['sex'], normalize=True)"
   ]
  },
  {
   "cell_type": "code",
   "execution_count": 32,
   "metadata": {},
   "outputs": [
    {
     "data": {
      "image/png": "[encoded data removed]",
      "text/plain": [
       "<Figure size 360x360 with 2 Axes>"
      ]
     },
     "metadata": {
      "needs_background": "light"
     },
     "output_type": "display_data"
    }
   ],
   "source": [
    "# то же самое в виде очень красивого и очень разноцветного графика\n",
    "\n",
    "table = pd.crosstab(data['G3'], data['age'])\n",
    "\n",
    "plt.figure(figsize=(5, 5)) # регулируем размер графика\n",
    "\n",
    "sns.heatmap(table, # таблица\n",
    "            xticklabels=table.columns, # названия столбцов\n",
    "            yticklabels=table.index, # названия колонок\n",
    "           annot=True) # подписать значения на цветных квадратиках\n",
    "           \n",
    "# добавляем название\n",
    "plt.title('Оценки и возраст', fontsize=12)\n",
    "\n",
    "# делаем шрифт побольше\n",
    "plt.xticks(fontsize=12)\n",
    "plt.yticks(fontsize=12)\n",
    "plt.show()"
   ]
  },
  {
   "cell_type": "markdown",
   "metadata": {
    "colab_type": "text",
    "id": "kVgkSRUzbTtp"
   },
   "source": [
    "### **Вопросы**\n",
    "+ Какой % учеников ни разу не пропускал занятия?\n",
    "+ Какой % учеников проваливал экзамены хотя бы один раз?\n",
    "+ Есть ли сильно пьющие ученики (Dalc или Walc 4 и больше) с очень высокими оценками (G3 >= 18)? Какая самая высокая оценка среди сильно пьющих учеников?\n",
    "+ Есть ли состоящие в отношениях ученики с высокими оценками (G3 >= 18)? Какая самая высокая оценка среди учеников, состоящих в отношених?\n",
    "+ Правда ли, что большинство людей с высшим баллом (G3 >= 18) пьют мало/не пьют (Dalc и Walc = 1)?"
   ]
  },
  {
   "cell_type": "code",
   "execution_count": 35,
   "metadata": {},
   "outputs": [
    {
     "data": {
      "text/plain": [
       "0.2911392405063291"
      ]
     },
     "execution_count": 35,
     "metadata": {},
     "output_type": "execute_result"
    }
   ],
   "source": [
    "data['absences'].value_counts(normalize=True)[0]"
   ]
  },
  {
   "cell_type": "code",
   "execution_count": 38,
   "metadata": {},
   "outputs": [
    {
     "data": {
      "text/plain": [
       "0.21012658227848102"
      ]
     },
     "execution_count": 38,
     "metadata": {},
     "output_type": "execute_result"
    }
   ],
   "source": [
    "1 - data['failures'].value_counts(normalize=True)[0]"
   ]
  },
  {
   "cell_type": "code",
   "execution_count": 39,
   "metadata": {},
   "outputs": [
    {
     "data": {
      "text/html": [
       "<div>\n",
       "<style scoped>\n",
       "    .dataframe tbody tr th:only-of-type {\n",
       "        vertical-align: middle;\n",
       "    }\n",
       "\n",
       "    .dataframe tbody tr th {\n",
       "        vertical-align: top;\n",
       "    }\n",
       "\n",
       "    .dataframe thead th {\n",
       "        text-align: right;\n",
       "    }\n",
       "</style>\n",
       "<table border=\"1\" class=\"dataframe\">\n",
       "  <thead>\n",
       "    <tr style=\"text-align: right;\">\n",
       "      <th></th>\n",
       "      <th>school</th>\n",
       "      <th>sex</th>\n",
       "      <th>age</th>\n",
       "      <th>address</th>\n",
       "      <th>famsize</th>\n",
       "      <th>Pstatus</th>\n",
       "      <th>Medu</th>\n",
       "      <th>Fedu</th>\n",
       "      <th>Mjob</th>\n",
       "      <th>Fjob</th>\n",
       "      <th>...</th>\n",
       "      <th>internet</th>\n",
       "      <th>romantic</th>\n",
       "      <th>famrel</th>\n",
       "      <th>freetime</th>\n",
       "      <th>goout</th>\n",
       "      <th>Dalc</th>\n",
       "      <th>Walc</th>\n",
       "      <th>health</th>\n",
       "      <th>absences</th>\n",
       "      <th>G3</th>\n",
       "    </tr>\n",
       "  </thead>\n",
       "  <tbody>\n",
       "  </tbody>\n",
       "</table>\n",
       "<p>0 rows × 31 columns</p>\n",
       "</div>"
      ],
      "text/plain": [
       "Empty DataFrame\n",
       "Columns: [school, sex, age, address, famsize, Pstatus, Medu, Fedu, Mjob, Fjob, reason, guardian, traveltime, studytime, failures, schoolsup, famsup, paid, activities, nursery, higher, internet, romantic, famrel, freetime, goout, Dalc, Walc, health, absences, G3]\n",
       "Index: []\n",
       "\n",
       "[0 rows x 31 columns]"
      ]
     },
     "execution_count": 39,
     "metadata": {},
     "output_type": "execute_result"
    }
   ],
   "source": [
    "data[(data['Dalc'] >= 4) & (data['Walc'] >= 4) & (data['G3'] >= 18)]"
   ]
  },
  {
   "cell_type": "code",
   "execution_count": 40,
   "metadata": {},
   "outputs": [
    {
     "data": {
      "text/plain": [
       "13"
      ]
     },
     "execution_count": 40,
     "metadata": {},
     "output_type": "execute_result"
    }
   ],
   "source": [
    "data[(data['Dalc'] >= 4) & (data['Walc'] >= 4)]['G3'].max()"
   ]
  },
  {
   "cell_type": "code",
   "execution_count": 41,
   "metadata": {},
   "outputs": [
    {
     "data": {
      "text/html": [
       "<div>\n",
       "<style scoped>\n",
       "    .dataframe tbody tr th:only-of-type {\n",
       "        vertical-align: middle;\n",
       "    }\n",
       "\n",
       "    .dataframe tbody tr th {\n",
       "        vertical-align: top;\n",
       "    }\n",
       "\n",
       "    .dataframe thead th {\n",
       "        text-align: right;\n",
       "    }\n",
       "</style>\n",
       "<table border=\"1\" class=\"dataframe\">\n",
       "  <thead>\n",
       "    <tr style=\"text-align: right;\">\n",
       "      <th></th>\n",
       "      <th>school</th>\n",
       "      <th>sex</th>\n",
       "      <th>age</th>\n",
       "      <th>address</th>\n",
       "      <th>famsize</th>\n",
       "      <th>Pstatus</th>\n",
       "      <th>Medu</th>\n",
       "      <th>Fedu</th>\n",
       "      <th>Mjob</th>\n",
       "      <th>Fjob</th>\n",
       "      <th>...</th>\n",
       "      <th>internet</th>\n",
       "      <th>romantic</th>\n",
       "      <th>famrel</th>\n",
       "      <th>freetime</th>\n",
       "      <th>goout</th>\n",
       "      <th>Dalc</th>\n",
       "      <th>Walc</th>\n",
       "      <th>health</th>\n",
       "      <th>absences</th>\n",
       "      <th>G3</th>\n",
       "    </tr>\n",
       "  </thead>\n",
       "  <tbody>\n",
       "    <tr>\n",
       "      <th>260</th>\n",
       "      <td>GP</td>\n",
       "      <td>F</td>\n",
       "      <td>18</td>\n",
       "      <td>U</td>\n",
       "      <td>GT3</td>\n",
       "      <td>T</td>\n",
       "      <td>4</td>\n",
       "      <td>3</td>\n",
       "      <td>services</td>\n",
       "      <td>other</td>\n",
       "      <td>...</td>\n",
       "      <td>yes</td>\n",
       "      <td>yes</td>\n",
       "      <td>3</td>\n",
       "      <td>1</td>\n",
       "      <td>2</td>\n",
       "      <td>1</td>\n",
       "      <td>3</td>\n",
       "      <td>2</td>\n",
       "      <td>21</td>\n",
       "      <td>18</td>\n",
       "    </tr>\n",
       "  </tbody>\n",
       "</table>\n",
       "<p>1 rows × 31 columns</p>\n",
       "</div>"
      ],
      "text/plain": [
       "    school sex  age address famsize Pstatus  Medu  Fedu      Mjob   Fjob  ...  \\\n",
       "260     GP   F   18       U     GT3       T     4     3  services  other  ...   \n",
       "\n",
       "    internet romantic  famrel  freetime  goout Dalc Walc health absences  G3  \n",
       "260      yes      yes       3         1      2    1    3      2       21  18  \n",
       "\n",
       "[1 rows x 31 columns]"
      ]
     },
     "execution_count": 41,
     "metadata": {},
     "output_type": "execute_result"
    }
   ],
   "source": [
    "data[(data['romantic'] == 'yes') & (data['G3'] >= 18)]"
   ]
  },
  {
   "cell_type": "code",
   "execution_count": 43,
   "metadata": {},
   "outputs": [
    {
     "data": {
      "text/plain": [
       "18"
      ]
     },
     "execution_count": 43,
     "metadata": {},
     "output_type": "execute_result"
    }
   ],
   "source": [
    "data[(data['romantic'] == 'yes')]['G3'].max()"
   ]
  },
  {
   "cell_type": "code",
   "execution_count": 45,
   "metadata": {},
   "outputs": [
    {
     "data": {
      "text/html": [
       "<div>\n",
       "<style scoped>\n",
       "    .dataframe tbody tr th:only-of-type {\n",
       "        vertical-align: middle;\n",
       "    }\n",
       "\n",
       "    .dataframe tbody tr th {\n",
       "        vertical-align: top;\n",
       "    }\n",
       "\n",
       "    .dataframe thead th {\n",
       "        text-align: right;\n",
       "    }\n",
       "</style>\n",
       "<table border=\"1\" class=\"dataframe\">\n",
       "  <thead>\n",
       "    <tr style=\"text-align: right;\">\n",
       "      <th>Walc</th>\n",
       "      <th>1</th>\n",
       "      <th>2</th>\n",
       "      <th>3</th>\n",
       "      <th>5</th>\n",
       "    </tr>\n",
       "    <tr>\n",
       "      <th>Dalc</th>\n",
       "      <th></th>\n",
       "      <th></th>\n",
       "      <th></th>\n",
       "      <th></th>\n",
       "    </tr>\n",
       "  </thead>\n",
       "  <tbody>\n",
       "    <tr>\n",
       "      <th>1</th>\n",
       "      <td>0.666667</td>\n",
       "      <td>0.111111</td>\n",
       "      <td>0.111111</td>\n",
       "      <td>0.000000</td>\n",
       "    </tr>\n",
       "    <tr>\n",
       "      <th>2</th>\n",
       "      <td>0.000000</td>\n",
       "      <td>0.000000</td>\n",
       "      <td>0.055556</td>\n",
       "      <td>0.055556</td>\n",
       "    </tr>\n",
       "  </tbody>\n",
       "</table>\n",
       "</div>"
      ],
      "text/plain": [
       "Walc         1         2         3         5\n",
       "Dalc                                        \n",
       "1     0.666667  0.111111  0.111111  0.000000\n",
       "2     0.000000  0.000000  0.055556  0.055556"
      ]
     },
     "execution_count": 45,
     "metadata": {},
     "output_type": "execute_result"
    }
   ],
   "source": [
    "pd.crosstab(data[data['G3'] >= 18]['Dalc'], data[data['G3'] >= 18]['Walc'], normalize=True)"
   ]
  },
  {
   "cell_type": "code",
   "execution_count": 74,
   "metadata": {},
   "outputs": [
    {
     "data": {
      "text/plain": [
       "Dalc  Walc\n",
       "1     1       12\n",
       "      2        2\n",
       "      3        2\n",
       "2     3        1\n",
       "      5        1\n",
       "dtype: int64"
      ]
     },
     "execution_count": 74,
     "metadata": {},
     "output_type": "execute_result"
    }
   ],
   "source": [
    "data[data['G3'] >= 18].groupby(['Dalc', 'Walc']).size()"
   ]
  },
  {
   "cell_type": "markdown",
   "metadata": {
    "colab_type": "text",
    "id": "GIe1YkNpbFGc"
   },
   "source": [
    "## Корреляции"
   ]
  },
  {
   "cell_type": "code",
   "execution_count": 72,
   "metadata": {
    "colab": {
     "base_uri": "https://localhost:8080/",
     "height": 483
    },
    "colab_type": "code",
    "id": "-lbqpgSVvwbi",
    "outputId": "e6ac595b-6f72-45eb-f6a7-331a737f565f"
   },
   "outputs": [
    {
     "data": {
      "text/html": [
       "<div>\n",
       "<style scoped>\n",
       "    .dataframe tbody tr th:only-of-type {\n",
       "        vertical-align: middle;\n",
       "    }\n",
       "\n",
       "    .dataframe tbody tr th {\n",
       "        vertical-align: top;\n",
       "    }\n",
       "\n",
       "    .dataframe thead th {\n",
       "        text-align: right;\n",
       "    }\n",
       "</style>\n",
       "<table border=\"1\" class=\"dataframe\">\n",
       "  <thead>\n",
       "    <tr style=\"text-align: right;\">\n",
       "      <th></th>\n",
       "      <th>age</th>\n",
       "      <th>Medu</th>\n",
       "      <th>Fedu</th>\n",
       "      <th>traveltime</th>\n",
       "      <th>studytime</th>\n",
       "      <th>failures</th>\n",
       "      <th>famrel</th>\n",
       "      <th>freetime</th>\n",
       "      <th>goout</th>\n",
       "      <th>Dalc</th>\n",
       "      <th>Walc</th>\n",
       "      <th>health</th>\n",
       "      <th>absences</th>\n",
       "      <th>G3</th>\n",
       "    </tr>\n",
       "  </thead>\n",
       "  <tbody>\n",
       "    <tr>\n",
       "      <th>age</th>\n",
       "      <td>1.000000</td>\n",
       "      <td>-0.163658</td>\n",
       "      <td>-0.163438</td>\n",
       "      <td>0.070641</td>\n",
       "      <td>-0.004140</td>\n",
       "      <td>0.243665</td>\n",
       "      <td>0.053940</td>\n",
       "      <td>0.016434</td>\n",
       "      <td>0.126964</td>\n",
       "      <td>0.131125</td>\n",
       "      <td>0.117276</td>\n",
       "      <td>-0.062187</td>\n",
       "      <td>0.175230</td>\n",
       "      <td>-0.161579</td>\n",
       "    </tr>\n",
       "    <tr>\n",
       "      <th>Medu</th>\n",
       "      <td>-0.163658</td>\n",
       "      <td>1.000000</td>\n",
       "      <td>0.623455</td>\n",
       "      <td>-0.171639</td>\n",
       "      <td>0.064944</td>\n",
       "      <td>-0.236680</td>\n",
       "      <td>-0.003914</td>\n",
       "      <td>0.030891</td>\n",
       "      <td>0.064094</td>\n",
       "      <td>0.019834</td>\n",
       "      <td>-0.047123</td>\n",
       "      <td>-0.046878</td>\n",
       "      <td>0.100285</td>\n",
       "      <td>0.217147</td>\n",
       "    </tr>\n",
       "    <tr>\n",
       "      <th>Fedu</th>\n",
       "      <td>-0.163438</td>\n",
       "      <td>0.623455</td>\n",
       "      <td>1.000000</td>\n",
       "      <td>-0.158194</td>\n",
       "      <td>-0.009175</td>\n",
       "      <td>-0.250408</td>\n",
       "      <td>-0.001370</td>\n",
       "      <td>-0.012846</td>\n",
       "      <td>0.043105</td>\n",
       "      <td>0.002386</td>\n",
       "      <td>-0.012631</td>\n",
       "      <td>0.014742</td>\n",
       "      <td>0.024473</td>\n",
       "      <td>0.152457</td>\n",
       "    </tr>\n",
       "    <tr>\n",
       "      <th>traveltime</th>\n",
       "      <td>0.070641</td>\n",
       "      <td>-0.171639</td>\n",
       "      <td>-0.158194</td>\n",
       "      <td>1.000000</td>\n",
       "      <td>-0.100909</td>\n",
       "      <td>0.092239</td>\n",
       "      <td>-0.016808</td>\n",
       "      <td>-0.017025</td>\n",
       "      <td>0.028540</td>\n",
       "      <td>0.138325</td>\n",
       "      <td>0.134116</td>\n",
       "      <td>0.007501</td>\n",
       "      <td>-0.012944</td>\n",
       "      <td>-0.117142</td>\n",
       "    </tr>\n",
       "    <tr>\n",
       "      <th>studytime</th>\n",
       "      <td>-0.004140</td>\n",
       "      <td>0.064944</td>\n",
       "      <td>-0.009175</td>\n",
       "      <td>-0.100909</td>\n",
       "      <td>1.000000</td>\n",
       "      <td>-0.173563</td>\n",
       "      <td>0.039731</td>\n",
       "      <td>-0.143198</td>\n",
       "      <td>-0.063904</td>\n",
       "      <td>-0.196019</td>\n",
       "      <td>-0.253785</td>\n",
       "      <td>-0.075616</td>\n",
       "      <td>-0.062700</td>\n",
       "      <td>0.097820</td>\n",
       "    </tr>\n",
       "    <tr>\n",
       "      <th>failures</th>\n",
       "      <td>0.243665</td>\n",
       "      <td>-0.236680</td>\n",
       "      <td>-0.250408</td>\n",
       "      <td>0.092239</td>\n",
       "      <td>-0.173563</td>\n",
       "      <td>1.000000</td>\n",
       "      <td>-0.044337</td>\n",
       "      <td>0.091987</td>\n",
       "      <td>0.124561</td>\n",
       "      <td>0.136047</td>\n",
       "      <td>0.141962</td>\n",
       "      <td>0.065827</td>\n",
       "      <td>0.063726</td>\n",
       "      <td>-0.360415</td>\n",
       "    </tr>\n",
       "    <tr>\n",
       "      <th>famrel</th>\n",
       "      <td>0.053940</td>\n",
       "      <td>-0.003914</td>\n",
       "      <td>-0.001370</td>\n",
       "      <td>-0.016808</td>\n",
       "      <td>0.039731</td>\n",
       "      <td>-0.044337</td>\n",
       "      <td>1.000000</td>\n",
       "      <td>0.150701</td>\n",
       "      <td>0.064568</td>\n",
       "      <td>-0.077594</td>\n",
       "      <td>-0.113397</td>\n",
       "      <td>0.094056</td>\n",
       "      <td>-0.044354</td>\n",
       "      <td>0.051363</td>\n",
       "    </tr>\n",
       "    <tr>\n",
       "      <th>freetime</th>\n",
       "      <td>0.016434</td>\n",
       "      <td>0.030891</td>\n",
       "      <td>-0.012846</td>\n",
       "      <td>-0.017025</td>\n",
       "      <td>-0.143198</td>\n",
       "      <td>0.091987</td>\n",
       "      <td>0.150701</td>\n",
       "      <td>1.000000</td>\n",
       "      <td>0.285019</td>\n",
       "      <td>0.209001</td>\n",
       "      <td>0.147822</td>\n",
       "      <td>0.075733</td>\n",
       "      <td>-0.058078</td>\n",
       "      <td>0.011307</td>\n",
       "    </tr>\n",
       "    <tr>\n",
       "      <th>goout</th>\n",
       "      <td>0.126964</td>\n",
       "      <td>0.064094</td>\n",
       "      <td>0.043105</td>\n",
       "      <td>0.028540</td>\n",
       "      <td>-0.063904</td>\n",
       "      <td>0.124561</td>\n",
       "      <td>0.064568</td>\n",
       "      <td>0.285019</td>\n",
       "      <td>1.000000</td>\n",
       "      <td>0.266994</td>\n",
       "      <td>0.420386</td>\n",
       "      <td>-0.009577</td>\n",
       "      <td>0.044302</td>\n",
       "      <td>-0.132791</td>\n",
       "    </tr>\n",
       "    <tr>\n",
       "      <th>Dalc</th>\n",
       "      <td>0.131125</td>\n",
       "      <td>0.019834</td>\n",
       "      <td>0.002386</td>\n",
       "      <td>0.138325</td>\n",
       "      <td>-0.196019</td>\n",
       "      <td>0.136047</td>\n",
       "      <td>-0.077594</td>\n",
       "      <td>0.209001</td>\n",
       "      <td>0.266994</td>\n",
       "      <td>1.000000</td>\n",
       "      <td>0.647544</td>\n",
       "      <td>0.077180</td>\n",
       "      <td>0.111908</td>\n",
       "      <td>-0.054660</td>\n",
       "    </tr>\n",
       "    <tr>\n",
       "      <th>Walc</th>\n",
       "      <td>0.117276</td>\n",
       "      <td>-0.047123</td>\n",
       "      <td>-0.012631</td>\n",
       "      <td>0.134116</td>\n",
       "      <td>-0.253785</td>\n",
       "      <td>0.141962</td>\n",
       "      <td>-0.113397</td>\n",
       "      <td>0.147822</td>\n",
       "      <td>0.420386</td>\n",
       "      <td>0.647544</td>\n",
       "      <td>1.000000</td>\n",
       "      <td>0.092476</td>\n",
       "      <td>0.136291</td>\n",
       "      <td>-0.051939</td>\n",
       "    </tr>\n",
       "    <tr>\n",
       "      <th>health</th>\n",
       "      <td>-0.062187</td>\n",
       "      <td>-0.046878</td>\n",
       "      <td>0.014742</td>\n",
       "      <td>0.007501</td>\n",
       "      <td>-0.075616</td>\n",
       "      <td>0.065827</td>\n",
       "      <td>0.094056</td>\n",
       "      <td>0.075733</td>\n",
       "      <td>-0.009577</td>\n",
       "      <td>0.077180</td>\n",
       "      <td>0.092476</td>\n",
       "      <td>1.000000</td>\n",
       "      <td>-0.029937</td>\n",
       "      <td>-0.061335</td>\n",
       "    </tr>\n",
       "    <tr>\n",
       "      <th>absences</th>\n",
       "      <td>0.175230</td>\n",
       "      <td>0.100285</td>\n",
       "      <td>0.024473</td>\n",
       "      <td>-0.012944</td>\n",
       "      <td>-0.062700</td>\n",
       "      <td>0.063726</td>\n",
       "      <td>-0.044354</td>\n",
       "      <td>-0.058078</td>\n",
       "      <td>0.044302</td>\n",
       "      <td>0.111908</td>\n",
       "      <td>0.136291</td>\n",
       "      <td>-0.029937</td>\n",
       "      <td>1.000000</td>\n",
       "      <td>0.034247</td>\n",
       "    </tr>\n",
       "    <tr>\n",
       "      <th>G3</th>\n",
       "      <td>-0.161579</td>\n",
       "      <td>0.217147</td>\n",
       "      <td>0.152457</td>\n",
       "      <td>-0.117142</td>\n",
       "      <td>0.097820</td>\n",
       "      <td>-0.360415</td>\n",
       "      <td>0.051363</td>\n",
       "      <td>0.011307</td>\n",
       "      <td>-0.132791</td>\n",
       "      <td>-0.054660</td>\n",
       "      <td>-0.051939</td>\n",
       "      <td>-0.061335</td>\n",
       "      <td>0.034247</td>\n",
       "      <td>1.000000</td>\n",
       "    </tr>\n",
       "  </tbody>\n",
       "</table>\n",
       "</div>"
      ],
      "text/plain": [
       "                 age      Medu      Fedu  traveltime  studytime  failures  \\\n",
       "age         1.000000 -0.163658 -0.163438    0.070641  -0.004140  0.243665   \n",
       "Medu       -0.163658  1.000000  0.623455   -0.171639   0.064944 -0.236680   \n",
       "Fedu       -0.163438  0.623455  1.000000   -0.158194  -0.009175 -0.250408   \n",
       "traveltime  0.070641 -0.171639 -0.158194    1.000000  -0.100909  0.092239   \n",
       "studytime  -0.004140  0.064944 -0.009175   -0.100909   1.000000 -0.173563   \n",
       "failures    0.243665 -0.236680 -0.250408    0.092239  -0.173563  1.000000   \n",
       "famrel      0.053940 -0.003914 -0.001370   -0.016808   0.039731 -0.044337   \n",
       "freetime    0.016434  0.030891 -0.012846   -0.017025  -0.143198  0.091987   \n",
       "goout       0.126964  0.064094  0.043105    0.028540  -0.063904  0.124561   \n",
       "Dalc        0.131125  0.019834  0.002386    0.138325  -0.196019  0.136047   \n",
       "Walc        0.117276 -0.047123 -0.012631    0.134116  -0.253785  0.141962   \n",
       "health     -0.062187 -0.046878  0.014742    0.007501  -0.075616  0.065827   \n",
       "absences    0.175230  0.100285  0.024473   -0.012944  -0.062700  0.063726   \n",
       "G3         -0.161579  0.217147  0.152457   -0.117142   0.097820 -0.360415   \n",
       "\n",
       "              famrel  freetime     goout      Dalc      Walc    health  \\\n",
       "age         0.053940  0.016434  0.126964  0.131125  0.117276 -0.062187   \n",
       "Medu       -0.003914  0.030891  0.064094  0.019834 -0.047123 -0.046878   \n",
       "Fedu       -0.001370 -0.012846  0.043105  0.002386 -0.012631  0.014742   \n",
       "traveltime -0.016808 -0.017025  0.028540  0.138325  0.134116  0.007501   \n",
       "studytime   0.039731 -0.143198 -0.063904 -0.196019 -0.253785 -0.075616   \n",
       "failures   -0.044337  0.091987  0.124561  0.136047  0.141962  0.065827   \n",
       "famrel      1.000000  0.150701  0.064568 -0.077594 -0.113397  0.094056   \n",
       "freetime    0.150701  1.000000  0.285019  0.209001  0.147822  0.075733   \n",
       "goout       0.064568  0.285019  1.000000  0.266994  0.420386 -0.009577   \n",
       "Dalc       -0.077594  0.209001  0.266994  1.000000  0.647544  0.077180   \n",
       "Walc       -0.113397  0.147822  0.420386  0.647544  1.000000  0.092476   \n",
       "health      0.094056  0.075733 -0.009577  0.077180  0.092476  1.000000   \n",
       "absences   -0.044354 -0.058078  0.044302  0.111908  0.136291 -0.029937   \n",
       "G3          0.051363  0.011307 -0.132791 -0.054660 -0.051939 -0.061335   \n",
       "\n",
       "            absences        G3  \n",
       "age         0.175230 -0.161579  \n",
       "Medu        0.100285  0.217147  \n",
       "Fedu        0.024473  0.152457  \n",
       "traveltime -0.012944 -0.117142  \n",
       "studytime  -0.062700  0.097820  \n",
       "failures    0.063726 -0.360415  \n",
       "famrel     -0.044354  0.051363  \n",
       "freetime   -0.058078  0.011307  \n",
       "goout       0.044302 -0.132791  \n",
       "Dalc        0.111908 -0.054660  \n",
       "Walc        0.136291 -0.051939  \n",
       "health     -0.029937 -0.061335  \n",
       "absences    1.000000  0.034247  \n",
       "G3          0.034247  1.000000  "
      ]
     },
     "execution_count": 72,
     "metadata": {},
     "output_type": "execute_result"
    }
   ],
   "source": [
    "# корреляция между признаками (только количественные)\n",
    "data.corr()\n",
    "# data.corr().abs() # абсолютные значения"
   ]
  },
  {
   "cell_type": "markdown",
   "metadata": {},
   "source": [
    "**Задание** - нарисовать таблицу корреляции в виде очень красивого и очень разноцветного графика с подписями"
   ]
  },
  {
   "cell_type": "code",
   "execution_count": 81,
   "metadata": {},
   "outputs": [
    {
     "data": {
      "text/plain": [
       "<AxesSubplot:>"
      ]
     },
     "execution_count": 81,
     "metadata": {},
     "output_type": "execute_result"
    },
    {
     "data": {
      "image/png": "[encoded data removed]",
      "text/plain": [
       "<Figure size 432x288 with 2 Axes>"
      ]
     },
     "metadata": {
      "needs_background": "light"
     },
     "output_type": "display_data"
    }
   ],
   "source": [
    "# то же самое в виде очень красивого и очень разноцветного графика\n",
    "sns.heatmap(data.corr())"
   ]
  },
  {
   "cell_type": "markdown",
   "metadata": {},
   "source": [
    "+ https://matplotlib.org/stable/tutorials/colors/colormaps.html\n",
    "+ https://matplotlib.org/stable/gallery/color/colormap_reference.html"
   ]
  },
  {
   "cell_type": "code",
   "execution_count": null,
   "metadata": {
    "colab": {
     "base_uri": "https://localhost:8080/",
     "height": 272
    },
    "colab_type": "code",
    "id": "uy_Z67g-SeXR",
    "outputId": "c6a95e9a-40f7-41fa-afc1-dc1dcab1d9d8",
    "scrolled": true
   },
   "outputs": [],
   "source": [
    "# признаки, больше всего коррелирующие с целевой переменной (G3)\n",
    "data.corr().abs()['G3'].sort_values(ascending=False)"
   ]
  },
  {
   "cell_type": "markdown",
   "metadata": {
    "colab_type": "text",
    "id": "YenCSjzRWuLy"
   },
   "source": [
    "### Вопросы\n",
    "+ Те, кто много пьёт, учатся хуже?\n",
    "+ Учащиеся, которые живут дальше от школы чаще отстутствуют? \n",
    "+ Те у кого здоровье хуже чаще отстутвуют?"
   ]
  },
  {
   "cell_type": "markdown",
   "metadata": {
    "colab_type": "text",
    "heading_collapsed": true,
    "id": "8lFdlBBKdlcv"
   },
   "source": [
    "### Задание - на дом\n",
    "Написать функцию, которая выведет топ n пар признаков с самым высоким абсолютным коэффициентом корреляции"
   ]
  },
  {
   "cell_type": "code",
   "execution_count": null,
   "metadata": {
    "colab": {
     "base_uri": "https://localhost:8080/",
     "height": 0
    },
    "colab_type": "code",
    "hidden": true,
    "id": "3cPUKWbVgHId",
    "outputId": "cb4fa833-aef0-4fa3-c416-3f49eee504ef"
   },
   "outputs": [],
   "source": [
    "data.corr().unstack()"
   ]
  },
  {
   "cell_type": "code",
   "execution_count": null,
   "metadata": {
    "colab": {},
    "colab_type": "code",
    "hidden": true,
    "id": "XPFgX5c0eCXJ"
   },
   "outputs": [],
   "source": [
    "def get_top_n_abs_corr(data, n=5):\n",
    "    pass"
   ]
  },
  {
   "cell_type": "markdown",
   "metadata": {},
   "source": [
    "## Визуализации по итогам обучения модели"
   ]
  },
  {
   "cell_type": "code",
   "execution_count": null,
   "metadata": {},
   "outputs": [],
   "source": [
    "target = data['G3']\n",
    "data = data.drop(columns=['G3'])"
   ]
  },
  {
   "cell_type": "markdown",
   "metadata": {},
   "source": [
    "Преобразуем не числовые признаки в компьютерочитаемый вид:"
   ]
  },
  {
   "cell_type": "markdown",
   "metadata": {},
   "source": [
    "**Бинарные кодируем в 0 и 1:**"
   ]
  },
  {
   "cell_type": "code",
   "execution_count": null,
   "metadata": {},
   "outputs": [],
   "source": [
    "from sklearn.preprocessing import LabelEncoder"
   ]
  },
  {
   "cell_type": "code",
   "execution_count": null,
   "metadata": {},
   "outputs": [],
   "source": [
    "le = LabelEncoder()"
   ]
  },
  {
   "cell_type": "code",
   "execution_count": null,
   "metadata": {
    "scrolled": true
   },
   "outputs": [],
   "source": [
    "for column in data.columns:\n",
    "    if data[column].dtype == 'object' and len(data[column].unique()) == 2:\n",
    "        print(column)\n",
    "        data[column] = le.fit_transform(data[column])"
   ]
  },
  {
   "cell_type": "markdown",
   "metadata": {},
   "source": [
    "**Категориальные** - one-hot encoding"
   ]
  },
  {
   "cell_type": "markdown",
   "metadata": {},
   "source": [
    "Почему просто не заменить на числа с помощью Label Encoder?\n",
    "+ В принципе так можно делать.\n",
    "+ Но это не очень правильно, т.к. весь смысл категориальности теряется и появляются ложные интерпретации.\n",
    "+ Ведь значения категориальных признаков нельзя сравнить между собой или расположить по порядку,в отличие от чисел.  Почему просто не заменить на числа с помощью Label Encoder?\n",
    "+ В принципе так можно делать.\n",
    "+ Но это не очень правильно, т.к. весь смысл категориальности теряется и появляются ложные интерпретации.\n",
    "+ Ведь значения категориальных признаков нельзя сравнить между собой или расположить по порядку,в отличие от чисел.  \n",
    "\n",
    "На примере признака Mjob, если заменить на значения числа (health -> 0, teacher -> 1, at_home -> 2, services -> 3, other -> 4), то получается что \n",
    "+ health < teacher < at_home < services < other \n",
    "+ teacher + at_home = services \n",
    "+ и т.д.\n",
    "+ и все это не свойство данных, а свойство выбранной нами кодировки!\n",
    "\n",
    "С категориальными признаками правильнее использовать One-hot encoding - создать N новых бинарных признаков (N - количество уникальных значений), 1 - в том столбце, где значение признака равно названию столбца, в остальных - 0. \n",
    "![](https://i.imgur.com/mtimFxh.png)"
   ]
  },
  {
   "cell_type": "code",
   "execution_count": null,
   "metadata": {},
   "outputs": [],
   "source": [
    "# те у которых больше 2 значений - делаем one-hot encoding\n",
    "# drop_first - удаляем одну из колонок, тк она восстанавливается по значениям других (то, что не Red и не Yellow - точно Green)\n",
    "data = pd.get_dummies(data, drop_first=True)"
   ]
  },
  {
   "cell_type": "code",
   "execution_count": null,
   "metadata": {},
   "outputs": [],
   "source": [
    "data.head()"
   ]
  },
  {
   "cell_type": "markdown",
   "metadata": {},
   "source": [
    "Делим на обучающую и тестовую выборки:"
   ]
  },
  {
   "cell_type": "code",
   "execution_count": null,
   "metadata": {},
   "outputs": [],
   "source": [
    "from sklearn.model_selection import train_test_split"
   ]
  },
  {
   "cell_type": "code",
   "execution_count": null,
   "metadata": {},
   "outputs": [],
   "source": [
    "# фиксируем RANDOM_STATE для воспороизводимости результатов (при каждм перезапуске ячейки в тестовую выборку попадают одни и те же объекты,\n",
    "# соотв-но значение метрики качества для одной и той же модели не будет меняться каждый раз)\n",
    "RANDOM_STATE = 666\n",
    "# train_test_split рандомно выбирает 25% объектов и соответсвующих им ответов\n",
    "X_train, X_test, y_train, y_test = train_test_split(data, target, test_size=0.25, random_state=RANDOM_STATE)"
   ]
  },
  {
   "cell_type": "code",
   "execution_count": null,
   "metadata": {},
   "outputs": [],
   "source": [
    "# 39 признаков, 296 объектов в обучающй выборке\n",
    "X_train.shape, y_train.shape"
   ]
  },
  {
   "cell_type": "code",
   "execution_count": null,
   "metadata": {
    "scrolled": true
   },
   "outputs": [],
   "source": [
    "# 39 признаков, 99 объектов в тестовой выборке\n",
    "X_test.shape, y_test.shape"
   ]
  },
  {
   "cell_type": "markdown",
   "metadata": {},
   "source": [
    "### Регрессия"
   ]
  },
  {
   "cell_type": "code",
   "execution_count": null,
   "metadata": {
    "scrolled": true
   },
   "outputs": [],
   "source": [
    "from sklearn.neighbors import KNeighborsRegressor"
   ]
  },
  {
   "cell_type": "code",
   "execution_count": null,
   "metadata": {},
   "outputs": [],
   "source": [
    "regr = KNeighborsRegressor()"
   ]
  },
  {
   "cell_type": "code",
   "execution_count": null,
   "metadata": {},
   "outputs": [],
   "source": [
    "regr.fit(X_train, y_train)"
   ]
  },
  {
   "cell_type": "code",
   "execution_count": null,
   "metadata": {},
   "outputs": [],
   "source": [
    "y_pred_regr = regr.predict(X_test)"
   ]
  },
  {
   "cell_type": "markdown",
   "metadata": {},
   "source": [
    "#### Prediction error plot"
   ]
  },
  {
   "cell_type": "markdown",
   "metadata": {},
   "source": [
    "+ На вертикальной оси - предсказанные значения, на горизонтальной - реальные. \n",
    "+ Чем ближе точки к диагонали, тем более точным является предсказание модели. \n",
    "+ Позволяет оценить на сколько и в какую сторону ошибается модель. \n",
    "+ В частности здесь мы видим, что она чаще занижает результаты (больше точек расположено ниже диагонали)"
   ]
  },
  {
   "cell_type": "code",
   "execution_count": null,
   "metadata": {
    "scrolled": true
   },
   "outputs": [],
   "source": [
    "fig, ax = plt.subplots()\n",
    "# рисуем синие точки, каждая точка - отдельный объект из тестовой выборки\n",
    "ax.scatter(x=y_test, y=y_pred_regr)\n",
    "# рисуем диагональ \n",
    "ax.plot([y_test.min(), y_test.max()], [y_test.min(), y_test.max()], 'k--', lw=4)\n",
    "# подписываем оси\n",
    "ax.set_xlabel('Real')\n",
    "ax.set_ylabel('Predicted')\n",
    "plt.show()"
   ]
  },
  {
   "cell_type": "markdown",
   "metadata": {},
   "source": [
    "#### True and predicted values plot"
   ]
  },
  {
   "cell_type": "markdown",
   "metadata": {},
   "source": [
    "Просто нарисуем для каждого объекта его реальное и предсказанное значение."
   ]
  },
  {
   "cell_type": "code",
   "execution_count": null,
   "metadata": {},
   "outputs": [],
   "source": [
    "# y_test_sorted = [tst for tst, pred in sorted(zip(y_test, y_pred_regr))]\n",
    "# y_pred_sorted = [pred for tst, pred in sorted(zip(y_test, y_pred_regr))]"
   ]
  },
  {
   "cell_type": "code",
   "execution_count": null,
   "metadata": {},
   "outputs": [],
   "source": [
    "fig, ax = plt.subplots(figsize=(15, 7))\n",
    "\n",
    "y_true = y_test\n",
    "y_pred = y_pred_regr\n",
    "\n",
    "# рисуем точки соотвествующие каждому объекту\n",
    "ax.scatter(x=range(0, len(y_true)), y=y_true, label='true')\n",
    "ax.scatter(x=range(0, len(y_true)), y=y_pred, label='predicted')\n",
    "\n",
    "# соединяем точки линией\n",
    "ax.plot(range(0, len(y_true)),y_true)\n",
    "ax.plot(range(0, len(y_true)), y_pred)\n",
    "\n",
    "plt.legend(loc='lower right')\n",
    "\n",
    "plt.show()"
   ]
  },
  {
   "cell_type": "markdown",
   "metadata": {},
   "source": [
    "### Классификация"
   ]
  },
  {
   "cell_type": "markdown",
   "metadata": {},
   "source": [
    "Будем предсказывать не конкретную оценку, а ее характеристику\n",
    "+ exc 17-20\n",
    "+ good - 13-16\n",
    "+ sat - 8-12\n",
    "+ fail - 0-7"
   ]
  },
  {
   "cell_type": "code",
   "execution_count": null,
   "metadata": {},
   "outputs": [],
   "source": [
    "def encode_grade(grade: float):\n",
    "    if grade <= 7:\n",
    "        return 'fail'\n",
    "    if 8 <= grade <= 12:\n",
    "        return 'sat'\n",
    "    if 13 <= grade <= 16:\n",
    "        return 'good'\n",
    "    if 17 <= grade <= 20:\n",
    "        return 'exc'"
   ]
  },
  {
   "cell_type": "code",
   "execution_count": null,
   "metadata": {},
   "outputs": [],
   "source": [
    "y_train_clf = [encode_grade(grade) for grade in y_train]\n",
    "y_test_clf = [encode_grade(grade) for grade in y_test]"
   ]
  },
  {
   "cell_type": "code",
   "execution_count": null,
   "metadata": {},
   "outputs": [],
   "source": [
    "from sklearn.neighbors import KNeighborsClassifier"
   ]
  },
  {
   "cell_type": "code",
   "execution_count": null,
   "metadata": {},
   "outputs": [],
   "source": [
    "clf = KNeighborsClassifier()"
   ]
  },
  {
   "cell_type": "code",
   "execution_count": null,
   "metadata": {},
   "outputs": [],
   "source": [
    "clf.fit(X_train, y_train_clf)"
   ]
  },
  {
   "cell_type": "code",
   "execution_count": null,
   "metadata": {},
   "outputs": [],
   "source": [
    "y_pred_clf = clf.predict(X_test)"
   ]
  },
  {
   "cell_type": "code",
   "execution_count": null,
   "metadata": {},
   "outputs": [],
   "source": [
    "from sklearn.metrics import classification_report, confusion_matrix"
   ]
  },
  {
   "cell_type": "code",
   "execution_count": null,
   "metadata": {
    "scrolled": true
   },
   "outputs": [],
   "source": [
    "print(classification_report(y_test_clf, y_pred_clf))"
   ]
  },
  {
   "cell_type": "markdown",
   "metadata": {},
   "source": [
    "#### Confusion matrix"
   ]
  },
  {
   "cell_type": "code",
   "execution_count": null,
   "metadata": {},
   "outputs": [],
   "source": [
    "print(confusion_matrix(y_test_clf, y_pred_clf, labels=['exc', 'good', 'sat', 'fail']))"
   ]
  },
  {
   "cell_type": "code",
   "execution_count": null,
   "metadata": {},
   "outputs": [],
   "source": [
    "plt.figure(figsize=(6, 5)) # регулируем размер графика\n",
    "\n",
    "sns.heatmap(confusion_matrix(y_test_clf, y_pred_clf, \n",
    "                             labels=['exc', 'good', 'sat', 'fail']), # таблица\n",
    "            xticklabels=['exc', 'good', 'sat', 'fail'], # названия столбцов\n",
    "            yticklabels=['exc', 'good', 'sat', 'fail'], # названия колонок\n",
    "           annot=True) # подписать значения на цветных квадратиках\n",
    "           \n",
    "# добавляем название\n",
    "plt.title('Confusion matrix', fontsize=12)\n",
    "\n",
    "plt.ylabel('True') # true - строчки\n",
    "plt.xlabel('Predicted') # predicted - столбцы\n",
    "\n",
    "plt.show()"
   ]
  },
  {
   "cell_type": "markdown",
   "metadata": {},
   "source": [
    "#### Самое шикарное - отобразить признаки в двумерное пространство и раскрасить в цвета классов"
   ]
  },
  {
   "cell_type": "code",
   "execution_count": null,
   "metadata": {},
   "outputs": [],
   "source": [
    "from sklearn.decomposition import PCA\n",
    "from sklearn.manifold import TSNE"
   ]
  },
  {
   "cell_type": "code",
   "execution_count": null,
   "metadata": {},
   "outputs": [],
   "source": [
    "model = TSNE()"
   ]
  },
  {
   "cell_type": "code",
   "execution_count": null,
   "metadata": {},
   "outputs": [],
   "source": [
    "# model.fit(data)\n",
    "Z = model.fit_transform(X_test)\n",
    "\n",
    "x_axis_2d = Z[:, 0]\n",
    "y_axis_2d = Z[:, 1]"
   ]
  },
  {
   "cell_type": "code",
   "execution_count": null,
   "metadata": {},
   "outputs": [],
   "source": [
    "order = ['exc', 'good', 'sat', 'fail']\n",
    "\n",
    "fig, (ax1, ax2) = plt.subplots(1, 2, figsize=(10, 5))\n",
    "\n",
    "ax1.set_title('Predicted classes')\n",
    "scatter = ax1.scatter(x_axis_2d, y_axis_2d, c=[order.index(i) for i in y_pred_clf])\n",
    "legend = ax1.legend(*scatter.legend_elements()[:-1], order)\n",
    "\n",
    "scatter2 = ax2.scatter(x_axis_2d, y_axis_2d, c=[order.index(i) for i in y_test_clf])\n",
    "ax2.set_title('True classes')\n",
    "legend = ax2.legend(*scatter2.legend_elements()[:-1], order)"
   ]
  }
 ],
 "metadata": {
  "colab": {
   "collapsed_sections": [
    "LOLAtkIW3yYz",
    "c5HZgTOw2Ixi",
    "zn5rqAbIhMjK",
    "Duxhd3f1jenJ",
    "kVgkSRUzbTtp",
    "YenCSjzRWuLy",
    "8lFdlBBKdlcv",
    "QKMOD0xBfICy"
   ],
   "name": "seminar18.ipynb",
   "provenance": []
  },
  "kernelspec": {
   "display_name": "Python 3",
   "language": "python",
   "name": "python3"
  },
  "language_info": {
   "codemirror_mode": {
    "name": "ipython",
    "version": 3
   },
   "file_extension": ".py",
   "mimetype": "text/x-python",
   "name": "python",
   "nbconvert_exporter": "python",
   "pygments_lexer": "ipython3",
   "version": "3.8.6"
  }
 },
 "nbformat": 4,
 "nbformat_minor": 4
}
