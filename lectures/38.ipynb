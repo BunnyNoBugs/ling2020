{
 "cells": [
  {
   "cell_type": "markdown",
   "metadata": {
    "colab_type": "text",
    "id": "qYSEkN3aNmiR"
   },
   "source": [
    "# Первичный анализ данных и визуализации"
   ]
  },
  {
   "cell_type": "code",
   "execution_count": null,
   "metadata": {},
   "outputs": [],
   "source": [
    "import matplotlib.pyplot as plt\n",
    "import seaborn as sns"
   ]
  },
  {
   "cell_type": "markdown",
   "metadata": {
    "colab_type": "text",
    "id": "iWgYvb8dqYor"
   },
   "source": [
    "## Первичный анализ данных, pandas и графики"
   ]
  },
  {
   "cell_type": "markdown",
   "metadata": {
    "colab_type": "text",
    "id": "X_Ga0SxrUqcg"
   },
   "source": [
    "**pandas** - библиотека для работы с данными в табличном формате   "
   ]
  },
  {
   "cell_type": "markdown",
   "metadata": {
    "colab_type": "text",
    "id": "lHfXHaSPPkKn"
   },
   "source": [
    "+ будем работать с датасетом [Student Performance](http://archive.ics.uci.edu/ml/datasets/Student+Performance#)\n",
    "+ постараемся предсказать итоговую оценку по математике (G3) по разным другим признакам \n",
    "\n"
   ]
  },
  {
   "cell_type": "markdown",
   "metadata": {
    "colab_type": "text",
    "id": "h29t3ALzZSQF"
   },
   "source": [
    "### Attributes"
   ]
  },
  {
   "cell_type": "markdown",
   "metadata": {
    "colab_type": "text",
    "id": "4o5nMt_bY3rQ"
   },
   "source": [
    "\n",
    "1. **school** - student's school (binary: 'GP' - Gabriel Pereira or 'MS' - Mousinho da Silveira)\n",
    "2. **sex** - student's sex (binary: 'F' - female or 'M' - male)\n",
    "3. **age** - student's age (numeric: from 15 to 22)\n",
    "4. **address** - student's home address type (binary: 'U' - urban or 'R' - rural)\n",
    "5. **famsize** - family size (binary: 'LE3' - less or equal to 3 or 'GT3' - greater than 3)\n",
    "6. **Pstatus** - parent's cohabitation status (binary: 'T' - living together or 'A' - apart)\n",
    "7. **Medu** - mother's education (numeric: 0 - none, 1 - primary education (4th grade), 2 - 5th to 9th grade, 3 - secondary education or 4 - higher education)\n",
    "8. **Fedu** - father's education (numeric: 0 - none, 1 - primary education (4th grade), 2 - 5th to 9th grade, 3 - secondary education or 4 - higher education)\n",
    "9. **Mjob** - mother's job (nominal: 'teacher', 'health' care related, civil 'services' (e.g. administrative or police), 'at_home' or 'other')\n",
    "10. **Fjob** - father's job (nominal: 'teacher', 'health' care related, civil 'services' (e.g. administrative or police), 'at_home' or 'other')\n",
    "11. **reason** - reason to choose this school (nominal: close to 'home', school 'reputation', 'course' preference or 'other')\n",
    "12. **guardian** - student's guardian (nominal: 'mother', 'father' or 'other')\n",
    "13. **traveltime** - home to school travel time (numeric: 1 - <15 min., 2 - 15 to 30 min., 3 - 30 min. to 1 hour, or 4 - >1 hour)\n",
    "14. **studytime** - weekly study time (numeric: 1 - <2 hours, 2 - 2 to 5 hours, 3 - 5 to 10 hours, or 4 - >10 hours)\n",
    "15. **failures** - number of past class failures (numeric: n if 1<=n<3, else 4)\n",
    "16. **schoolsup** - extra educational support (binary: yes or no)\n",
    "17. **famsup** - family educational support (binary: yes or no)\n",
    "18. **paid**- extra paid classes within the course subject (Math or Portuguese) (binary: yes or no)\n",
    "19. **activities** - extra-curricular activities (binary: yes or no)\n",
    "20. **nursery** - attended nursery school (binary: yes or no)\n",
    "21. **higher** - wants to take higher education (binary: yes or no)\n",
    "22. **internet** - Internet access at home (binary: yes or no)\n",
    "23. **romantic** - with a romantic relationship (binary: yes or no)\n",
    "24. **famrel** - quality of family relationships (numeric: from 1 - very bad to 5 - excellent)\n",
    "25. **freetime** - free time after school (numeric: from 1 - very low to 5 - very high)\n",
    "26. **goout** - going out with friends (numeric: from 1 - very low to 5 - very high)\n",
    "27. **Dalc** - workday alcohol consumption (numeric: from 1 - very low to 5 - very high)\n",
    "28. **Walc** - weekend alcohol consumption (numeric: from 1 - very low to 5 - very high)\n",
    "29. **health** - current health status (numeric: from 1 - very bad to 5 - very good)\n",
    "30. **absences** - number of school absences (numeric: from 0 to 93)\n",
    "\n"
   ]
  },
  {
   "cell_type": "markdown",
   "metadata": {
    "colab_type": "text",
    "id": "V6TEXVMiZppF"
   },
   "source": [
    "### Target:\n",
    "31. **G1** - first period grade (numeric: from 0 to 20)\n",
    "31. **G2** - second period grade (numeric: from 0 to 20)\n",
    "32. **G3** - final grade (numeric: from 0 to 20, output target)"
   ]
  },
  {
   "cell_type": "markdown",
   "metadata": {
    "colab_type": "text",
    "id": "fX5eVHozY79Y"
   },
   "source": [
    "### Посмотрим на данные"
   ]
  },
  {
   "cell_type": "code",
   "execution_count": null,
   "metadata": {
    "colab": {},
    "colab_type": "code",
    "id": "q8EiMYpOWV4g"
   },
   "outputs": [],
   "source": [
    "import pandas as pd"
   ]
  },
  {
   "cell_type": "code",
   "execution_count": null,
   "metadata": {
    "colab": {},
    "colab_type": "code",
    "id": "3O6luYV7PjDG"
   },
   "outputs": [],
   "source": [
    "# загружаем датасет с оценками по математике\n",
    "# не забываем указать правильный разделитель\n",
    "data = pd.read_csv('https://raw.githubusercontent.com/arunk13/MSDA-Assignments/master/IS607Fall2015/Assignment3/student-mat.csv', delimiter=';')"
   ]
  },
  {
   "cell_type": "code",
   "execution_count": null,
   "metadata": {
    "colab": {
     "base_uri": "https://localhost:8080/",
     "height": 534
    },
    "colab_type": "code",
    "id": "WUbpkhqjW68X",
    "outputId": "f2aeb62a-6e11-4070-8847-7e0629749267"
   },
   "outputs": [],
   "source": [
    "# посмотрим на первые 15 строк таблицы\n",
    "# каждая строка - объект\n",
    "# столбцы - признаки\n",
    "data.head(15)"
   ]
  },
  {
   "cell_type": "markdown",
   "metadata": {
    "colab_type": "text",
    "id": "SAfLOChxGE_v"
   },
   "source": [
    "### Удаление столбцов, добавление столбцов, сортировка"
   ]
  },
  {
   "cell_type": "code",
   "execution_count": null,
   "metadata": {
    "colab": {},
    "colab_type": "code",
    "id": "35T7VkJZ0Xx-"
   },
   "outputs": [],
   "source": [
    "# убираем столбцы G1 и G2, т.к. нас интересует только G3\n",
    "data = data.drop(columns=['G1', 'G2'])"
   ]
  },
  {
   "cell_type": "code",
   "execution_count": null,
   "metadata": {
    "colab": {},
    "colab_type": "code",
    "id": "m4DfsqxfjJjb"
   },
   "outputs": [],
   "source": [
    "# добавить столбец\n",
    "data['MeanAlc'] = (data['Walc']+data['Dalc'])/2"
   ]
  },
  {
   "cell_type": "code",
   "execution_count": null,
   "metadata": {
    "colab": {},
    "colab_type": "code",
    "id": "ir4FpZ5gjj7S"
   },
   "outputs": [],
   "source": [
    "data = data.drop(columns=['MeanAlc'])"
   ]
  },
  {
   "cell_type": "code",
   "execution_count": null,
   "metadata": {
    "colab": {},
    "colab_type": "code",
    "id": "RbrpUCD5GL8L"
   },
   "outputs": [],
   "source": [
    "# отсортируем по оценкам по убыванию\n",
    "sorted_data = data.sort_values(by='G3', ascending=False)"
   ]
  },
  {
   "cell_type": "code",
   "execution_count": null,
   "metadata": {
    "colab": {
     "base_uri": "https://localhost:8080/",
     "height": 224
    },
    "colab_type": "code",
    "id": "SlYMuug3GnNP",
    "outputId": "3a2b0c3d-be2d-4147-ba9e-88f6e45b392b"
   },
   "outputs": [],
   "source": [
    "# первые 5 учеников\n",
    "sorted_data.head(5)"
   ]
  },
  {
   "cell_type": "code",
   "execution_count": null,
   "metadata": {
    "colab": {
     "base_uri": "https://localhost:8080/",
     "height": 224
    },
    "colab_type": "code",
    "id": "2852DZ34Gpnx",
    "outputId": "4f1729e5-f48f-4174-fa54-0c7e0a390280"
   },
   "outputs": [],
   "source": [
    "# последние 5 учеников\n",
    "sorted_data.tail(5)"
   ]
  },
  {
   "cell_type": "markdown",
   "metadata": {
    "colab_type": "text",
    "id": "LOLAtkIW3yYz"
   },
   "source": [
    "### Индексация"
   ]
  },
  {
   "cell_type": "code",
   "execution_count": null,
   "metadata": {
    "colab": {
     "base_uri": "https://localhost:8080/",
     "height": 561
    },
    "colab_type": "code",
    "id": "I9ETD9OX1Fos",
    "outputId": "b5471c01-d980-4441-bc1e-b7afe954e4f2"
   },
   "outputs": [],
   "source": [
    "# индексация - строки\n",
    "data.loc[0]\n",
    "# data.loc[:10]"
   ]
  },
  {
   "cell_type": "code",
   "execution_count": null,
   "metadata": {
    "colab": {
     "base_uri": "https://localhost:8080/",
     "height": 419
    },
    "colab_type": "code",
    "id": "D5rLtD-C1Law",
    "outputId": "31e05077-0d37-4450-e98b-7fec6a4fac4a"
   },
   "outputs": [],
   "source": [
    "# индексация - столбцы\n",
    "data['G3']\n",
    "# data[['school', 'address']] # несколько столбцов"
   ]
  },
  {
   "cell_type": "code",
   "execution_count": null,
   "metadata": {
    "colab": {
     "base_uri": "https://localhost:8080/",
     "height": 34
    },
    "colab_type": "code",
    "id": "CVlgjrz9HOif",
    "outputId": "a8e0c9ca-5151-476f-b3c4-5d93ec7fbb0e"
   },
   "outputs": [],
   "source": [
    "# и то, и другое\n",
    "data['G3'].loc[0]\n",
    "# data.loc[0]['G3'] # так тоже можно"
   ]
  },
  {
   "cell_type": "code",
   "execution_count": null,
   "metadata": {
    "colab": {
     "base_uri": "https://localhost:8080/",
     "height": 34
    },
    "colab_type": "code",
    "id": "ZdvuROH618FB",
    "outputId": "1e46e7cb-23e6-4c92-96c9-d36d56781855"
   },
   "outputs": [],
   "source": [
    "# индексация по условию\n",
    "# средняя оценка людей, состоящих в отношениях\n",
    "data[data['romantic'] == 'yes']['G3'].mean()"
   ]
  },
  {
   "cell_type": "code",
   "execution_count": null,
   "metadata": {
    "colab": {
     "base_uri": "https://localhost:8080/",
     "height": 34
    },
    "colab_type": "code",
    "id": "OjeqMF5G3iNZ",
    "outputId": "98a8fcb8-fe2c-476a-ed31-bc94243fd779"
   },
   "outputs": [],
   "source": [
    "# и не состоящих\n",
    "data[data['romantic'] == 'no']['G3'].mean()"
   ]
  },
  {
   "cell_type": "code",
   "execution_count": null,
   "metadata": {},
   "outputs": [],
   "source": [
    "# несколько условий\n",
    "# есть отношения и хорошие отношения в семье\n",
    "data[(data['romantic'] == 'yes') & (data['famrel'] >= 4)]"
   ]
  },
  {
   "cell_type": "code",
   "execution_count": null,
   "metadata": {},
   "outputs": [],
   "source": [
    "# есть отношения или хорошие отношения в семье\n",
    "data[(data['romantic'] == 'yes') | (data['famrel'] >= 4)]"
   ]
  },
  {
   "cell_type": "markdown",
   "metadata": {
    "colab_type": "text",
    "id": "c5HZgTOw2Ixi"
   },
   "source": [
    "### Задание\n",
    "Найти средний возраст тех, кто много пьет (Dalc и Walc >= 4) и тех, кто мало пьёт (Dalc и Walc = 1)\n"
   ]
  },
  {
   "cell_type": "markdown",
   "metadata": {
    "colab_type": "text",
    "id": "-44O4OxNae_n"
   },
   "source": [
    "## Типы признаков и их статистические характеристики"
   ]
  },
  {
   "cell_type": "code",
   "execution_count": null,
   "metadata": {
    "colab": {
     "base_uri": "https://localhost:8080/",
     "height": 119
    },
    "colab_type": "code",
    "id": "XGtbRaRr0GfR",
    "outputId": "8a8245dd-96d0-482e-e573-30c93fef9f42"
   },
   "outputs": [],
   "source": [
    "# названия столбцов\n",
    "data.columns"
   ]
  },
  {
   "cell_type": "code",
   "execution_count": null,
   "metadata": {
    "colab": {
     "base_uri": "https://localhost:8080/",
     "height": 629
    },
    "colab_type": "code",
    "id": "y2-m4mv-suQw",
    "outputId": "aee5b4ad-a749-48a1-c6d6-291be3d3bb92"
   },
   "outputs": [],
   "source": [
    "# количестов объектов, названия и типы признаков\n",
    "data.info()"
   ]
  },
  {
   "cell_type": "code",
   "execution_count": null,
   "metadata": {
    "colab": {
     "base_uri": "https://localhost:8080/",
     "height": 297
    },
    "colab_type": "code",
    "id": "Ei_DJcyvinGX",
    "outputId": "302f7fd9-d378-41c5-c5b9-a6793c4a650c",
    "scrolled": false
   },
   "outputs": [],
   "source": [
    "# узнать разные статистические характеристики числовых признаков \n",
    "data.describe()"
   ]
  },
  {
   "cell_type": "markdown",
   "metadata": {},
   "source": [
    "#### Визуализация распределения значений для численных переменных"
   ]
  },
  {
   "cell_type": "code",
   "execution_count": null,
   "metadata": {},
   "outputs": [],
   "source": [
    "# гистограмма\n",
    "data['G3'].plot(kind='hist', figsize=(5, 5))"
   ]
  },
  {
   "cell_type": "code",
   "execution_count": null,
   "metadata": {
    "colab": {
     "base_uri": "https://localhost:8080/",
     "height": 173
    },
    "colab_type": "code",
    "id": "1goKihpPtWhv",
    "outputId": "7be17ec9-562d-4d70-c71b-eb65aeb5ea5c"
   },
   "outputs": [],
   "source": [
    "# то же самое для бинарных и категориальных признаков\n",
    "# в include пишем нужные типы переменных\n",
    "data.describe(include=['object'])"
   ]
  },
  {
   "cell_type": "markdown",
   "metadata": {
    "colab_type": "text",
    "id": "Z9_iBPJ2s8M0"
   },
   "source": [
    "Для категориальных (тип object) и булевых (тип bool) признаков можно воспользоваться методом value_counts."
   ]
  },
  {
   "cell_type": "code",
   "execution_count": null,
   "metadata": {
    "colab": {
     "base_uri": "https://localhost:8080/",
     "height": 119
    },
    "colab_type": "code",
    "id": "uQlt1Jb-uq-r",
    "outputId": "a046fcf6-fd41-44b9-d230-482ecdf5e717"
   },
   "outputs": [],
   "source": [
    "# узнаем какие профессии родителей встречаются чаще всего\n",
    "data['Mjob'].value_counts()"
   ]
  },
  {
   "cell_type": "code",
   "execution_count": null,
   "metadata": {
    "colab": {
     "base_uri": "https://localhost:8080/",
     "height": 119
    },
    "colab_type": "code",
    "id": "Ff4svhj0vfwv",
    "outputId": "7152335e-372d-4813-c335-7898c105b510"
   },
   "outputs": [],
   "source": [
    "# то же самое, но в % соотношении\n",
    "data['Mjob'].value_counts(normalize=True)"
   ]
  },
  {
   "cell_type": "code",
   "execution_count": null,
   "metadata": {
    "colab": {
     "base_uri": "https://localhost:8080/",
     "height": 119
    },
    "colab_type": "code",
    "id": "z61i6WXmvSlg",
    "outputId": "aede92dc-40ed-4595-81d9-89d0ae6016bc",
    "scrolled": false
   },
   "outputs": [],
   "source": [
    "data['Fjob'].value_counts()"
   ]
  },
  {
   "cell_type": "markdown",
   "metadata": {},
   "source": [
    "#### Визуализация распределения значений для категориальных переменных"
   ]
  },
  {
   "cell_type": "code",
   "execution_count": null,
   "metadata": {},
   "outputs": [],
   "source": [
    "# bar plot\n",
    "data['Fjob'].value_counts().plot(kind='bar', figsize=(5,5))"
   ]
  },
  {
   "cell_type": "markdown",
   "metadata": {
    "colab_type": "text",
    "id": "zn5rqAbIhMjK"
   },
   "source": [
    "### Сводные таблицы"
   ]
  },
  {
   "cell_type": "code",
   "execution_count": null,
   "metadata": {
    "colab": {
     "base_uri": "https://localhost:8080/",
     "height": 0
    },
    "colab_type": "code",
    "id": "cMjq8cnSIKU6",
    "outputId": "128bd2ea-9568-45dd-948d-3a99985932c1"
   },
   "outputs": [],
   "source": [
    "# pd.crosstab(data['sex'], data['romantic'])\n",
    "pd.crosstab(data['sex'], data['romantic'], normalize=True)"
   ]
  },
  {
   "cell_type": "code",
   "execution_count": null,
   "metadata": {
    "colab": {
     "base_uri": "https://localhost:8080/",
     "height": 0
    },
    "colab_type": "code",
    "id": "HVLWU8fAI0ES",
    "outputId": "589bd088-d74d-4229-80c0-2a9f09bc5454"
   },
   "outputs": [],
   "source": [
    "# сколько мальчиков и девочек среду тех, кто получил худшие оценки\n",
    "worst_grades = data[data['G3'] <= 7]\n",
    "pd.crosstab(worst_grades['G3'], worst_grades['sex'], normalize=True)"
   ]
  },
  {
   "cell_type": "code",
   "execution_count": null,
   "metadata": {},
   "outputs": [],
   "source": [
    "# то же самое в виде очень красивого и очень разноцветного графика\n",
    "\n",
    "table = pd.crosstab(data['G3'], data['age'])\n",
    "\n",
    "plt.figure(figsize=(5, 5)) # регулируем размер графика\n",
    "\n",
    "sns.heatmap(table, # таблица\n",
    "            xticklabels=table.columns, # названия столбцов\n",
    "            yticklabels=table.index, # названия колонок\n",
    "           annot=True) # подписать значения на цветных квадратиках\n",
    "           \n",
    "# добавляем название\n",
    "plt.title('Оценки и возраст', fontsize=12)\n",
    "\n",
    "# делаем шрифт побольше\n",
    "plt.xticks(fontsize=12)\n",
    "plt.yticks(fontsize=12)\n",
    "plt.show()"
   ]
  },
  {
   "cell_type": "markdown",
   "metadata": {
    "colab_type": "text",
    "id": "kVgkSRUzbTtp"
   },
   "source": [
    "### **Вопросы**\n",
    "+ Какой % учеников ни разу не пропускал занятия?\n",
    "+ Какой % учеников проваливал экзамены хотя бы один раз?\n",
    "+ Есть ли сильно пьющие ученики (Dalc или Walc 4 и больше) с очень высокими оценками (G3 >= 18)? Какая самая высокая оценка среди сильно пьющих учеников?\n",
    "+ Есть ли состоящие в отношениях ученики с высокими оценками (G3 >= 18)? Какая самая высокая оценка среди учеников, состоящих в отношених?\n",
    "+ Правда ли, что большинство людей с высшим баллом (G3 >= 18) пьют мало/не пьют (Dalc и Walc = 1)?"
   ]
  },
  {
   "cell_type": "markdown",
   "metadata": {
    "colab_type": "text",
    "id": "GIe1YkNpbFGc"
   },
   "source": [
    "## Корреляции"
   ]
  },
  {
   "cell_type": "code",
   "execution_count": null,
   "metadata": {
    "colab": {
     "base_uri": "https://localhost:8080/",
     "height": 483
    },
    "colab_type": "code",
    "id": "-lbqpgSVvwbi",
    "outputId": "e6ac595b-6f72-45eb-f6a7-331a737f565f",
    "scrolled": false
   },
   "outputs": [],
   "source": [
    "# корреляция между признаками (только количественные)\n",
    "data.corr()\n",
    "# data.corr().abs() # абсолютные значения"
   ]
  },
  {
   "cell_type": "markdown",
   "metadata": {},
   "source": [
    "**Задание** - нарисовать таблицу корреляции в виде очень красивого и очень разноцветного графика с подписями"
   ]
  },
  {
   "cell_type": "code",
   "execution_count": null,
   "metadata": {},
   "outputs": [],
   "source": [
    "# то же самое в виде очень красивого и очень разноцветного графика\n"
   ]
  },
  {
   "cell_type": "markdown",
   "metadata": {},
   "source": [
    "+ https://matplotlib.org/stable/tutorials/colors/colormaps.html\n",
    "+ https://matplotlib.org/stable/gallery/color/colormap_reference.html"
   ]
  },
  {
   "cell_type": "code",
   "execution_count": null,
   "metadata": {
    "colab": {
     "base_uri": "https://localhost:8080/",
     "height": 272
    },
    "colab_type": "code",
    "id": "uy_Z67g-SeXR",
    "outputId": "c6a95e9a-40f7-41fa-afc1-dc1dcab1d9d8",
    "scrolled": true
   },
   "outputs": [],
   "source": [
    "# признаки, больше всего коррелирующие с целевой переменной (G3)\n",
    "data.corr().abs()['G3'].sort_values(ascending=False)"
   ]
  },
  {
   "cell_type": "markdown",
   "metadata": {
    "colab_type": "text",
    "id": "YenCSjzRWuLy"
   },
   "source": [
    "### Вопросы\n",
    "+ Те, кто много пьёт, учатся хуже?\n",
    "+ Учащиеся, которые живут дальше от школы чаще отстутствуют? \n",
    "+ Те у кого здоровье хуже чаще отстутвуют?"
   ]
  },
  {
   "cell_type": "markdown",
   "metadata": {
    "colab_type": "text",
    "heading_collapsed": true,
    "id": "8lFdlBBKdlcv"
   },
   "source": [
    "### Задание - на дом\n",
    "Написать функцию, которая выведет топ n пар признаков с самым высоким абсолютным коэффициентом корреляции"
   ]
  },
  {
   "cell_type": "code",
   "execution_count": null,
   "metadata": {
    "colab": {
     "base_uri": "https://localhost:8080/",
     "height": 0
    },
    "colab_type": "code",
    "hidden": true,
    "id": "3cPUKWbVgHId",
    "outputId": "cb4fa833-aef0-4fa3-c416-3f49eee504ef"
   },
   "outputs": [],
   "source": [
    "data.corr().unstack()"
   ]
  },
  {
   "cell_type": "code",
   "execution_count": null,
   "metadata": {
    "colab": {},
    "colab_type": "code",
    "hidden": true,
    "id": "XPFgX5c0eCXJ"
   },
   "outputs": [],
   "source": [
    "def get_top_n_abs_corr(data, n=5):\n",
    "    pass"
   ]
  },
  {
   "cell_type": "markdown",
   "metadata": {},
   "source": [
    "## Визуализации по итогам обучения модели"
   ]
  },
  {
   "cell_type": "code",
   "execution_count": null,
   "metadata": {},
   "outputs": [],
   "source": [
    "target = data['G3']\n",
    "data = data.drop(columns=['G3'])"
   ]
  },
  {
   "cell_type": "markdown",
   "metadata": {},
   "source": [
    "Преобразуем не числовые признаки в компьютерочитаемый вид:"
   ]
  },
  {
   "cell_type": "markdown",
   "metadata": {},
   "source": [
    "**Бинарные кодируем в 0 и 1:**"
   ]
  },
  {
   "cell_type": "code",
   "execution_count": null,
   "metadata": {},
   "outputs": [],
   "source": [
    "from sklearn.preprocessing import LabelEncoder"
   ]
  },
  {
   "cell_type": "code",
   "execution_count": null,
   "metadata": {},
   "outputs": [],
   "source": [
    "le = LabelEncoder()"
   ]
  },
  {
   "cell_type": "code",
   "execution_count": null,
   "metadata": {
    "scrolled": true
   },
   "outputs": [],
   "source": [
    "for column in data.columns:\n",
    "    if data[column].dtype == 'object' and len(data[column].unique()) == 2:\n",
    "        print(column)\n",
    "        data[column] = le.fit_transform(data[column])"
   ]
  },
  {
   "cell_type": "markdown",
   "metadata": {},
   "source": [
    "**Категориальные** - one-hot encoding"
   ]
  },
  {
   "cell_type": "markdown",
   "metadata": {},
   "source": [
    "Почему просто не заменить на числа с помощью Label Encoder?\n",
    "+ В принципе так можно делать.\n",
    "+ Но это не очень правильно, т.к. весь смысл категориальности теряется и появляются ложные интерпретации.\n",
    "+ Ведь значения категориальных признаков нельзя сравнить между собой или расположить по порядку,в отличие от чисел.  Почему просто не заменить на числа с помощью Label Encoder?\n",
    "+ В принципе так можно делать.\n",
    "+ Но это не очень правильно, т.к. весь смысл категориальности теряется и появляются ложные интерпретации.\n",
    "+ Ведь значения категориальных признаков нельзя сравнить между собой или расположить по порядку,в отличие от чисел.  \n",
    "\n",
    "На примере признака Mjob, если заменить на значения числа (health -> 0, teacher -> 1, at_home -> 2, services -> 3, other -> 4), то получается что \n",
    "+ health < teacher < at_home < services < other \n",
    "+ teacher + at_home = services \n",
    "+ и т.д.\n",
    "+ и все это не свойство данных, а свойство выбранной нами кодировки!\n",
    "\n",
    "С категориальными признаками правильнее использовать One-hot encoding - создать N новых бинарных признаков (N - количество уникальных значений), 1 - в том столбце, где значение признака равно названию столбца, в остальных - 0. \n",
    "![](https://i.imgur.com/mtimFxh.png)"
   ]
  },
  {
   "cell_type": "code",
   "execution_count": null,
   "metadata": {},
   "outputs": [],
   "source": [
    "# те у которых больше 2 значений - делаем one-hot encoding\n",
    "# drop_first - удаляем одну из колонок, тк она восстанавливается по значениям других (то, что не Red и не Yellow - точно Green)\n",
    "data = pd.get_dummies(data, drop_first=True)"
   ]
  },
  {
   "cell_type": "code",
   "execution_count": null,
   "metadata": {},
   "outputs": [],
   "source": [
    "data.head()"
   ]
  },
  {
   "cell_type": "markdown",
   "metadata": {},
   "source": [
    "Делим на обучающую и тестовую выборки:"
   ]
  },
  {
   "cell_type": "code",
   "execution_count": null,
   "metadata": {},
   "outputs": [],
   "source": [
    "from sklearn.model_selection import train_test_split"
   ]
  },
  {
   "cell_type": "code",
   "execution_count": null,
   "metadata": {},
   "outputs": [],
   "source": [
    "# фиксируем RANDOM_STATE для воспороизводимости результатов (при каждм перезапуске ячейки в тестовую выборку попадают одни и те же объекты,\n",
    "# соотв-но значение метрики качества для одной и той же модели не будет меняться каждый раз)\n",
    "RANDOM_STATE = 666\n",
    "# train_test_split рандомно выбирает 25% объектов и соответсвующих им ответов\n",
    "X_train, X_test, y_train, y_test = train_test_split(data, target, test_size=0.25, random_state=RANDOM_STATE)"
   ]
  },
  {
   "cell_type": "code",
   "execution_count": null,
   "metadata": {},
   "outputs": [],
   "source": [
    "# 39 признаков, 296 объектов в обучающй выборке\n",
    "X_train.shape, y_train.shape"
   ]
  },
  {
   "cell_type": "code",
   "execution_count": null,
   "metadata": {
    "scrolled": true
   },
   "outputs": [],
   "source": [
    "# 39 признаков, 99 объектов в тестовой выборке\n",
    "X_test.shape, y_test.shape"
   ]
  },
  {
   "cell_type": "markdown",
   "metadata": {},
   "source": [
    "### Регрессия"
   ]
  },
  {
   "cell_type": "code",
   "execution_count": null,
   "metadata": {
    "scrolled": true
   },
   "outputs": [],
   "source": [
    "from sklearn.neighbors import KNeighborsRegressor"
   ]
  },
  {
   "cell_type": "code",
   "execution_count": null,
   "metadata": {},
   "outputs": [],
   "source": [
    "regr = KNeighborsRegressor()"
   ]
  },
  {
   "cell_type": "code",
   "execution_count": null,
   "metadata": {},
   "outputs": [],
   "source": [
    "regr.fit(X_train, y_train)"
   ]
  },
  {
   "cell_type": "code",
   "execution_count": null,
   "metadata": {},
   "outputs": [],
   "source": [
    "y_pred_regr = regr.predict(X_test)"
   ]
  },
  {
   "cell_type": "markdown",
   "metadata": {},
   "source": [
    "#### Prediction error plot"
   ]
  },
  {
   "cell_type": "markdown",
   "metadata": {},
   "source": [
    "+ На вертикальной оси - предсказанные значения, на горизонтальной - реальные. \n",
    "+ Чем ближе точки к диагонали, тем более точным является предсказание модели. \n",
    "+ Позволяет оценить на сколько и в какую сторону ошибается модель. \n",
    "+ В частности здесь мы видим, что она чаще занижает результаты (больше точек расположено ниже диагонали)"
   ]
  },
  {
   "cell_type": "code",
   "execution_count": null,
   "metadata": {
    "scrolled": true
   },
   "outputs": [],
   "source": [
    "fig, ax = plt.subplots()\n",
    "# рисуем синие точки, каждая точка - отдельный объект из тестовой выборки\n",
    "ax.scatter(x=y_test, y=y_pred_regr)\n",
    "# рисуем диагональ \n",
    "ax.plot([y_test.min(), y_test.max()], [y_test.min(), y_test.max()], 'k--', lw=4)\n",
    "# подписываем оси\n",
    "ax.set_xlabel('Real')\n",
    "ax.set_ylabel('Predicted')\n",
    "plt.show()"
   ]
  },
  {
   "cell_type": "markdown",
   "metadata": {},
   "source": [
    "#### True and predicted values plot"
   ]
  },
  {
   "cell_type": "markdown",
   "metadata": {},
   "source": [
    "Просто нарисуем для каждого объекта его реальное и предсказанное значение."
   ]
  },
  {
   "cell_type": "code",
   "execution_count": null,
   "metadata": {},
   "outputs": [],
   "source": [
    "# y_test_sorted = [tst for tst, pred in sorted(zip(y_test, y_pred_regr))]\n",
    "# y_pred_sorted = [pred for tst, pred in sorted(zip(y_test, y_pred_regr))]"
   ]
  },
  {
   "cell_type": "code",
   "execution_count": null,
   "metadata": {},
   "outputs": [],
   "source": [
    "fig, ax = plt.subplots(figsize=(15, 7))\n",
    "\n",
    "y_true = y_test\n",
    "y_pred = y_pred_regr\n",
    "\n",
    "# рисуем точки соотвествующие каждому объекту\n",
    "ax.scatter(x=range(0, len(y_true)), y=y_true, label='true')\n",
    "ax.scatter(x=range(0, len(y_true)), y=y_pred, label='predicted')\n",
    "\n",
    "# соединяем точки линией\n",
    "ax.plot(range(0, len(y_true)),y_true)\n",
    "ax.plot(range(0, len(y_true)), y_pred)\n",
    "\n",
    "plt.legend(loc='lower right')\n",
    "\n",
    "plt.show()"
   ]
  },
  {
   "cell_type": "markdown",
   "metadata": {},
   "source": [
    "### Классификация"
   ]
  },
  {
   "cell_type": "markdown",
   "metadata": {},
   "source": [
    "Будем предсказывать не конкретную оценку, а ее характеристику\n",
    "+ exc 17-20\n",
    "+ good - 13-16\n",
    "+ sat - 8-12\n",
    "+ fail - 0-7"
   ]
  },
  {
   "cell_type": "code",
   "execution_count": null,
   "metadata": {},
   "outputs": [],
   "source": [
    "def encode_grade(grade: float):\n",
    "    if grade <= 7:\n",
    "        return 'fail'\n",
    "    if 8 <= grade <= 12:\n",
    "        return 'sat'\n",
    "    if 13 <= grade <= 16:\n",
    "        return 'good'\n",
    "    if 17 <= grade <= 20:\n",
    "        return 'exc'"
   ]
  },
  {
   "cell_type": "code",
   "execution_count": null,
   "metadata": {},
   "outputs": [],
   "source": [
    "y_train_clf = [encode_grade(grade) for grade in y_train]\n",
    "y_test_clf = [encode_grade(grade) for grade in y_test]"
   ]
  },
  {
   "cell_type": "code",
   "execution_count": null,
   "metadata": {},
   "outputs": [],
   "source": [
    "from sklearn.neighbors import KNeighborsClassifier"
   ]
  },
  {
   "cell_type": "code",
   "execution_count": null,
   "metadata": {},
   "outputs": [],
   "source": [
    "clf = KNeighborsClassifier()"
   ]
  },
  {
   "cell_type": "code",
   "execution_count": null,
   "metadata": {},
   "outputs": [],
   "source": [
    "clf.fit(X_train, y_train_clf)"
   ]
  },
  {
   "cell_type": "code",
   "execution_count": null,
   "metadata": {},
   "outputs": [],
   "source": [
    "y_pred_clf = clf.predict(X_test)"
   ]
  },
  {
   "cell_type": "code",
   "execution_count": null,
   "metadata": {},
   "outputs": [],
   "source": [
    "from sklearn.metrics import classification_report, confusion_matrix"
   ]
  },
  {
   "cell_type": "code",
   "execution_count": null,
   "metadata": {
    "scrolled": true
   },
   "outputs": [],
   "source": [
    "print(classification_report(y_test_clf, y_pred_clf))"
   ]
  },
  {
   "cell_type": "markdown",
   "metadata": {},
   "source": [
    "#### Confusion matrix"
   ]
  },
  {
   "cell_type": "code",
   "execution_count": null,
   "metadata": {},
   "outputs": [],
   "source": [
    "print(confusion_matrix(y_test_clf, y_pred_clf, labels=['exc', 'good', 'sat', 'fail']))"
   ]
  },
  {
   "cell_type": "code",
   "execution_count": null,
   "metadata": {},
   "outputs": [],
   "source": [
    "plt.figure(figsize=(6, 5)) # регулируем размер графика\n",
    "\n",
    "sns.heatmap(confusion_matrix(y_test_clf, y_pred_clf, \n",
    "                             labels=['exc', 'good', 'sat', 'fail']), # таблица\n",
    "            xticklabels=['exc', 'good', 'sat', 'fail'], # названия столбцов\n",
    "            yticklabels=['exc', 'good', 'sat', 'fail'], # названия колонок\n",
    "           annot=True) # подписать значения на цветных квадратиках\n",
    "           \n",
    "# добавляем название\n",
    "plt.title('Confusion matrix', fontsize=12)\n",
    "\n",
    "plt.ylabel('True') # true - строчки\n",
    "plt.xlabel('Predicted') # predicted - столбцы\n",
    "\n",
    "plt.show()"
   ]
  },
  {
   "cell_type": "markdown",
   "metadata": {},
   "source": [
    "#### Самое шикарное - отобразить признаки в двумерное пространство и раскрасить в цвета классов"
   ]
  },
  {
   "cell_type": "code",
   "execution_count": null,
   "metadata": {},
   "outputs": [],
   "source": [
    "from sklearn.decomposition import PCA\n",
    "from sklearn.manifold import TSNE"
   ]
  },
  {
   "cell_type": "code",
   "execution_count": null,
   "metadata": {},
   "outputs": [],
   "source": [
    "model = TSNE(n_components=2)"
   ]
  },
  {
   "cell_type": "code",
   "execution_count": null,
   "metadata": {},
   "outputs": [],
   "source": [
    "# model.fit(data)\n",
    "Z = model.fit_transform(X_test)\n",
    "\n",
    "x_axis_2d = Z[:, 0]\n",
    "y_axis_2d = Z[:, 1]"
   ]
  },
  {
   "cell_type": "code",
   "execution_count": null,
   "metadata": {},
   "outputs": [],
   "source": [
    "order = ['exc', 'good', 'sat', 'fail']\n",
    "\n",
    "fig, (ax1, ax2) = plt.subplots(1, 2, figsize=(10, 5))\n",
    "\n",
    "ax1.set_title('Predicted classes')\n",
    "scatter = ax1.scatter(x_axis_2d, y_axis_2d, c=[order.index(i) for i in y_pred_clf])\n",
    "legend = ax1.legend(*scatter.legend_elements()[:-1], order)\n",
    "\n",
    "scatter2 = ax2.scatter(x_axis_2d, y_axis_2d, c=[order.index(i) for i in y_test_clf])\n",
    "ax2.set_title('True classes')\n",
    "legend = ax2.legend(*scatter2.legend_elements()[:-1], order)"
   ]
  }
 ],
 "metadata": {
  "colab": {
   "collapsed_sections": [
    "LOLAtkIW3yYz",
    "c5HZgTOw2Ixi",
    "zn5rqAbIhMjK",
    "Duxhd3f1jenJ",
    "kVgkSRUzbTtp",
    "YenCSjzRWuLy",
    "8lFdlBBKdlcv",
    "QKMOD0xBfICy"
   ],
   "name": "seminar18.ipynb",
   "provenance": []
  },
  "kernelspec": {
   "display_name": "Python 3",
   "language": "python",
   "name": "python3"
  },
  "language_info": {
   "codemirror_mode": {
    "name": "ipython",
    "version": 3
   },
   "file_extension": ".py",
   "mimetype": "text/x-python",
   "name": "python",
   "nbconvert_exporter": "python",
   "pygments_lexer": "ipython3",
   "version": "3.7.4"
  }
 },
 "nbformat": 4,
 "nbformat_minor": 1
}
