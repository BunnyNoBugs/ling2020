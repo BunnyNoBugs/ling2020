{
 "cells": [
  {
   "cell_type": "markdown",
   "metadata": {},
   "source": [
    "## Декораторы"
   ]
  },
  {
   "cell_type": "markdown",
   "metadata": {},
   "source": [
    "**Декоратор** - функция-обертка для другой функции, позволяющая изменить ее поведение, не меняя кода. "
   ]
  },
  {
   "cell_type": "code",
   "execution_count": 29,
   "metadata": {},
   "outputs": [],
   "source": [
    "def my_func(num):\n",
    "    for i in range(num):\n",
    "        print('Я просто функция...')"
   ]
  },
  {
   "cell_type": "code",
   "execution_count": 30,
   "metadata": {},
   "outputs": [
    {
     "name": "stdout",
     "output_type": "stream",
     "text": [
      "Я просто функция...\n",
      "Я просто функция...\n",
      "Я просто функция...\n",
      "Я просто функция...\n",
      "Я просто функция...\n"
     ]
    }
   ],
   "source": [
    "my_func(5)"
   ]
  },
  {
   "cell_type": "code",
   "execution_count": 31,
   "metadata": {},
   "outputs": [],
   "source": [
    "def my_decorator(func):\n",
    "    def wrapper(*args, **kwargs): \n",
    "        print('Я декоратор! Начинаю работу!')\n",
    "        func(*args, **kwargs)\n",
    "        print('Я декоратор! Заканчиваю работу!')\n",
    "    return wrapper"
   ]
  },
  {
   "cell_type": "code",
   "execution_count": 35,
   "metadata": {
    "scrolled": true
   },
   "outputs": [
    {
     "name": "stdout",
     "output_type": "stream",
     "text": [
      "Я декоратор! Начинаю работу!\n",
      "Я просто функция...\n",
      "Я просто функция...\n",
      "Я просто функция...\n",
      "Я просто функция...\n",
      "Я просто функция...\n",
      "Я декоратор! Заканчиваю работу!\n"
     ]
    }
   ],
   "source": [
    "# можно вызвать просто как функцию от функции\n",
    "my_decorator(my_func)(5)"
   ]
  },
  {
   "cell_type": "code",
   "execution_count": 6,
   "metadata": {},
   "outputs": [],
   "source": [
    "# но обычно делают так \n",
    "@my_decorator\n",
    "def my_func(num):\n",
    "    for i in range(num):\n",
    "        print('Я просто функция...')"
   ]
  },
  {
   "cell_type": "code",
   "execution_count": 36,
   "metadata": {
    "scrolled": true
   },
   "outputs": [
    {
     "name": "stdout",
     "output_type": "stream",
     "text": [
      "Я просто функция...\n"
     ]
    }
   ],
   "source": [
    "my_func(1)"
   ]
  },
  {
   "cell_type": "code",
   "execution_count": 9,
   "metadata": {},
   "outputs": [],
   "source": [
    "def double(func):\n",
    "    def wrapper(*args, **kwargs): \n",
    "        result = func(*args, **kwargs) * 2\n",
    "        return result # декоратор также может возвращать какой-то результат\n",
    "    return wrapper"
   ]
  },
  {
   "cell_type": "code",
   "execution_count": 10,
   "metadata": {},
   "outputs": [],
   "source": [
    "@double\n",
    "def add_10(num):\n",
    "    return num+10"
   ]
  },
  {
   "cell_type": "code",
   "execution_count": 11,
   "metadata": {},
   "outputs": [],
   "source": [
    "@double\n",
    "def add_1(num):\n",
    "    return num+1"
   ]
  },
  {
   "cell_type": "code",
   "execution_count": 12,
   "metadata": {},
   "outputs": [
    {
     "data": {
      "text/plain": [
       "22"
      ]
     },
     "execution_count": 12,
     "metadata": {},
     "output_type": "execute_result"
    }
   ],
   "source": [
    "add_10(1)"
   ]
  },
  {
   "cell_type": "code",
   "execution_count": 27,
   "metadata": {},
   "outputs": [
    {
     "data": {
      "text/plain": [
       "4"
      ]
     },
     "execution_count": 27,
     "metadata": {},
     "output_type": "execute_result"
    }
   ],
   "source": [
    "add_1(1)"
   ]
  },
  {
   "cell_type": "markdown",
   "metadata": {},
   "source": [
    "**Задание**: написать декоратор, который напечатает время работы функции и вернет ее результат"
   ]
  },
  {
   "cell_type": "code",
   "execution_count": 18,
   "metadata": {},
   "outputs": [],
   "source": [
    "import time "
   ]
  },
  {
   "cell_type": "code",
   "execution_count": 69,
   "metadata": {},
   "outputs": [
    {
     "name": "stdout",
     "output_type": "stream",
     "text": [
      "1574965004.98985 seconds\n",
      "1574965015.00109 seconds\n"
     ]
    }
   ],
   "source": [
    "start = time.time() # текущее время в секундах с начала эпохи (1 Января, 1970, 00:00:00 UTC)\n",
    "time.sleep(1) # подождать 1 секунду\n",
    "end = time.time() # текущее время в секундах \n",
    "delta = end - start \n",
    "print('%.5f seconds' % delta) # напечатать с округлением до 5 цифр после запятой"
   ]
  },
  {
   "cell_type": "markdown",
   "metadata": {},
   "source": [
    "**Задание**: написать декоратор, который делает так, что задекорированная функция принимает все свои неименованные аргументы в порядке, обратном тому, в котором их передали."
   ]
  },
  {
   "cell_type": "markdown",
   "metadata": {},
   "source": [
    "Пример работы:"
   ]
  },
  {
   "cell_type": "code",
   "execution_count": 81,
   "metadata": {},
   "outputs": [],
   "source": [
    "@revert_args \n",
    "def divide(num1, num2):\n",
    "    return num1/num2"
   ]
  },
  {
   "cell_type": "code",
   "execution_count": 78,
   "metadata": {},
   "outputs": [],
   "source": [
    "divide(2, 10)\n",
    "# 5.0 "
   ]
  },
  {
   "cell_type": "markdown",
   "metadata": {},
   "source": [
    "**Задание**: написать декоратор optional_introduce, который делает так, что у задекорированной функции появляется дополнительный параметр introduce со значением False по умолчанию, если функция вызвана с introduce=True, то она перед возвращением результата напечатает своё имя, а если с introduce=False или без явного указания introduce вовсе, то она просто вернёт результат.\n",
    "\n",
    "Советы:\n",
    "+ Погуглите, как из объекта функции, получить ее имя в виде строки.\n",
    "+ Именованные аргументы со значением по умолчанию идут после \\*args, но перед \\*\\*kwargs."
   ]
  },
  {
   "cell_type": "markdown",
   "metadata": {},
   "source": [
    "Пример работы:"
   ]
  },
  {
   "cell_type": "code",
   "execution_count": 98,
   "metadata": {},
   "outputs": [],
   "source": [
    "@optional_introduce\n",
    "def divide(num1, num2):\n",
    "    return num1/num2"
   ]
  },
  {
   "cell_type": "code",
   "execution_count": 99,
   "metadata": {},
   "outputs": [
    {
     "name": "stdout",
     "output_type": "stream",
     "text": [
      "divide\n"
     ]
    },
    {
     "data": {
      "text/plain": [
       "5.0"
      ]
     },
     "execution_count": 99,
     "metadata": {},
     "output_type": "execute_result"
    }
   ],
   "source": [
    "divide(10, 2)\n",
    "# divide\n",
    "# 5.0"
   ]
  },
  {
   "cell_type": "code",
   "execution_count": null,
   "metadata": {},
   "outputs": [],
   "source": [
    "https://pypi.org/project/ratelimit/"
   ]
  },
  {
   "cell_type": "markdown",
   "metadata": {},
   "source": [
    "Еще немного про декораторы с параметрами"
   ]
  },
  {
   "cell_type": "code",
   "execution_count": 20,
   "metadata": {},
   "outputs": [],
   "source": [
    "def outer_decorator(mult=1):\n",
    "    def inner_decorator(func):\n",
    "        def wrapper(*args, **kwargs): \n",
    "            for _ in range(mult):\n",
    "                print('Я декоратор! Начинаю работу!')\n",
    "            func(*args, **kwargs)\n",
    "            print('Я декоратор! Заканчиваю работу!')\n",
    "        return wrapper\n",
    "    \n",
    "    return inner_decorator"
   ]
  },
  {
   "cell_type": "code",
   "execution_count": null,
   "metadata": {},
   "outputs": [],
   "source": []
  },
  {
   "cell_type": "code",
   "execution_count": 25,
   "metadata": {},
   "outputs": [],
   "source": [
    "@outer_decorator(10)\n",
    "def t(x):\n",
    "    print(x)"
   ]
  },
  {
   "cell_type": "code",
   "execution_count": 27,
   "metadata": {
    "scrolled": true
   },
   "outputs": [
    {
     "name": "stdout",
     "output_type": "stream",
     "text": [
      "Я декоратор! Начинаю работу!\n",
      "Я декоратор! Начинаю работу!\n",
      "Я декоратор! Начинаю работу!\n",
      "Я декоратор! Начинаю работу!\n",
      "Я декоратор! Начинаю работу!\n",
      "Я декоратор! Начинаю работу!\n",
      "Я декоратор! Начинаю работу!\n",
      "Я декоратор! Начинаю работу!\n",
      "Я декоратор! Начинаю работу!\n",
      "Я декоратор! Начинаю работу!\n",
      "test\n",
      "Я декоратор! Заканчиваю работу!\n"
     ]
    }
   ],
   "source": [
    "t('test')"
   ]
  },
  {
   "cell_type": "markdown",
   "metadata": {},
   "source": [
    "## Дополнительные материалы"
   ]
  },
  {
   "cell_type": "markdown",
   "metadata": {},
   "source": [
    "\n",
    "+ [Урок на степике, из котрого были честно позаимствованы двазадания про декораторы](https://stepik.org/lesson/63305/step/6)"
   ]
  },
  {
   "cell_type": "code",
   "execution_count": null,
   "metadata": {},
   "outputs": [],
   "source": []
  }
 ],
 "metadata": {
  "kernelspec": {
   "display_name": "Python 3",
   "language": "python",
   "name": "python3"
  },
  "language_info": {
   "codemirror_mode": {
    "name": "ipython",
    "version": 3
   },
   "file_extension": ".py",
   "mimetype": "text/x-python",
   "name": "python",
   "nbconvert_exporter": "python",
   "pygments_lexer": "ipython3",
   "version": "3.8.5"
  }
 },
 "nbformat": 4,
 "nbformat_minor": 2
}
